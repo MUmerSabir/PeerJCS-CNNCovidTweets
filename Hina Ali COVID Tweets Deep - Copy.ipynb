{
 "cells": [
  {
   "cell_type": "code",
   "execution_count": 1,
   "metadata": {},
   "outputs": [],
   "source": [
    "# importing all necessary libraries to run the code\n",
    "import pandas as pd\n",
    "import numpy as np\n",
    "import matplotlib.pyplot as plt\n",
    "from nltk.corpus import stopwords\n",
    "from nltk.stem import PorterStemmer\n",
    "from nltk import NaiveBayesClassifier\n",
    "from sklearn.model_selection import train_test_split\n",
    "from nltk.stem import PorterStemmer\n",
    "import re\n",
    "# using the variable sw to hold all stopwords that are in English\n",
    "sw = stopwords.words('english')"
   ]
  },
  {
   "cell_type": "code",
   "execution_count": 2,
   "metadata": {},
   "outputs": [
    {
     "data": {
      "text/html": [
       "<div>\n",
       "<style scoped>\n",
       "    .dataframe tbody tr th:only-of-type {\n",
       "        vertical-align: middle;\n",
       "    }\n",
       "\n",
       "    .dataframe tbody tr th {\n",
       "        vertical-align: top;\n",
       "    }\n",
       "\n",
       "    .dataframe thead th {\n",
       "        text-align: right;\n",
       "    }\n",
       "</style>\n",
       "<table border=\"1\" class=\"dataframe\">\n",
       "  <thead>\n",
       "    <tr style=\"text-align: right;\">\n",
       "      <th></th>\n",
       "      <th>text</th>\n",
       "      <th>favorited</th>\n",
       "      <th>favoriteCount</th>\n",
       "      <th>replyToSN</th>\n",
       "      <th>created</th>\n",
       "      <th>truncated</th>\n",
       "      <th>replyToSID</th>\n",
       "      <th>id</th>\n",
       "      <th>replyToUID</th>\n",
       "      <th>statusSource</th>\n",
       "      <th>screenName</th>\n",
       "      <th>retweetCount</th>\n",
       "      <th>isRetweet</th>\n",
       "      <th>retweeted</th>\n",
       "      <th>longitude</th>\n",
       "      <th>latitude</th>\n",
       "    </tr>\n",
       "  </thead>\n",
       "  <tbody>\n",
       "    <tr>\n",
       "      <th>1</th>\n",
       "      <td>RT @kahruveldesign: …he wrote on Jan. 23. “My ...</td>\n",
       "      <td>False</td>\n",
       "      <td>0</td>\n",
       "      <td>NaN</td>\n",
       "      <td>2020-05-09 22:25:07</td>\n",
       "      <td>False</td>\n",
       "      <td>NaN</td>\n",
       "      <td>1259248057582940161</td>\n",
       "      <td>NaN</td>\n",
       "      <td>&lt;a href=\"http://twitter.com/download/android\" ...</td>\n",
       "      <td>thinkalot</td>\n",
       "      <td>1</td>\n",
       "      <td>True</td>\n",
       "      <td>False</td>\n",
       "      <td>NaN</td>\n",
       "      <td>NaN</td>\n",
       "    </tr>\n",
       "  </tbody>\n",
       "</table>\n",
       "</div>"
      ],
      "text/plain": [
       "                                                text  favorited  \\\n",
       "1  RT @kahruveldesign: …he wrote on Jan. 23. “My ...      False   \n",
       "\n",
       "   favoriteCount replyToSN             created  truncated  replyToSID  \\\n",
       "1              0       NaN 2020-05-09 22:25:07      False         NaN   \n",
       "\n",
       "                    id  replyToUID  \\\n",
       "1  1259248057582940161         NaN   \n",
       "\n",
       "                                        statusSource screenName  retweetCount  \\\n",
       "1  <a href=\"http://twitter.com/download/android\" ...  thinkalot             1   \n",
       "\n",
       "   isRetweet  retweeted  longitude  latitude  \n",
       "1       True      False        NaN       NaN  "
      ]
     },
     "execution_count": 2,
     "metadata": {},
     "output_type": "execute_result"
    }
   ],
   "source": [
    "data = pd.read_excel(\"US-BasedCovid19Tweets.xlsx\") \n",
    "data.head(1)"
   ]
  },
  {
   "cell_type": "code",
   "execution_count": 14,
   "metadata": {},
   "outputs": [
    {
     "data": {
      "text/plain": [
       "Sentiment(polarity=-0.8, subjectivity=0.9)"
      ]
     },
     "execution_count": 14,
     "metadata": {},
     "output_type": "execute_result"
    }
   ],
   "source": [
    "from textblob import TextBlob\n",
    "t = TextBlob(\"He is a cheater. i hate him\")\n",
    "t.sentiment "
   ]
  },
  {
   "cell_type": "code",
   "execution_count": 3,
   "metadata": {},
   "outputs": [
    {
     "data": {
      "text/html": [
       "<div>\n",
       "<style scoped>\n",
       "    .dataframe tbody tr th:only-of-type {\n",
       "        vertical-align: middle;\n",
       "    }\n",
       "\n",
       "    .dataframe tbody tr th {\n",
       "        vertical-align: top;\n",
       "    }\n",
       "\n",
       "    .dataframe thead th {\n",
       "        text-align: right;\n",
       "    }\n",
       "</style>\n",
       "<table border=\"1\" class=\"dataframe\">\n",
       "  <thead>\n",
       "    <tr style=\"text-align: right;\">\n",
       "      <th></th>\n",
       "      <th>text</th>\n",
       "      <th>favorited</th>\n",
       "      <th>favoriteCount</th>\n",
       "      <th>replyToSN</th>\n",
       "      <th>created</th>\n",
       "      <th>truncated</th>\n",
       "      <th>replyToSID</th>\n",
       "      <th>id</th>\n",
       "      <th>replyToUID</th>\n",
       "      <th>statusSource</th>\n",
       "      <th>screenName</th>\n",
       "      <th>retweetCount</th>\n",
       "      <th>isRetweet</th>\n",
       "      <th>retweeted</th>\n",
       "      <th>longitude</th>\n",
       "      <th>latitude</th>\n",
       "    </tr>\n",
       "  </thead>\n",
       "  <tbody>\n",
       "    <tr>\n",
       "      <th>1</th>\n",
       "      <td>@kahruveldesign: …he wrote Jan. 23. “My phones...</td>\n",
       "      <td>False</td>\n",
       "      <td>0</td>\n",
       "      <td>NaN</td>\n",
       "      <td>2020-05-09 22:25:07</td>\n",
       "      <td>False</td>\n",
       "      <td>NaN</td>\n",
       "      <td>1259248057582940161</td>\n",
       "      <td>NaN</td>\n",
       "      <td>&lt;a href=\"http://twitter.com/download/android\" ...</td>\n",
       "      <td>thinkalot</td>\n",
       "      <td>1</td>\n",
       "      <td>True</td>\n",
       "      <td>False</td>\n",
       "      <td>NaN</td>\n",
       "      <td>NaN</td>\n",
       "    </tr>\n",
       "    <tr>\n",
       "      <th>2</th>\n",
       "      <td>Please Share This Warning. It's Not About Popu...</td>\n",
       "      <td>False</td>\n",
       "      <td>0</td>\n",
       "      <td>NaN</td>\n",
       "      <td>2020-05-09 22:22:13</td>\n",
       "      <td>True</td>\n",
       "      <td>NaN</td>\n",
       "      <td>1259247327904256003</td>\n",
       "      <td>NaN</td>\n",
       "      <td>&lt;a href=\"http://twitter.com/download/iphone\" r...</td>\n",
       "      <td>DRandall</td>\n",
       "      <td>0</td>\n",
       "      <td>False</td>\n",
       "      <td>False</td>\n",
       "      <td>NaN</td>\n",
       "      <td>NaN</td>\n",
       "    </tr>\n",
       "  </tbody>\n",
       "</table>\n",
       "</div>"
      ],
      "text/plain": [
       "                                                text  favorited  \\\n",
       "1  @kahruveldesign: …he wrote Jan. 23. “My phones...      False   \n",
       "2  Please Share This Warning. It's Not About Popu...      False   \n",
       "\n",
       "   favoriteCount replyToSN             created  truncated  replyToSID  \\\n",
       "1              0       NaN 2020-05-09 22:25:07      False         NaN   \n",
       "2              0       NaN 2020-05-09 22:22:13       True         NaN   \n",
       "\n",
       "                    id  replyToUID  \\\n",
       "1  1259248057582940161         NaN   \n",
       "2  1259247327904256003         NaN   \n",
       "\n",
       "                                        statusSource screenName  retweetCount  \\\n",
       "1  <a href=\"http://twitter.com/download/android\" ...  thinkalot             1   \n",
       "2  <a href=\"http://twitter.com/download/iphone\" r...   DRandall             0   \n",
       "\n",
       "   isRetweet  retweeted  longitude  latitude  \n",
       "1       True      False        NaN       NaN  \n",
       "2      False      False        NaN       NaN  "
      ]
     },
     "execution_count": 3,
     "metadata": {},
     "output_type": "execute_result"
    }
   ],
   "source": [
    "from nltk.corpus import stopwords\n",
    "#applying pre-processing steps to remove stopwords and words of size less than 2\n",
    "data['text'] = data['text'].apply(lambda x: x.split())\n",
    "wordsEng = stopwords.words('english')\n",
    "data['text'] = data['text'].apply(lambda x:[item for item in x if item not in wordsEng])\n",
    "data['text'] = data['text'].apply(lambda x: [w for w in x if len(w)>2])\n",
    "data['text'] = data['text'].apply(lambda x: \" \".join(x))\n",
    "data.head(2)"
   ]
  },
  {
   "cell_type": "code",
   "execution_count": 4,
   "metadata": {},
   "outputs": [],
   "source": [
    "data.reset_index(inplace=True)"
   ]
  },
  {
   "cell_type": "code",
   "execution_count": 5,
   "metadata": {},
   "outputs": [],
   "source": [
    "# using the variable sw to hold all stopwords that are in English\n",
    "sw = stopwords.words('english')\n",
    "TEXT=[]\n",
    "#Rating=[]\n",
    "for i in range(len(data)):\n",
    "    #if data['cetagory'][i]=='Racing':\n",
    "    review = re.sub('[^a-zA-Z]', ' ',data['text'][i])\n",
    "    #review = re.sub('[/(){}\\[\\]\\|@!,;]', ' ',data['reviews'][i])\n",
    "    #review = re.sub('[^0-9a-zA-Z #+_♥️]', ' ',data['reviews'][i])#Remove bad symbols\n",
    "    review = re.sub(r'\\d+', '',review)\n",
    "    review = review.lower()\n",
    "    review = review.split()\n",
    "\n",
    "    review = [token for token in review if token not in sw]\n",
    "    review=' '.join(review)\n",
    "    TEXT.append(review)\n",
    "    #Rating.append(data['rating'][i])"
   ]
  },
  {
   "cell_type": "code",
   "execution_count": 8,
   "metadata": {},
   "outputs": [
    {
     "name": "stderr",
     "output_type": "stream",
     "text": [
      "C:\\Users\\Muhammad Umer\\Anaconda3\\lib\\site-packages\\nltk\\twitter\\__init__.py:20: UserWarning: The twython library has not been installed. Some functionality from the twitter package will not be available.\n",
      "  warnings.warn(\"The twython library has not been installed. \"\n"
     ]
    }
   ],
   "source": [
    "from nltk.sentiment.vader import SentimentIntensityAnalyzer\n",
    "from textblob import TextBlob\n",
    "sid = SentimentIntensityAnalyzer()\n",
    "NegativeReview=[]\n",
    "PositiveReview=[]\n",
    "from textblob import TextBlob\n",
    "# the variable 'message_text' now contains the text we will analyze.\n",
    "for i in range(len(data)):   \n",
    "    #message_text = 'i hate you'\n",
    "\n",
    "#print(message_text)\n",
    "\n",
    "# Calling the polarity_scores method on sid and passing in the message_text outputs a dictionary with negative, neutral, positive, and compound scores for the input text\n",
    "    b = TextBlob(data.text[i])\n",
    "    #scores = sid.polarity_scores(data.reviews[i])\n",
    "    value=b.sentiment[0]\n",
    "    if value<=0:\n",
    "        NegativeReview.append('Negative')\n",
    "    else:\n",
    "        PositiveReview.append('Positive')\n"
   ]
  },
  {
   "cell_type": "code",
   "execution_count": 6,
   "metadata": {},
   "outputs": [
    {
     "name": "stderr",
     "output_type": "stream",
     "text": [
      "C:\\Users\\Muhammad Umer\\Anaconda3\\lib\\site-packages\\nltk\\twitter\\__init__.py:20: UserWarning: The twython library has not been installed. Some functionality from the twitter package will not be available.\n",
      "  warnings.warn(\"The twython library has not been installed. \"\n"
     ]
    }
   ],
   "source": [
    "from nltk.sentiment.vader import SentimentIntensityAnalyzer\n",
    "from textblob import TextBlob\n",
    "sid = SentimentIntensityAnalyzer()\n",
    "Sentiment=[]\n",
    "\n",
    "from textblob import TextBlob\n",
    "# the variable 'message_text' now contains the text we will analyze.\n",
    "for i in range(len(data)):   \n",
    "    #message_text = 'i hate you'\n",
    "\n",
    "#print(message_text)\n",
    "\n",
    "# Calling the polarity_scores method on sid and passing in the message_text outputs a dictionary with negative, neutral, positive, and compound scores for the input text\n",
    "    b = TextBlob(data.text[i])\n",
    "    #scores = sid.polarity_scores(data.reviews[i])\n",
    "    value=b.sentiment[0]\n",
    "    if value<=0:\n",
    "        Sentiment.append(0)\n",
    "    else:\n",
    "        Sentiment.append(1)\n"
   ]
  },
  {
   "cell_type": "code",
   "execution_count": 8,
   "metadata": {},
   "outputs": [],
   "source": [
    "import os\n",
    "import numpy as np\n",
    "import tensorflow as tf\n",
    "import matplotlib.pyplot as plt\n",
    "\n",
    "from sklearn.feature_extraction.text import CountVectorizer\n",
    "from sklearn.feature_extraction.text import TfidfVectorizer\n",
    "from sklearn.feature_selection import SelectKBest\n",
    "from sklearn.feature_selection import f_classif\n",
    "\n",
    "from tensorflow.python.keras import models\n",
    "from tensorflow.python.keras.layers import Dense\n",
    "from tensorflow.python.keras.layers import Dropout"
   ]
  },
  {
   "cell_type": "code",
   "execution_count": 19,
   "metadata": {},
   "outputs": [],
   "source": [
    "trX,ttX,trY,ttY = train_test_split(TEXT,Sentiment, test_size = 0.3)"
   ]
  },
  {
   "cell_type": "code",
   "execution_count": 20,
   "metadata": {},
   "outputs": [],
   "source": [
    "trX = np.array(trX)\n",
    "trY = np.array(trY)\n",
    "ttX = np.array(ttX)\n",
    "ttY = np.array(ttY)\n"
   ]
  },
  {
   "cell_type": "code",
   "execution_count": 21,
   "metadata": {},
   "outputs": [
    {
     "name": "stdout",
     "output_type": "stream",
     "text": [
      "Train samples shape : (8300,)\n",
      "Train labels shape  : (8300,)\n",
      "Test samples shape  : (3558,)\n",
      "Test labels shape   : (3558,)\n"
     ]
    }
   ],
   "source": [
    "print ('Train samples shape :', trX.shape)\n",
    "print ('Train labels shape  :', trY.shape)\n",
    "print ('Test samples shape  :', ttX.shape)\n",
    "print ('Test labels shape   :', ttY.shape)"
   ]
  },
  {
   "cell_type": "code",
   "execution_count": 22,
   "metadata": {},
   "outputs": [],
   "source": [
    "NGRAM_RANGE = (1,1)\n",
    "TOP_K = 30000\n",
    "TOKEN_MODE = 'word'\n",
    "MIN_DOC_FREQ = 2\n",
    "\n",
    "def ngram_vectorize(train_texts, train_labels, val_texts):\n",
    "    kwargs = {\n",
    "        'ngram_range' : NGRAM_RANGE,\n",
    "        'dtype' : 'int32',\n",
    "        'strip_accents' : 'unicode',\n",
    "        'decode_error' : 'replace',\n",
    "        'analyzer' : TOKEN_MODE,\n",
    "        'min_df' : MIN_DOC_FREQ,\n",
    "    }\n",
    "    \n",
    "    # Learn Vocab from train texts and vectorize train and val sets\n",
    "    tfidf_vectorizer = TfidfVectorizer(**kwargs)\n",
    "    x_train = tfidf_vectorizer.fit_transform(train_texts)\n",
    "    x_val = tfidf_vectorizer.transform(val_texts)\n",
    "    \n",
    "    # Select best k features, with feature importance measured by f_classif\n",
    "    selector = SelectKBest(f_classif, k=min(TOP_K, x_train.shape[1]))\n",
    "    selector.fit(x_train, train_labels)\n",
    "    x_train = selector.transform(x_train).astype('float32')\n",
    "    x_val = selector.transform(x_val).astype('float32')\n",
    "    return x_train, x_val"
   ]
  },
  {
   "cell_type": "code",
   "execution_count": 23,
   "metadata": {},
   "outputs": [],
   "source": [
    "def get_last_layer_units_and_activation(num_classes):\n",
    "    if num_classes == 2:\n",
    "        activation = 'sigmoid'\n",
    "        units = 1\n",
    "    else:\n",
    "        activation = 'softmax'\n",
    "        units = num_classes\n",
    "    return units, activation"
   ]
  },
  {
   "cell_type": "code",
   "execution_count": 34,
   "metadata": {},
   "outputs": [],
   "source": [
    "def mlp_model(layers, units, dropout_rate, input_shape, num_classes):\n",
    "    op_units, op_activation = get_last_layer_units_and_activation(num_classes)\n",
    "    model = models.Sequential()\n",
    "    model.add(Dropout(rate=dropout_rate, input_shape=input_shape))\n",
    "    \n",
    "    for _ in range(layers-1):\n",
    "        model.add(Dense(units=units, activation='relu'))\n",
    "        model.add(Dropout(rate=dropout_rate))\n",
    "        \n",
    "    model.add(Dense(units=op_units, activation=op_activation))\n",
    "    return model"
   ]
  },
  {
   "cell_type": "code",
   "execution_count": 41,
   "metadata": {},
   "outputs": [],
   "source": [
    "def evaluate_model(trX, trY, ttX, ttY):\n",
    "    import keras_metrics\n",
    "    learning_rate=1e-2\n",
    "    epochs=50\n",
    "    batch_size=128\n",
    "    layers=4\n",
    "    units=200\n",
    "    dropout_rate=0.5\n",
    "    num_classes = 2\n",
    "    # Get the data\n",
    "    trX, trY, ttX, ttY\n",
    "\n",
    "\n",
    "    # Vectorize the data\n",
    "    x_train, x_val = ngram_vectorize(trX, trY, ttX)\n",
    "\n",
    "    # Create model instance\n",
    "    model = mlp_model(layers, units=units, dropout_rate=dropout_rate,\n",
    "                      input_shape=x_train.shape[1:], num_classes=num_classes)\n",
    "\n",
    "    # Compile model with parameters\n",
    "    if num_classes == 2:\n",
    "        loss = 'binary_crossentropy'\n",
    "    else:\n",
    "        loss = 'sparse_categorical_crossentropy'\n",
    "    optimizer = tf.keras.optimizers.Adam(lr=learning_rate)\n",
    "    model.compile(optimizer=optimizer, loss=loss, metrics=['acc','mae',keras_metrics.precision(), keras_metrics.recall()])\n",
    "\n",
    "    # Create callback for early stopping on validation loss. If the loss does\n",
    "    # not decrease on two consecutive tries, stop training\n",
    "    callbacks = [tf.keras.callbacks.EarlyStopping(monitor='val_loss', patience=2)]\n",
    "    score=[]\n",
    "    # Train and validate model\n",
    "    History = model.fit(x_train, trY, epochs=epochs, validation_data=(x_val, ttY),\n",
    "                        verbose=2, batch_size=batch_size, callbacks=callbacks)\n",
    "    score=model.evaluate(x_val,ttY)\n",
    "    return score\n",
    "\n",
    "# Print results\n",
    "#history = History.history\n",
    "#val_acc = history['val_acc'][-1]\n",
    "#val_loss = history['val_loss'][-1]\n",
    "#val_precision=history['val_precision'][-1]\n",
    "#val_recall=history['val_recall'][-1]\n",
    "#print ('Validation accuracy: {acc}, loss: {loss}'.format(\n",
    "#        acc=val_acc, loss=val_loss))\n",
    "# Plot accuracy\n",
    "#plt.plot(History.history['acc'])\n",
    "#plt.plot(History.history['val_acc'])\n",
    "#plt.title('Model Accuracy')\n",
    "#plt.ylabel('Accuracy')\n",
    "#plt.xlabel('Epoch')\n",
    "#plt.legend(['Train', 'Validation'], loc='upper left')\n",
    "#plt.show()\n",
    "\n",
    "# Plot loss\n",
    "#plt.plot(History.history['loss'])\n",
    "#plt.plot(History.history['val_loss'])\n",
    "#plt.title('Model Loss')\n",
    "#plt.ylabel('Loss')\n",
    "#plt.xlabel('Epoch')\n",
    "#plt.legend(['Train', 'Validation'], loc='upper right')\n",
    "#plt.show()\n"
   ]
  },
  {
   "cell_type": "code",
   "execution_count": 42,
   "metadata": {},
   "outputs": [
    {
     "name": "stderr",
     "output_type": "stream",
     "text": [
      "C:\\Users\\Muhammad Umer\\Anaconda3\\lib\\site-packages\\sklearn\\feature_extraction\\text.py:1616: UserWarning: Only (<class 'numpy.float64'>, <class 'numpy.float32'>, <class 'numpy.float16'>) 'dtype' should be used. int32 'dtype' will be converted to np.float64.\n",
      "  UserWarning)\n"
     ]
    },
    {
     "name": "stdout",
     "output_type": "stream",
     "text": [
      "Train on 8300 samples, validate on 3558 samples\n",
      "Epoch 1/50\n",
      " - 12s - loss: 0.4491 - acc: 0.7888 - mean_absolute_error: 0.2901 - precision: 0.7723 - recall: 0.4909 - val_loss: 0.2848 - val_acc: 0.8806 - val_mean_absolute_error: 0.2035 - val_precision: 0.9666 - val_recall: 0.6641\n",
      "Epoch 2/50\n",
      " - 6s - loss: 0.2937 - acc: 0.8796 - mean_absolute_error: 0.1799 - precision: 0.8794 - recall: 0.7432 - val_loss: 0.2300 - val_acc: 0.9089 - val_mean_absolute_error: 0.1547 - val_precision: 0.9397 - val_recall: 0.7743\n",
      "Epoch 3/50\n",
      " - 4s - loss: 0.2437 - acc: 0.9041 - mean_absolute_error: 0.1452 - precision: 0.9083 - recall: 0.7967 - val_loss: 0.2137 - val_acc: 0.9157 - val_mean_absolute_error: 0.1325 - val_precision: 0.9372 - val_recall: 0.7986\n",
      "Epoch 4/50\n",
      " - 4s - loss: 0.2285 - acc: 0.9139 - mean_absolute_error: 0.1326 - precision: 0.9054 - recall: 0.8318 - val_loss: 0.2197 - val_acc: 0.9112 - val_mean_absolute_error: 0.1383 - val_precision: 0.9488 - val_recall: 0.7745\n",
      "Epoch 5/50\n",
      " - 4s - loss: 0.2178 - acc: 0.9140 - mean_absolute_error: 0.1273 - precision: 0.9130 - recall: 0.8266 - val_loss: 0.2193 - val_acc: 0.9084 - val_mean_absolute_error: 0.1309 - val_precision: 0.8767 - val_recall: 0.8414\n",
      "3558/3558 [==============================] - 1s 154us/step\n",
      "Printing Fold \n",
      "Loss: 0.21931\n",
      "validation accuracy: 0.90838\n",
      "Precision: 0.87664\n",
      "Recacll: 0.84250\n"
     ]
    }
   ],
   "source": [
    "# evaluate model\n",
    "score=[]\n",
    "score = evaluate_model(trX, trY, ttX, ttY)\n",
    "print(\"Printing Fold \" % range(n_folds))\n",
    "print(\"Loss: %.5f\" %(score[0]))\n",
    "print(\"validation accuracy: %.5f\" % (score[1]))\n",
    "print(\"Precision: %.5f\" %(score[3]))\n",
    "print(\"Recacll: %.5f\" %(score[4]))"
   ]
  },
  {
   "cell_type": "code",
   "execution_count": 26,
   "metadata": {},
   "outputs": [
    {
     "name": "stderr",
     "output_type": "stream",
     "text": [
      "C:\\Users\\Muhammad Umer\\Anaconda3\\lib\\site-packages\\sklearn\\feature_extraction\\text.py:1616: UserWarning: Only (<class 'numpy.float64'>, <class 'numpy.float32'>, <class 'numpy.float16'>) 'dtype' should be used. int32 'dtype' will be converted to np.float64.\n",
      "  UserWarning)\n"
     ]
    },
    {
     "name": "stdout",
     "output_type": "stream",
     "text": [
      "Train on 8300 samples, validate on 3558 samples\n",
      "Epoch 1/10\n",
      " - 9s - loss: 0.5634 - acc: 0.6952 - mean_absolute_error: 0.3991 - precision: 0.3130 - recall: 0.0978 - val_loss: 0.3919 - val_acc: 0.8612 - val_mean_absolute_error: 0.2743 - val_precision: 0.9771 - val_recall: 0.5972\n",
      "Epoch 2/10\n",
      " - 3s - loss: 0.2616 - acc: 0.9116 - mean_absolute_error: 0.1731 - precision: 0.9091 - recall: 0.8233 - val_loss: 0.2422 - val_acc: 0.9098 - val_mean_absolute_error: 0.1213 - val_precision: 0.9221 - val_recall: 0.7977\n",
      "Epoch 3/10\n",
      " - 2s - loss: 0.1350 - acc: 0.9496 - mean_absolute_error: 0.0814 - precision: 0.9347 - recall: 0.9146 - val_loss: 0.2595 - val_acc: 0.9120 - val_mean_absolute_error: 0.1062 - val_precision: 0.9355 - val_recall: 0.7922\n",
      "Epoch 4/10\n",
      " - 2s - loss: 0.0946 - acc: 0.9652 - mean_absolute_error: 0.0549 - precision: 0.9528 - recall: 0.9444 - val_loss: 0.2538 - val_acc: 0.9129 - val_mean_absolute_error: 0.1028 - val_precision: 0.9022 - val_recall: 0.8299\n",
      "3558/3558 [==============================] - 0s 114us/step\n",
      "Printing Fold \n",
      "Loss: 0.25382\n",
      "validation accuracy: 0.91287\n",
      "Precision: 0.90105\n",
      "Recacll: 0.83422\n"
     ]
    },
    {
     "name": "stderr",
     "output_type": "stream",
     "text": [
      "C:\\Users\\Muhammad Umer\\Anaconda3\\lib\\site-packages\\sklearn\\feature_extraction\\text.py:1616: UserWarning: Only (<class 'numpy.float64'>, <class 'numpy.float32'>, <class 'numpy.float16'>) 'dtype' should be used. int32 'dtype' will be converted to np.float64.\n",
      "  UserWarning)\n"
     ]
    },
    {
     "name": "stdout",
     "output_type": "stream",
     "text": [
      "Train on 8300 samples, validate on 3558 samples\n",
      "Epoch 1/10\n",
      " - 8s - loss: 0.5553 - acc: 0.7051 - mean_absolute_error: 0.3939 - precision: 0.3758 - recall: 0.1251 - val_loss: 0.3850 - val_acc: 0.8465 - val_mean_absolute_error: 0.2706 - val_precision: 0.9692 - val_recall: 0.5704\n",
      "Epoch 2/10\n",
      " - 2s - loss: 0.2449 - acc: 0.9136 - mean_absolute_error: 0.1607 - precision: 0.9053 - recall: 0.8275 - val_loss: 0.2324 - val_acc: 0.9036 - val_mean_absolute_error: 0.1371 - val_precision: 0.8465 - val_recall: 0.8806\n",
      "Epoch 3/10\n",
      " - 3s - loss: 0.1253 - acc: 0.9511 - mean_absolute_error: 0.0769 - precision: 0.9377 - recall: 0.9152 - val_loss: 0.2337 - val_acc: 0.9120 - val_mean_absolute_error: 0.1097 - val_precision: 0.8909 - val_recall: 0.8489\n",
      "Epoch 4/10\n",
      " - 2s - loss: 0.0913 - acc: 0.9676 - mean_absolute_error: 0.0537 - precision: 0.9586 - recall: 0.9448 - val_loss: 0.2523 - val_acc: 0.9117 - val_mean_absolute_error: 0.1030 - val_precision: 0.8997 - val_recall: 0.8356\n",
      "3558/3558 [==============================] - 0s 105us/step\n",
      "Printing Fold \n",
      "Loss: 0.25228\n",
      "validation accuracy: 0.91175\n",
      "Precision: 0.89765\n",
      "Recacll: 0.83877\n"
     ]
    },
    {
     "name": "stderr",
     "output_type": "stream",
     "text": [
      "C:\\Users\\Muhammad Umer\\Anaconda3\\lib\\site-packages\\sklearn\\feature_extraction\\text.py:1616: UserWarning: Only (<class 'numpy.float64'>, <class 'numpy.float32'>, <class 'numpy.float16'>) 'dtype' should be used. int32 'dtype' will be converted to np.float64.\n",
      "  UserWarning)\n"
     ]
    },
    {
     "name": "stdout",
     "output_type": "stream",
     "text": [
      "Train on 8300 samples, validate on 3558 samples\n",
      "Epoch 1/10\n",
      " - 8s - loss: 0.5549 - acc: 0.7157 - mean_absolute_error: 0.3976 - precision: 0.5167 - recall: 0.1858 - val_loss: 0.3444 - val_acc: 0.8547 - val_mean_absolute_error: 0.2357 - val_precision: 0.9391 - val_recall: 0.5988\n",
      "Epoch 2/10\n",
      " - 3s - loss: 0.2327 - acc: 0.9108 - mean_absolute_error: 0.1453 - precision: 0.9030 - recall: 0.8275 - val_loss: 0.2338 - val_acc: 0.9092 - val_mean_absolute_error: 0.1311 - val_precision: 0.8996 - val_recall: 0.8184\n",
      "Epoch 3/10\n",
      " - 2s - loss: 0.1306 - acc: 0.9508 - mean_absolute_error: 0.0789 - precision: 0.9395 - recall: 0.9145 - val_loss: 0.2331 - val_acc: 0.9106 - val_mean_absolute_error: 0.1113 - val_precision: 0.8959 - val_recall: 0.8286\n",
      "Epoch 4/10\n",
      " - 2s - loss: 0.0987 - acc: 0.9616 - mean_absolute_error: 0.0578 - precision: 0.9498 - recall: 0.9363 - val_loss: 0.2587 - val_acc: 0.9120 - val_mean_absolute_error: 0.1032 - val_precision: 0.9144 - val_recall: 0.8128\n",
      "Epoch 5/10\n",
      " - 2s - loss: 0.0791 - acc: 0.9683 - mean_absolute_error: 0.0470 - precision: 0.9577 - recall: 0.9486 - val_loss: 0.2598 - val_acc: 0.9103 - val_mean_absolute_error: 0.1010 - val_precision: 0.8943 - val_recall: 0.8322\n",
      "3558/3558 [==============================] - 0s 101us/step\n",
      "Printing Fold \n",
      "Loss: 0.25983\n",
      "validation accuracy: 0.91034\n",
      "Precision: 0.89429\n",
      "Recacll: 0.83066\n"
     ]
    },
    {
     "name": "stderr",
     "output_type": "stream",
     "text": [
      "C:\\Users\\Muhammad Umer\\Anaconda3\\lib\\site-packages\\sklearn\\feature_extraction\\text.py:1616: UserWarning: Only (<class 'numpy.float64'>, <class 'numpy.float32'>, <class 'numpy.float16'>) 'dtype' should be used. int32 'dtype' will be converted to np.float64.\n",
      "  UserWarning)\n"
     ]
    },
    {
     "name": "stdout",
     "output_type": "stream",
     "text": [
      "Train on 8300 samples, validate on 3558 samples\n",
      "Epoch 1/10\n",
      " - 9s - loss: 0.5557 - acc: 0.7255 - mean_absolute_error: 0.3985 - precision: 0.7324 - recall: 0.2144 - val_loss: 0.3191 - val_acc: 0.8640 - val_mean_absolute_error: 0.2225 - val_precision: 0.9469 - val_recall: 0.6357\n",
      "Epoch 2/10\n",
      " - 3s - loss: 0.2265 - acc: 0.9113 - mean_absolute_error: 0.1413 - precision: 0.8994 - recall: 0.8254 - val_loss: 0.2166 - val_acc: 0.9132 - val_mean_absolute_error: 0.1207 - val_precision: 0.9108 - val_recall: 0.8245\n",
      "Epoch 3/10\n",
      " - 3s - loss: 0.1256 - acc: 0.9539 - mean_absolute_error: 0.0763 - precision: 0.9449 - recall: 0.9151 - val_loss: 0.2157 - val_acc: 0.9151 - val_mean_absolute_error: 0.1048 - val_precision: 0.8896 - val_recall: 0.8565\n",
      "Epoch 4/10\n",
      " - 3s - loss: 0.0948 - acc: 0.9649 - mean_absolute_error: 0.0559 - precision: 0.9538 - recall: 0.9406 - val_loss: 0.2278 - val_acc: 0.9106 - val_mean_absolute_error: 0.1026 - val_precision: 0.8745 - val_recall: 0.8615\n",
      "Epoch 5/10\n",
      " - 3s - loss: 0.0759 - acc: 0.9731 - mean_absolute_error: 0.0431 - precision: 0.9658 - recall: 0.9524 - val_loss: 0.2381 - val_acc: 0.9126 - val_mean_absolute_error: 0.0959 - val_precision: 0.8918 - val_recall: 0.8441\n",
      "3558/3558 [==============================] - 0s 101us/step\n",
      "Printing Fold \n",
      "Loss: 0.23806\n",
      "validation accuracy: 0.91259\n",
      "Precision: 0.89179\n",
      "Recacll: 0.84079\n"
     ]
    },
    {
     "name": "stderr",
     "output_type": "stream",
     "text": [
      "C:\\Users\\Muhammad Umer\\Anaconda3\\lib\\site-packages\\sklearn\\feature_extraction\\text.py:1616: UserWarning: Only (<class 'numpy.float64'>, <class 'numpy.float32'>, <class 'numpy.float16'>) 'dtype' should be used. int32 'dtype' will be converted to np.float64.\n",
      "  UserWarning)\n"
     ]
    },
    {
     "name": "stdout",
     "output_type": "stream",
     "text": [
      "Train on 8300 samples, validate on 3558 samples\n",
      "Epoch 1/10\n",
      " - 9s - loss: 0.5708 - acc: 0.6845 - mean_absolute_error: 0.4070 - precision: 0.3307 - recall: 0.0829 - val_loss: 0.3953 - val_acc: 0.8305 - val_mean_absolute_error: 0.2753 - val_precision: 0.9825 - val_recall: 0.4939\n",
      "Epoch 2/10\n",
      " - 3s - loss: 0.2753 - acc: 0.9012 - mean_absolute_error: 0.1820 - precision: 0.9071 - recall: 0.7925 - val_loss: 0.2142 - val_acc: 0.9165 - val_mean_absolute_error: 0.1295 - val_precision: 0.8741 - val_recall: 0.8716\n",
      "Epoch 3/10\n",
      " - 2s - loss: 0.1331 - acc: 0.9511 - mean_absolute_error: 0.0807 - precision: 0.9342 - recall: 0.9190 - val_loss: 0.2214 - val_acc: 0.9160 - val_mean_absolute_error: 0.1068 - val_precision: 0.8623 - val_recall: 0.8830\n",
      "Epoch 4/10\n",
      " - 2s - loss: 0.0965 - acc: 0.9634 - mean_absolute_error: 0.0563 - precision: 0.9532 - recall: 0.9390 - val_loss: 0.2288 - val_acc: 0.9168 - val_mean_absolute_error: 0.0968 - val_precision: 0.8721 - val_recall: 0.8733\n",
      "3558/3558 [==============================] - 0s 105us/step\n",
      "Printing Fold \n",
      "Loss: 0.22880\n",
      "validation accuracy: 0.91681\n",
      "Precision: 0.87350\n",
      "Recacll: 0.87241\n"
     ]
    },
    {
     "name": "stderr",
     "output_type": "stream",
     "text": [
      "C:\\Users\\Muhammad Umer\\Anaconda3\\lib\\site-packages\\sklearn\\feature_extraction\\text.py:1616: UserWarning: Only (<class 'numpy.float64'>, <class 'numpy.float32'>, <class 'numpy.float16'>) 'dtype' should be used. int32 'dtype' will be converted to np.float64.\n",
      "  UserWarning)\n"
     ]
    },
    {
     "name": "stdout",
     "output_type": "stream",
     "text": [
      "Train on 8300 samples, validate on 3558 samples\n",
      "Epoch 1/10\n",
      " - 9s - loss: 0.5634 - acc: 0.7065 - mean_absolute_error: 0.4023 - precision: 0.4532 - recall: 0.1599 - val_loss: 0.3602 - val_acc: 0.8505 - val_mean_absolute_error: 0.2489 - val_precision: 0.9580 - val_recall: 0.5806\n",
      "Epoch 2/10\n",
      " - 4s - loss: 0.2325 - acc: 0.9099 - mean_absolute_error: 0.1492 - precision: 0.9036 - recall: 0.8196 - val_loss: 0.2213 - val_acc: 0.9101 - val_mean_absolute_error: 0.1225 - val_precision: 0.8928 - val_recall: 0.8324\n",
      "Epoch 3/10\n",
      " - 3s - loss: 0.1317 - acc: 0.9504 - mean_absolute_error: 0.0784 - precision: 0.9410 - recall: 0.9111 - val_loss: 0.2255 - val_acc: 0.9103 - val_mean_absolute_error: 0.1080 - val_precision: 0.8853 - val_recall: 0.8424\n",
      "Epoch 4/10\n",
      " - 2s - loss: 0.0978 - acc: 0.9641 - mean_absolute_error: 0.0579 - precision: 0.9515 - recall: 0.9405 - val_loss: 0.2490 - val_acc: 0.9162 - val_mean_absolute_error: 0.1002 - val_precision: 0.9042 - val_recall: 0.8386\n",
      "3558/3558 [==============================] - 0s 114us/step\n",
      "Printing Fold \n",
      "Loss: 0.24898\n",
      "validation accuracy: 0.91625\n",
      "Precision: 0.90261\n",
      "Recacll: 0.83728\n"
     ]
    },
    {
     "name": "stderr",
     "output_type": "stream",
     "text": [
      "C:\\Users\\Muhammad Umer\\Anaconda3\\lib\\site-packages\\sklearn\\feature_extraction\\text.py:1616: UserWarning: Only (<class 'numpy.float64'>, <class 'numpy.float32'>, <class 'numpy.float16'>) 'dtype' should be used. int32 'dtype' will be converted to np.float64.\n",
      "  UserWarning)\n"
     ]
    },
    {
     "name": "stdout",
     "output_type": "stream",
     "text": [
      "Train on 8300 samples, validate on 3558 samples\n",
      "Epoch 1/10\n",
      " - 9s - loss: 0.5663 - acc: 0.7076 - mean_absolute_error: 0.4065 - precision: 0.5068 - recall: 0.1944 - val_loss: 0.3391 - val_acc: 0.8544 - val_mean_absolute_error: 0.2316 - val_precision: 0.9674 - val_recall: 0.5748\n",
      "Epoch 2/10\n",
      " - 4s - loss: 0.2310 - acc: 0.9106 - mean_absolute_error: 0.1460 - precision: 0.9035 - recall: 0.8274 - val_loss: 0.2236 - val_acc: 0.9137 - val_mean_absolute_error: 0.1175 - val_precision: 0.9361 - val_recall: 0.7912\n",
      "Epoch 3/10\n",
      " - 3s - loss: 0.1283 - acc: 0.9533 - mean_absolute_error: 0.0769 - precision: 0.9489 - recall: 0.9123 - val_loss: 0.2138 - val_acc: 0.9193 - val_mean_absolute_error: 0.1008 - val_precision: 0.9081 - val_recall: 0.8405\n",
      "Epoch 4/10\n",
      " - 2s - loss: 0.0929 - acc: 0.9654 - mean_absolute_error: 0.0543 - precision: 0.9567 - recall: 0.9400 - val_loss: 0.2206 - val_acc: 0.9199 - val_mean_absolute_error: 0.0976 - val_precision: 0.8857 - val_recall: 0.8689\n",
      "Epoch 5/10\n",
      " - 2s - loss: 0.0768 - acc: 0.9720 - mean_absolute_error: 0.0440 - precision: 0.9658 - recall: 0.9512 - val_loss: 0.2349 - val_acc: 0.9191 - val_mean_absolute_error: 0.0968 - val_precision: 0.8709 - val_recall: 0.8843\n",
      "3558/3558 [==============================] - 0s 110us/step\n",
      "Printing Fold \n",
      "Loss: 0.23486\n",
      "validation accuracy: 0.91906\n",
      "Precision: 0.87079\n",
      "Recacll: 0.88284\n"
     ]
    },
    {
     "name": "stderr",
     "output_type": "stream",
     "text": [
      "C:\\Users\\Muhammad Umer\\Anaconda3\\lib\\site-packages\\sklearn\\feature_extraction\\text.py:1616: UserWarning: Only (<class 'numpy.float64'>, <class 'numpy.float32'>, <class 'numpy.float16'>) 'dtype' should be used. int32 'dtype' will be converted to np.float64.\n",
      "  UserWarning)\n"
     ]
    },
    {
     "name": "stdout",
     "output_type": "stream",
     "text": [
      "Train on 8300 samples, validate on 3558 samples\n",
      "Epoch 1/10\n",
      " - 9s - loss: 0.5654 - acc: 0.6970 - mean_absolute_error: 0.4017 - precision: 0.3677 - recall: 0.1122 - val_loss: 0.3798 - val_acc: 0.8569 - val_mean_absolute_error: 0.2720 - val_precision: 0.9513 - val_recall: 0.6005\n",
      "Epoch 2/10\n",
      " - 3s - loss: 0.2505 - acc: 0.9123 - mean_absolute_error: 0.1643 - precision: 0.9142 - recall: 0.8220 - val_loss: 0.2200 - val_acc: 0.9098 - val_mean_absolute_error: 0.1286 - val_precision: 0.8623 - val_recall: 0.8685\n",
      "Epoch 3/10\n",
      " - 2s - loss: 0.1297 - acc: 0.9501 - mean_absolute_error: 0.0780 - precision: 0.9392 - recall: 0.9111 - val_loss: 0.2136 - val_acc: 0.9154 - val_mean_absolute_error: 0.1071 - val_precision: 0.8740 - val_recall: 0.8710\n",
      "Epoch 4/10\n",
      " - 2s - loss: 0.0973 - acc: 0.9633 - mean_absolute_error: 0.0574 - precision: 0.9514 - recall: 0.9393 - val_loss: 0.2218 - val_acc: 0.9174 - val_mean_absolute_error: 0.0972 - val_precision: 0.8803 - val_recall: 0.8711\n",
      "Epoch 5/10\n",
      " - 2s - loss: 0.0731 - acc: 0.9745 - mean_absolute_error: 0.0423 - precision: 0.9652 - recall: 0.9598 - val_loss: 0.2402 - val_acc: 0.9157 - val_mean_absolute_error: 0.0942 - val_precision: 0.8786 - val_recall: 0.8664\n",
      "3558/3558 [==============================] - 0s 119us/step\n",
      "Printing Fold \n",
      "Loss: 0.24021\n",
      "validation accuracy: 0.91568\n",
      "Precision: 0.87558\n",
      "Recacll: 0.86832\n"
     ]
    },
    {
     "name": "stderr",
     "output_type": "stream",
     "text": [
      "C:\\Users\\Muhammad Umer\\Anaconda3\\lib\\site-packages\\sklearn\\feature_extraction\\text.py:1616: UserWarning: Only (<class 'numpy.float64'>, <class 'numpy.float32'>, <class 'numpy.float16'>) 'dtype' should be used. int32 'dtype' will be converted to np.float64.\n",
      "  UserWarning)\n"
     ]
    },
    {
     "name": "stdout",
     "output_type": "stream",
     "text": [
      "Train on 8300 samples, validate on 3558 samples\n",
      "Epoch 1/10\n",
      " - 9s - loss: 0.5675 - acc: 0.7005 - mean_absolute_error: 0.4058 - precision: 0.3730 - recall: 0.1309 - val_loss: 0.3672 - val_acc: 0.8654 - val_mean_absolute_error: 0.2596 - val_precision: 0.9597 - val_recall: 0.6242\n",
      "Epoch 2/10\n",
      " - 4s - loss: 0.2374 - acc: 0.9104 - mean_absolute_error: 0.1528 - precision: 0.9038 - recall: 0.8235 - val_loss: 0.2167 - val_acc: 0.9160 - val_mean_absolute_error: 0.1176 - val_precision: 0.9078 - val_recall: 0.8382\n",
      "Epoch 3/10\n",
      " - 3s - loss: 0.1223 - acc: 0.9542 - mean_absolute_error: 0.0737 - precision: 0.9403 - recall: 0.9222 - val_loss: 0.2138 - val_acc: 0.9148 - val_mean_absolute_error: 0.1061 - val_precision: 0.8749 - val_recall: 0.8738\n",
      "Epoch 4/10\n",
      " - 2s - loss: 0.0937 - acc: 0.9631 - mean_absolute_error: 0.0563 - precision: 0.9515 - recall: 0.9377 - val_loss: 0.2218 - val_acc: 0.9191 - val_mean_absolute_error: 0.0959 - val_precision: 0.8937 - val_recall: 0.8631\n",
      "Epoch 5/10\n",
      " - 2s - loss: 0.0807 - acc: 0.9708 - mean_absolute_error: 0.0456 - precision: 0.9588 - recall: 0.9542 - val_loss: 0.2252 - val_acc: 0.9207 - val_mean_absolute_error: 0.0928 - val_precision: 0.8901 - val_recall: 0.8742\n",
      "3558/3558 [==============================] - 0s 114us/step\n",
      "Printing Fold \n",
      "Loss: 0.22518\n",
      "validation accuracy: 0.92074\n",
      "Precision: 0.89102\n",
      "Recacll: 0.86837\n"
     ]
    },
    {
     "name": "stderr",
     "output_type": "stream",
     "text": [
      "C:\\Users\\Muhammad Umer\\Anaconda3\\lib\\site-packages\\sklearn\\feature_extraction\\text.py:1616: UserWarning: Only (<class 'numpy.float64'>, <class 'numpy.float32'>, <class 'numpy.float16'>) 'dtype' should be used. int32 'dtype' will be converted to np.float64.\n",
      "  UserWarning)\n"
     ]
    },
    {
     "name": "stdout",
     "output_type": "stream",
     "text": [
      "Train on 8300 samples, validate on 3558 samples\n",
      "Epoch 1/10\n",
      " - 9s - loss: 0.5607 - acc: 0.7120 - mean_absolute_error: 0.4015 - precision: 0.4716 - recall: 0.1757 - val_loss: 0.3289 - val_acc: 0.8811 - val_mean_absolute_error: 0.2408 - val_precision: 0.9259 - val_recall: 0.7006\n",
      "Epoch 2/10\n",
      " - 5s - loss: 0.2309 - acc: 0.9113 - mean_absolute_error: 0.1451 - precision: 0.8981 - recall: 0.8344 - val_loss: 0.2136 - val_acc: 0.9154 - val_mean_absolute_error: 0.1193 - val_precision: 0.8827 - val_recall: 0.8587\n",
      "Epoch 3/10\n",
      " - 3s - loss: 0.1270 - acc: 0.9535 - mean_absolute_error: 0.0762 - precision: 0.9441 - recall: 0.9166 - val_loss: 0.2161 - val_acc: 0.9160 - val_mean_absolute_error: 0.1028 - val_precision: 0.8733 - val_recall: 0.8719\n",
      "Epoch 4/10\n",
      " - 2s - loss: 0.0953 - acc: 0.9661 - mean_absolute_error: 0.0559 - precision: 0.9618 - recall: 0.9384 - val_loss: 0.2512 - val_acc: 0.9073 - val_mean_absolute_error: 0.1075 - val_precision: 0.8375 - val_recall: 0.8920\n",
      "3558/3558 [==============================] - 0s 101us/step\n",
      "Printing Fold \n",
      "Loss: 0.25117\n",
      "validation accuracy: 0.90725\n",
      "Precision: 0.83746\n",
      "Recacll: 0.89512\n",
      "Estimated Accuracy 0.914 (0.004)\n",
      "Estimated Precision 0.884 (0.019)\n",
      "Estimated Recall 0.857 (0.022)\n"
     ]
    }
   ],
   "source": [
    "n_folds = 10\n",
    "cv_scores, model_history,precision,recall = list(), list(),list(), list()\n",
    "for _ in range(n_folds):\n",
    "    trX,ttX,trY,ttY = train_test_split(TEXT,Sentiment, test_size = 0.3)\n",
    "    trX = np.array(trX)\n",
    "    trY = np.array(trY)\n",
    "    ttX = np.array(ttX)\n",
    "    ttY = np.array(ttY)\n",
    "\n",
    "    # evaluate model\n",
    "    score=[]\n",
    "    score = evaluate_model(trX, trY, ttX, ttY)\n",
    "    print(\"Printing Fold \" % range(n_folds))\n",
    "    print(\"Loss: %.5f\" %(score[0]))\n",
    "    print(\"validation accuracy: %.5f\" % (score[1]))\n",
    "    print(\"Precision: %.5f\" %(score[3]))\n",
    "    print(\"Recacll: %.5f\" %(score[4]))\n",
    "    cv_scores.append(score[1])\n",
    "    precision.append(score[3])\n",
    "    recall.append(score[4])\n",
    "    #model_history.append(model)\n",
    "    \n",
    "print('Estimated Accuracy %.3f (%.3f)' % (np.mean(cv_scores), np.std(cv_scores)))\n",
    "print('Estimated Precision %.3f (%.3f)' % (np.mean(precision), np.std(precision)))\n",
    "print('Estimated Recall %.3f (%.3f)' % (np.mean(recall), np.std(recall)))"
   ]
  },
  {
   "cell_type": "code",
   "execution_count": 7,
   "metadata": {},
   "outputs": [
    {
     "name": "stderr",
     "output_type": "stream",
     "text": [
      "Using TensorFlow backend.\n"
     ]
    }
   ],
   "source": [
    "# importing all necessary libraries to run the code\n",
    "import re,string\n",
    "import numpy as np\n",
    "import pandas as pd\n",
    "import keras_metrics\n",
    "import tensorflow.keras\n",
    "import matplotlib.pyplot as plt\n",
    "from nltk.corpus import stopwords\n",
    "from keras.models import Sequential\n",
    "from sklearn.model_selection import train_test_split\n",
    "from keras.callbacks import EarlyStopping\n",
    "from keras.layers import Dense, Flatten, LSTM, Conv1D, MaxPooling1D, Dropout, Activation,Embedding,GlobalMaxPooling1D\n",
    "# using the variable sw to hold all stopwords that are in English\n",
    "sw = stopwords.words('english')"
   ]
  },
  {
   "cell_type": "code",
   "execution_count": 8,
   "metadata": {},
   "outputs": [
    {
     "data": {
      "text/html": [
       "<div>\n",
       "<style scoped>\n",
       "    .dataframe tbody tr th:only-of-type {\n",
       "        vertical-align: middle;\n",
       "    }\n",
       "\n",
       "    .dataframe tbody tr th {\n",
       "        vertical-align: top;\n",
       "    }\n",
       "\n",
       "    .dataframe thead th {\n",
       "        text-align: right;\n",
       "    }\n",
       "</style>\n",
       "<table border=\"1\" class=\"dataframe\">\n",
       "  <thead>\n",
       "    <tr style=\"text-align: right;\">\n",
       "      <th></th>\n",
       "      <th>0</th>\n",
       "    </tr>\n",
       "  </thead>\n",
       "  <tbody>\n",
       "    <tr>\n",
       "      <th>0</th>\n",
       "      <td>kahruveldesign wrote jan phones ringing need g...</td>\n",
       "    </tr>\n",
       "    <tr>\n",
       "      <th>1</th>\n",
       "      <td>please share warning popularity https co wbycg...</td>\n",
       "    </tr>\n",
       "  </tbody>\n",
       "</table>\n",
       "</div>"
      ],
      "text/plain": [
       "                                                   0\n",
       "0  kahruveldesign wrote jan phones ringing need g...\n",
       "1  please share warning popularity https co wbycg..."
      ]
     },
     "execution_count": 8,
     "metadata": {},
     "output_type": "execute_result"
    }
   ],
   "source": [
    "#converting twitterSentiment[] list into dataframe for serving it to keras tokenizer\n",
    "dataSetFinal = pd.DataFrame(np.array(TEXT))\n",
    "dataSetFinal.head(2)"
   ]
  },
  {
   "cell_type": "code",
   "execution_count": 9,
   "metadata": {},
   "outputs": [
    {
     "data": {
      "text/html": [
       "<div>\n",
       "<style scoped>\n",
       "    .dataframe tbody tr th:only-of-type {\n",
       "        vertical-align: middle;\n",
       "    }\n",
       "\n",
       "    .dataframe tbody tr th {\n",
       "        vertical-align: top;\n",
       "    }\n",
       "\n",
       "    .dataframe thead th {\n",
       "        text-align: right;\n",
       "    }\n",
       "</style>\n",
       "<table border=\"1\" class=\"dataframe\">\n",
       "  <thead>\n",
       "    <tr style=\"text-align: right;\">\n",
       "      <th></th>\n",
       "      <th>0</th>\n",
       "    </tr>\n",
       "  </thead>\n",
       "  <tbody>\n",
       "    <tr>\n",
       "      <th>0</th>\n",
       "      <td>0</td>\n",
       "    </tr>\n",
       "    <tr>\n",
       "      <th>1</th>\n",
       "      <td>0</td>\n",
       "    </tr>\n",
       "  </tbody>\n",
       "</table>\n",
       "</div>"
      ],
      "text/plain": [
       "   0\n",
       "0  0\n",
       "1  0"
      ]
     },
     "execution_count": 9,
     "metadata": {},
     "output_type": "execute_result"
    }
   ],
   "source": [
    "dataSentiment = pd.DataFrame(np.array(Sentiment))\n",
    "dataSentiment.head(2)"
   ]
  },
  {
   "cell_type": "code",
   "execution_count": 10,
   "metadata": {},
   "outputs": [],
   "source": [
    "tokenizer = tensorflow.keras.preprocessing.text.Tokenizer(num_words=2500, lower=True,split=' ',filters='!\"#$%&()*+,-./:;<=>?@[\\\\]^_`{|}~\\t\\n')\n",
    "tokenizer.fit_on_texts(dataSetFinal[0].values)\n",
    "#print(tokenizer.word_index)  # To see the dicstionary\n",
    "X = tokenizer.texts_to_sequences(dataSetFinal[0].values)\n",
    "X = tensorflow.keras.preprocessing.sequence.pad_sequences(X)"
   ]
  },
  {
   "cell_type": "code",
   "execution_count": 49,
   "metadata": {},
   "outputs": [
    {
     "name": "stdout",
     "output_type": "stream",
     "text": [
      "_________________________________________________________________\n",
      "Layer (type)                 Output Shape              Param #   \n",
      "=================================================================\n",
      "embedding_2 (Embedding)      (None, 23, 100)           250000    \n",
      "_________________________________________________________________\n",
      "lstm_2 (LSTM)                (None, 100)               80400     \n",
      "_________________________________________________________________\n",
      "dropout_4 (Dropout)          (None, 100)               0         \n",
      "_________________________________________________________________\n",
      "dense_4 (Dense)              (None, 100)               10100     \n",
      "_________________________________________________________________\n",
      "dropout_5 (Dropout)          (None, 100)               0         \n",
      "_________________________________________________________________\n",
      "dense_5 (Dense)              (None, 50)                5050      \n",
      "_________________________________________________________________\n",
      "dropout_6 (Dropout)          (None, 50)                0         \n",
      "_________________________________________________________________\n",
      "dense_6 (Dense)              (None, 2)                 102       \n",
      "=================================================================\n",
      "Total params: 345,652\n",
      "Trainable params: 345,652\n",
      "Non-trainable params: 0\n",
      "_________________________________________________________________\n"
     ]
    }
   ],
   "source": [
    "from keras import optimizers\n",
    "#Deep Learning Network Structure\n",
    "model_conv = Sequential()\n",
    "model_conv.add(Embedding(2500,100, input_length=X.shape[1]))\n",
    "#model_conv.add(Dropout(0.5))\n",
    "#model_conv.add(Conv1D(64, 5, activation='relu'))\n",
    "#model_conv.add(MaxPooling1D(pool_size=4))\n",
    "model_conv.add(LSTM(100))\n",
    "model_conv.add(Dropout(0.5))\n",
    "model_conv.add(Dense(100, activation='relu'))\n",
    "model_conv.add(Dropout(0.5))\n",
    "model_conv.add(Dense(50, activation='relu'))\n",
    "model_conv.add(Dropout(0.2))\n",
    "model_conv.add(Dense(2, activation='softmax'))\n",
    "sgd = optimizers.SGD(lr=0.01, decay=1e-6, momentum=0.9, nesterov=True)\n",
    "model_conv.compile(loss='categorical_crossentropy', optimizer=sgd,metrics=['accuracy','mae','mse',keras_metrics.precision(), keras_metrics.recall()])\n",
    "model_conv.summary()"
   ]
  },
  {
   "cell_type": "code",
   "execution_count": 11,
   "metadata": {},
   "outputs": [
    {
     "name": "stdout",
     "output_type": "stream",
     "text": [
      "_________________________________________________________________\n",
      "Layer (type)                 Output Shape              Param #   \n",
      "=================================================================\n",
      "embedding_1 (Embedding)      (None, 23, 100)           250000    \n",
      "_________________________________________________________________\n",
      "conv1d_1 (Conv1D)            (None, 23, 64)            32064     \n",
      "_________________________________________________________________\n",
      "max_pooling1d_1 (MaxPooling1 (None, 11, 64)            0         \n",
      "_________________________________________________________________\n",
      "conv1d_2 (Conv1D)            (None, 11, 64)            20544     \n",
      "_________________________________________________________________\n",
      "global_max_pooling1d_1 (Glob (None, 64)                0         \n",
      "_________________________________________________________________\n",
      "dropout_1 (Dropout)          (None, 64)                0         \n",
      "_________________________________________________________________\n",
      "dense_1 (Dense)              (None, 32)                2080      \n",
      "_________________________________________________________________\n",
      "dense_2 (Dense)              (None, 2)                 66        \n",
      "=================================================================\n",
      "Total params: 304,754\n",
      "Trainable params: 304,754\n",
      "Non-trainable params: 0\n",
      "_________________________________________________________________\n"
     ]
    }
   ],
   "source": [
    "from keras import optimizers\n",
    "from keras import regularizers\n",
    "from keras import backend as K\n",
    "weight_decay = 1e-4\n",
    "#Deep Learning Network Structure\n",
    "model = Sequential()\n",
    "model.add(Embedding(2500,100, input_length=X.shape[1]))\n",
    "model.add(Conv1D(64, 5, activation='relu', padding='same'))\n",
    "model.add(MaxPooling1D(2))\n",
    "model.add(Conv1D(64, 5, activation='relu', padding='same'))\n",
    "model.add(GlobalMaxPooling1D())\n",
    "model.add(Dropout(0.5))\n",
    "model.add(Dense(32, activation='relu', kernel_regularizer=regularizers.l2(weight_decay)))\n",
    "model.add(Dense(2, activation='softmax'))\n",
    "sgd = optimizers.SGD(lr=0.01, decay=1e-6, momentum=0.9, nesterov=True)\n",
    "model.compile(loss='categorical_crossentropy', optimizer=sgd,metrics=['accuracy','mae','mse',keras_metrics.precision(), keras_metrics.recall()])\n",
    "model.summary()"
   ]
  },
  {
   "cell_type": "code",
   "execution_count": 50,
   "metadata": {},
   "outputs": [
    {
     "name": "stdout",
     "output_type": "stream",
     "text": [
      "Train on 8300 samples, validate on 3558 samples\n",
      "Epoch 1/50\n",
      " - 16s - loss: 0.6446 - acc: 0.6573 - mean_absolute_error: 0.4532 - mean_squared_error: 0.2261 - precision: 0.6617 - recall: 0.9878 - val_loss: 0.6335 - val_acc: 0.6684 - val_mean_absolute_error: 0.4399 - val_mean_squared_error: 0.2209 - val_precision: 0.6684 - val_recall: 1.0000\n",
      "Epoch 2/50\n",
      " - 8s - loss: 0.6355 - acc: 0.6624 - mean_absolute_error: 0.4442 - mean_squared_error: 0.2219 - precision: 0.6624 - recall: 1.0000 - val_loss: 0.6285 - val_acc: 0.6684 - val_mean_absolute_error: 0.4482 - val_mean_squared_error: 0.2185 - val_precision: 0.6684 - val_recall: 1.0000\n",
      "Epoch 3/50\n",
      " - 8s - loss: 0.6268 - acc: 0.6636 - mean_absolute_error: 0.4400 - mean_squared_error: 0.2179 - precision: 0.6632 - recall: 1.0000 - val_loss: 0.6143 - val_acc: 0.6684 - val_mean_absolute_error: 0.4469 - val_mean_squared_error: 0.2117 - val_precision: 0.6684 - val_recall: 1.0000\n",
      "Epoch 4/50\n",
      " - 8s - loss: 0.5968 - acc: 0.6946 - mean_absolute_error: 0.4172 - mean_squared_error: 0.2043 - precision: 0.6908 - recall: 0.9756 - val_loss: 0.5615 - val_acc: 0.7150 - val_mean_absolute_error: 0.3750 - val_mean_squared_error: 0.1891 - val_precision: 0.7015 - val_recall: 0.9983\n",
      "Epoch 5/50\n",
      " - 8s - loss: 0.5406 - acc: 0.7434 - mean_absolute_error: 0.3735 - mean_squared_error: 0.1803 - precision: 0.7409 - recall: 0.9420 - val_loss: 0.4765 - val_acc: 0.7934 - val_mean_absolute_error: 0.3265 - val_mean_squared_error: 0.1538 - val_precision: 0.7761 - val_recall: 0.9710\n",
      "Epoch 6/50\n",
      " - 8s - loss: 0.4652 - acc: 0.7904 - mean_absolute_error: 0.3101 - mean_squared_error: 0.1503 - precision: 0.7923 - recall: 0.9263 - val_loss: 0.3957 - val_acc: 0.8311 - val_mean_absolute_error: 0.2551 - val_mean_squared_error: 0.1241 - val_precision: 0.8156 - val_recall: 0.9655\n",
      "Epoch 7/50\n",
      " - 8s - loss: 0.3774 - acc: 0.8394 - mean_absolute_error: 0.2434 - mean_squared_error: 0.1173 - precision: 0.8433 - recall: 0.9305 - val_loss: 0.3185 - val_acc: 0.8648 - val_mean_absolute_error: 0.2036 - val_mean_squared_error: 0.0970 - val_precision: 0.8839 - val_recall: 0.9184\n",
      "Epoch 8/50\n",
      " - 9s - loss: 0.2953 - acc: 0.8849 - mean_absolute_error: 0.1774 - mean_squared_error: 0.0876 - precision: 0.8897 - recall: 0.9433 - val_loss: 0.3341 - val_acc: 0.8738 - val_mean_absolute_error: 0.1747 - val_mean_squared_error: 0.0994 - val_precision: 0.8633 - val_recall: 0.9638\n",
      "Epoch 9/50\n",
      " - 8s - loss: 0.2466 - acc: 0.9045 - mean_absolute_error: 0.1472 - mean_squared_error: 0.0712 - precision: 0.9071 - recall: 0.9534 - val_loss: 0.2580 - val_acc: 0.9106 - val_mean_absolute_error: 0.1242 - val_mean_squared_error: 0.0725 - val_precision: 0.9173 - val_recall: 0.9521\n",
      "Epoch 10/50\n",
      " - 8s - loss: 0.2265 - acc: 0.9184 - mean_absolute_error: 0.1290 - mean_squared_error: 0.0639 - precision: 0.9230 - recall: 0.9567 - val_loss: 0.2607 - val_acc: 0.9047 - val_mean_absolute_error: 0.1362 - val_mean_squared_error: 0.0738 - val_precision: 0.9348 - val_recall: 0.9218\n",
      "Epoch 11/50\n",
      " - 8s - loss: 0.1795 - acc: 0.9390 - mean_absolute_error: 0.1014 - mean_squared_error: 0.0492 - precision: 0.9416 - recall: 0.9680 - val_loss: 0.2727 - val_acc: 0.9067 - val_mean_absolute_error: 0.1154 - val_mean_squared_error: 0.0744 - val_precision: 0.9040 - val_recall: 0.9626\n",
      "Epoch 12/50\n",
      " - 8s - loss: 0.1682 - acc: 0.9445 - mean_absolute_error: 0.0933 - mean_squared_error: 0.0445 - precision: 0.9461 - recall: 0.9714 - val_loss: 0.2694 - val_acc: 0.9036 - val_mean_absolute_error: 0.1201 - val_mean_squared_error: 0.0739 - val_precision: 0.9343 - val_recall: 0.9205\n",
      "Epoch 13/50\n",
      " - 9s - loss: 0.3960 - acc: 0.8561 - mean_absolute_error: 0.2332 - mean_squared_error: 0.1157 - precision: 0.8466 - recall: 0.9560 - val_loss: 0.3319 - val_acc: 0.8763 - val_mean_absolute_error: 0.1824 - val_mean_squared_error: 0.0971 - val_precision: 0.8676 - val_recall: 0.9617\n",
      "Epoch 14/50\n",
      " - 8s - loss: 0.3413 - acc: 0.8800 - mean_absolute_error: 0.2034 - mean_squared_error: 0.0988 - precision: 0.8721 - recall: 0.9596 - val_loss: 0.3073 - val_acc: 0.8879 - val_mean_absolute_error: 0.1808 - val_mean_squared_error: 0.0887 - val_precision: 0.8938 - val_recall: 0.9445\n",
      "Epoch 15/50\n",
      " - 9s - loss: 0.2233 - acc: 0.9227 - mean_absolute_error: 0.1291 - mean_squared_error: 0.0613 - precision: 0.9178 - recall: 0.9702 - val_loss: 0.2639 - val_acc: 0.9117 - val_mean_absolute_error: 0.1179 - val_mean_squared_error: 0.0710 - val_precision: 0.9031 - val_recall: 0.9722\n",
      "Epoch 16/50\n",
      " - 8s - loss: 0.1688 - acc: 0.9452 - mean_absolute_error: 0.0910 - mean_squared_error: 0.0445 - precision: 0.9435 - recall: 0.9756 - val_loss: 0.2728 - val_acc: 0.9182 - val_mean_absolute_error: 0.1072 - val_mean_squared_error: 0.0675 - val_precision: 0.9353 - val_recall: 0.9428\n",
      "Epoch 17/50\n",
      " - 8s - loss: 0.1510 - acc: 0.9522 - mean_absolute_error: 0.0799 - mean_squared_error: 0.0394 - precision: 0.9502 - recall: 0.9791 - val_loss: 0.2529 - val_acc: 0.9185 - val_mean_absolute_error: 0.1094 - val_mean_squared_error: 0.0661 - val_precision: 0.9387 - val_recall: 0.9394\n",
      "Epoch 18/50\n",
      " - 9s - loss: 0.1298 - acc: 0.9581 - mean_absolute_error: 0.0674 - mean_squared_error: 0.0337 - precision: 0.9562 - recall: 0.9816 - val_loss: 0.2517 - val_acc: 0.9244 - val_mean_absolute_error: 0.0934 - val_mean_squared_error: 0.0623 - val_precision: 0.9313 - val_recall: 0.9575\n",
      "Epoch 19/50\n",
      " - 8s - loss: 0.1185 - acc: 0.9663 - mean_absolute_error: 0.0617 - mean_squared_error: 0.0294 - precision: 0.9642 - recall: 0.9856 - val_loss: 0.2627 - val_acc: 0.9233 - val_mean_absolute_error: 0.0982 - val_mean_squared_error: 0.0649 - val_precision: 0.9395 - val_recall: 0.9462\n",
      "Epoch 20/50\n",
      " - 9s - loss: 0.1108 - acc: 0.9659 - mean_absolute_error: 0.0565 - mean_squared_error: 0.0279 - precision: 0.9655 - recall: 0.9836 - val_loss: 0.2689 - val_acc: 0.9247 - val_mean_absolute_error: 0.0902 - val_mean_squared_error: 0.0652 - val_precision: 0.9367 - val_recall: 0.9516\n",
      "Epoch 21/50\n",
      " - 8s - loss: 0.1085 - acc: 0.9675 - mean_absolute_error: 0.0559 - mean_squared_error: 0.0268 - precision: 0.9665 - recall: 0.9851 - val_loss: 0.2767 - val_acc: 0.9236 - val_mean_absolute_error: 0.0895 - val_mean_squared_error: 0.0647 - val_precision: 0.9377 - val_recall: 0.9487\n",
      "Epoch 22/50\n",
      " - 9s - loss: 0.0979 - acc: 0.9718 - mean_absolute_error: 0.0496 - mean_squared_error: 0.0238 - precision: 0.9703 - recall: 0.9876 - val_loss: 0.2575 - val_acc: 0.9280 - val_mean_absolute_error: 0.0831 - val_mean_squared_error: 0.0607 - val_precision: 0.9303 - val_recall: 0.9647\n",
      "Epoch 23/50\n",
      " - 9s - loss: 0.0947 - acc: 0.9736 - mean_absolute_error: 0.0480 - mean_squared_error: 0.0230 - precision: 0.9728 - recall: 0.9878 - val_loss: 0.2798 - val_acc: 0.9320 - val_mean_absolute_error: 0.0782 - val_mean_squared_error: 0.0620 - val_precision: 0.9317 - val_recall: 0.9693\n",
      "Epoch 24/50\n",
      " - 8s - loss: 0.0906 - acc: 0.9751 - mean_absolute_error: 0.0436 - mean_squared_error: 0.0218 - precision: 0.9740 - recall: 0.9887 - val_loss: 0.2860 - val_acc: 0.9278 - val_mean_absolute_error: 0.0830 - val_mean_squared_error: 0.0641 - val_precision: 0.9348 - val_recall: 0.9588\n",
      "Epoch 25/50\n",
      " - 8s - loss: 0.0885 - acc: 0.9748 - mean_absolute_error: 0.0430 - mean_squared_error: 0.0211 - precision: 0.9733 - recall: 0.9891 - val_loss: 0.2713 - val_acc: 0.9283 - val_mean_absolute_error: 0.0842 - val_mean_squared_error: 0.0625 - val_precision: 0.9338 - val_recall: 0.9609\n",
      "Epoch 26/50\n",
      " - 9s - loss: 0.0816 - acc: 0.9777 - mean_absolute_error: 0.0403 - mean_squared_error: 0.0189 - precision: 0.9763 - recall: 0.9904 - val_loss: 0.3033 - val_acc: 0.9238 - val_mean_absolute_error: 0.0843 - val_mean_squared_error: 0.0663 - val_precision: 0.9330 - val_recall: 0.9546\n",
      "Epoch 27/50\n",
      " - 10s - loss: 0.0798 - acc: 0.9773 - mean_absolute_error: 0.0393 - mean_squared_error: 0.0191 - precision: 0.9750 - recall: 0.9913 - val_loss: 0.3174 - val_acc: 0.9264 - val_mean_absolute_error: 0.0854 - val_mean_squared_error: 0.0659 - val_precision: 0.9416 - val_recall: 0.9487\n",
      "Epoch 28/50\n",
      " - 9s - loss: 0.0822 - acc: 0.9765 - mean_absolute_error: 0.0403 - mean_squared_error: 0.0196 - precision: 0.9749 - recall: 0.9900 - val_loss: 0.2987 - val_acc: 0.9275 - val_mean_absolute_error: 0.0795 - val_mean_squared_error: 0.0643 - val_precision: 0.9274 - val_recall: 0.9672\n"
     ]
    },
    {
     "name": "stdout",
     "output_type": "stream",
     "text": [
      "Epoch 29/50\n",
      " - 8s - loss: 0.0775 - acc: 0.9799 - mean_absolute_error: 0.0352 - mean_squared_error: 0.0175 - precision: 0.9774 - recall: 0.9925 - val_loss: 0.3094 - val_acc: 0.9289 - val_mean_absolute_error: 0.0790 - val_mean_squared_error: 0.0654 - val_precision: 0.9265 - val_recall: 0.9706\n",
      "Epoch 30/50\n",
      " - 9s - loss: 0.0691 - acc: 0.9820 - mean_absolute_error: 0.0335 - mean_squared_error: 0.0156 - precision: 0.9811 - recall: 0.9920 - val_loss: 0.3143 - val_acc: 0.9219 - val_mean_absolute_error: 0.0828 - val_mean_squared_error: 0.0679 - val_precision: 0.9300 - val_recall: 0.9550\n",
      "Epoch 31/50\n",
      " - 9s - loss: 0.0668 - acc: 0.9837 - mean_absolute_error: 0.0305 - mean_squared_error: 0.0145 - precision: 0.9815 - recall: 0.9942 - val_loss: 0.3801 - val_acc: 0.9157 - val_mean_absolute_error: 0.0955 - val_mean_squared_error: 0.0756 - val_precision: 0.9448 - val_recall: 0.9281\n",
      "Epoch 32/50\n",
      " - 9s - loss: 0.0691 - acc: 0.9825 - mean_absolute_error: 0.0325 - mean_squared_error: 0.0153 - precision: 0.9813 - recall: 0.9925 - val_loss: 0.3286 - val_acc: 0.9250 - val_mean_absolute_error: 0.0803 - val_mean_squared_error: 0.0681 - val_precision: 0.9272 - val_recall: 0.9634\n",
      "Epoch 33/50\n",
      " - 8s - loss: 0.0730 - acc: 0.9807 - mean_absolute_error: 0.0336 - mean_squared_error: 0.0167 - precision: 0.9792 - recall: 0.9920 - val_loss: 0.3131 - val_acc: 0.9303 - val_mean_absolute_error: 0.0775 - val_mean_squared_error: 0.0638 - val_precision: 0.9319 - val_recall: 0.9664\n",
      "Epoch 34/50\n",
      " - 9s - loss: 0.0741 - acc: 0.9794 - mean_absolute_error: 0.0353 - mean_squared_error: 0.0172 - precision: 0.9781 - recall: 0.9911 - val_loss: 0.3880 - val_acc: 0.9179 - val_mean_absolute_error: 0.0917 - val_mean_squared_error: 0.0735 - val_precision: 0.9442 - val_recall: 0.9323\n",
      "Epoch 35/50\n",
      " - 9s - loss: 0.0674 - acc: 0.9825 - mean_absolute_error: 0.0310 - mean_squared_error: 0.0150 - precision: 0.9811 - recall: 0.9927 - val_loss: 0.3285 - val_acc: 0.9252 - val_mean_absolute_error: 0.0807 - val_mean_squared_error: 0.0675 - val_precision: 0.9171 - val_recall: 0.9765\n",
      "Epoch 36/50\n",
      " - 9s - loss: 0.0701 - acc: 0.9808 - mean_absolute_error: 0.0334 - mean_squared_error: 0.0162 - precision: 0.9800 - recall: 0.9913 - val_loss: 0.3081 - val_acc: 0.9278 - val_mean_absolute_error: 0.0789 - val_mean_squared_error: 0.0643 - val_precision: 0.9278 - val_recall: 0.9672\n",
      "Epoch 37/50\n",
      " - 8s - loss: 0.0679 - acc: 0.9822 - mean_absolute_error: 0.0325 - mean_squared_error: 0.0153 - precision: 0.9808 - recall: 0.9925 - val_loss: 0.3314 - val_acc: 0.9247 - val_mean_absolute_error: 0.0820 - val_mean_squared_error: 0.0669 - val_precision: 0.9418 - val_recall: 0.9458\n",
      "Epoch 38/50\n",
      " - 8s - loss: 0.0633 - acc: 0.9831 - mean_absolute_error: 0.0288 - mean_squared_error: 0.0143 - precision: 0.9825 - recall: 0.9922 - val_loss: 0.3169 - val_acc: 0.9244 - val_mean_absolute_error: 0.0822 - val_mean_squared_error: 0.0668 - val_precision: 0.9327 - val_recall: 0.9558\n",
      "Epoch 39/50\n",
      " - 8s - loss: 0.0591 - acc: 0.9855 - mean_absolute_error: 0.0279 - mean_squared_error: 0.0130 - precision: 0.9843 - recall: 0.9940 - val_loss: 0.3643 - val_acc: 0.9233 - val_mean_absolute_error: 0.0821 - val_mean_squared_error: 0.0691 - val_precision: 0.9387 - val_recall: 0.9470\n",
      "Epoch 40/50\n",
      " - 8s - loss: 0.0553 - acc: 0.9853 - mean_absolute_error: 0.0258 - mean_squared_error: 0.0125 - precision: 0.9836 - recall: 0.9944 - val_loss: 0.4452 - val_acc: 0.9143 - val_mean_absolute_error: 0.0944 - val_mean_squared_error: 0.0771 - val_precision: 0.9505 - val_recall: 0.9197\n",
      "Epoch 41/50\n",
      " - 8s - loss: 0.0555 - acc: 0.9863 - mean_absolute_error: 0.0256 - mean_squared_error: 0.0123 - precision: 0.9850 - recall: 0.9944 - val_loss: 0.3891 - val_acc: 0.9233 - val_mean_absolute_error: 0.0820 - val_mean_squared_error: 0.0706 - val_precision: 0.9391 - val_recall: 0.9466\n",
      "Epoch 42/50\n",
      " - 8s - loss: 0.0568 - acc: 0.9845 - mean_absolute_error: 0.0268 - mean_squared_error: 0.0131 - precision: 0.9838 - recall: 0.9929 - val_loss: 0.3638 - val_acc: 0.9250 - val_mean_absolute_error: 0.0803 - val_mean_squared_error: 0.0680 - val_precision: 0.9356 - val_recall: 0.9533\n",
      "Epoch 43/50\n",
      " - 10s - loss: 0.0533 - acc: 0.9860 - mean_absolute_error: 0.0251 - mean_squared_error: 0.0121 - precision: 0.9856 - recall: 0.9935 - val_loss: 0.4530 - val_acc: 0.9154 - val_mean_absolute_error: 0.0933 - val_mean_squared_error: 0.0764 - val_precision: 0.9505 - val_recall: 0.9214\n",
      "Epoch 44/50\n",
      " - 8s - loss: 0.0577 - acc: 0.9837 - mean_absolute_error: 0.0263 - mean_squared_error: 0.0132 - precision: 0.9829 - recall: 0.9927 - val_loss: 0.3703 - val_acc: 0.9241 - val_mean_absolute_error: 0.0802 - val_mean_squared_error: 0.0684 - val_precision: 0.9359 - val_recall: 0.9516\n",
      "Epoch 45/50\n",
      " - 8s - loss: 0.0583 - acc: 0.9828 - mean_absolute_error: 0.0282 - mean_squared_error: 0.0137 - precision: 0.9823 - recall: 0.9918 - val_loss: 0.3929 - val_acc: 0.9230 - val_mean_absolute_error: 0.0835 - val_mean_squared_error: 0.0705 - val_precision: 0.9424 - val_recall: 0.9424\n",
      "Epoch 46/50\n",
      " - 8s - loss: 0.0533 - acc: 0.9861 - mean_absolute_error: 0.0247 - mean_squared_error: 0.0120 - precision: 0.9857 - recall: 0.9935 - val_loss: 0.4209 - val_acc: 0.9210 - val_mean_absolute_error: 0.0887 - val_mean_squared_error: 0.0736 - val_precision: 0.9456 - val_recall: 0.9357\n",
      "Epoch 47/50\n",
      " - 8s - loss: 0.0511 - acc: 0.9877 - mean_absolute_error: 0.0236 - mean_squared_error: 0.0107 - precision: 0.9863 - recall: 0.9953 - val_loss: 0.4422 - val_acc: 0.9196 - val_mean_absolute_error: 0.0876 - val_mean_squared_error: 0.0748 - val_precision: 0.9444 - val_recall: 0.9348\n",
      "Epoch 48/50\n",
      " - 8s - loss: 0.0496 - acc: 0.9870 - mean_absolute_error: 0.0226 - mean_squared_error: 0.0108 - precision: 0.9866 - recall: 0.9938 - val_loss: 0.4152 - val_acc: 0.9188 - val_mean_absolute_error: 0.0876 - val_mean_squared_error: 0.0743 - val_precision: 0.9431 - val_recall: 0.9348\n",
      "Epoch 49/50\n",
      " - 8s - loss: 0.0560 - acc: 0.9839 - mean_absolute_error: 0.0257 - mean_squared_error: 0.0130 - precision: 0.9839 - recall: 0.9918 - val_loss: 0.3584 - val_acc: 0.9221 - val_mean_absolute_error: 0.0842 - val_mean_squared_error: 0.0705 - val_precision: 0.9318 - val_recall: 0.9533\n",
      "Epoch 50/50\n",
      " - 9s - loss: 0.0475 - acc: 0.9877 - mean_absolute_error: 0.0228 - mean_squared_error: 0.0105 - precision: 0.9867 - recall: 0.9949 - val_loss: 0.3871 - val_acc: 0.9216 - val_mean_absolute_error: 0.0811 - val_mean_squared_error: 0.0711 - val_precision: 0.9282 - val_recall: 0.9567\n"
     ]
    },
    {
     "data": {
      "text/plain": [
       "<keras.callbacks.History at 0x9a6b311fd0>"
      ]
     },
     "execution_count": 50,
     "metadata": {},
     "output_type": "execute_result"
    }
   ],
   "source": [
    "#LSTM\n",
    "batch_size=64\n",
    "Y = pd.get_dummies(dataSentiment[0]).values\n",
    "X_train, X_valid, Y_train, Y_valid = train_test_split(X,Y, test_size = 0.30)\n",
    "#Here we train the Network.\n",
    "pred=model_conv.fit(X_train, Y_train, batch_size =batch_size, epochs =50, verbose =2,validation_data=(X_valid,Y_valid))\n",
    "pred"
   ]
  },
  {
   "cell_type": "code",
   "execution_count": 51,
   "metadata": {},
   "outputs": [
    {
     "name": "stdout",
     "output_type": "stream",
     "text": [
      "score: 0.39\n",
      "validation accuracy: 0.92\n",
      "Precision: 0.93\n",
      "Recacll: 0.96\n",
      "Mean Absolute Error: 0.08\n",
      "Mean Squared Error: 0.07\n"
     ]
    }
   ],
   "source": [
    "#LSTM\n",
    "score=[]\n",
    "score=model_conv.evaluate(X_valid,Y_valid,verbose=2,batch_size=batch_size)\n",
    "#keras.metrics.binary_accuracy(Y_valid,pred)\n",
    "print(\"score: %.2f\" %(score[0]))\n",
    "print(\"validation accuracy: %.2f\" % (score[1]))\n",
    "print(\"Precision: %.2f\" %(score[4]))\n",
    "print(\"Recacll: %.2f\" %(score[5]))\n",
    "print(\"Mean Absolute Error: %.2f\" % (score[2]))\n",
    "print(\"Mean Squared Error: %.2f\" % (score[3]))"
   ]
  },
  {
   "cell_type": "code",
   "execution_count": null,
   "metadata": {},
   "outputs": [
    {
     "name": "stdout",
     "output_type": "stream",
     "text": [
      "Train on 8300 samples, validate on 3558 samples\n",
      "Epoch 1/50\n"
     ]
    }
   ],
   "source": [
    "#CNN\n",
    "batch_size=64\n",
    "Y = pd.get_dummies(dataSentiment[0]).values\n",
    "X_train, X_valid, Y_train, Y_valid = train_test_split(X,Y, test_size = 0.30)\n",
    "#Here we train the Network.\n",
    "pred=model.fit(X_train, Y_train, batch_size =batch_size, epochs =50, verbose =2,validation_data=(X_valid,Y_valid))\n",
    "pred"
   ]
  },
  {
   "cell_type": "code",
   "execution_count": null,
   "metadata": {},
   "outputs": [],
   "source": []
  },
  {
   "cell_type": "code",
   "execution_count": 9,
   "metadata": {},
   "outputs": [
    {
     "name": "stdout",
     "output_type": "stream",
     "text": [
      "7876\n",
      "3982\n"
     ]
    }
   ],
   "source": [
    "print(len(NegativeReview))\n",
    "print(len(PositiveReview))"
   ]
  },
  {
   "cell_type": "code",
   "execution_count": 16,
   "metadata": {},
   "outputs": [],
   "source": [
    "from nltk.sentiment.vader import SentimentIntensityAnalyzer\n",
    "from textblob import TextBlob\n",
    "sid = SentimentIntensityAnalyzer()\n",
    "NegativeReviewSentimentIntensityAnalyzer=[]\n",
    "PositiveReviewSentimentIntensityAnalyzer=[]\n",
    "from textblob import TextBlob\n",
    "# the variable 'message_text' now contains the text we will analyze.\n",
    "for i in range(len(data)):   \n",
    "    #message_text = 'i hate you'\n",
    "\n",
    "#print(message_text)\n",
    "\n",
    "# Calling the polarity_scores method on sid and passing in the message_text outputs a dictionary with negative, neutral, positive, and compound scores for the input text\n",
    "    b = sid.polarity_scores(data.text[i])\n",
    "    #scores = sid.polarity_scores(data.reviews[i])\n",
    "    value=b['compound']\n",
    "    if value<=0:\n",
    "        NegativeReviewSentimentIntensityAnalyzer.append('Negative')\n",
    "    else:\n",
    "        PositiveReviewSentimentIntensityAnalyzer.append('Positive')\n"
   ]
  },
  {
   "cell_type": "code",
   "execution_count": 31,
   "metadata": {},
   "outputs": [],
   "source": [
    "from nltk.sentiment.vader import SentimentIntensityAnalyzer\n",
    "from textblob import TextBlob\n",
    "sid = SentimentIntensityAnalyzer()\n",
    "SentimentIntensity=[]\n",
    "# the variable 'message_text' now contains the text we will analyze.\n",
    "for i in range(len(data)):   \n",
    "    #message_text = 'i hate you'\n",
    "\n",
    "#print(message_text)\n",
    "\n",
    "# Calling the polarity_scores method on sid and passing in the message_text outputs a dictionary with negative, neutral, positive, and compound scores for the input text\n",
    "    b = sid.polarity_scores(data.text[i])\n",
    "    #scores = sid.polarity_scores(data.reviews[i])\n",
    "    value=b['compound']\n",
    "    if value<=0:\n",
    "        SentimentIntensity.append('Negative')\n",
    "    else:\n",
    "        SentimentIntensity.append('Positive')\n"
   ]
  },
  {
   "cell_type": "code",
   "execution_count": 17,
   "metadata": {},
   "outputs": [
    {
     "name": "stdout",
     "output_type": "stream",
     "text": [
      "8889\n",
      "2969\n"
     ]
    }
   ],
   "source": [
    "print(len(NegativeReviewSentimentIntensityAnalyzer))\n",
    "print(len(PositiveReviewSentimentIntensityAnalyzer))"
   ]
  },
  {
   "cell_type": "code",
   "execution_count": 32,
   "metadata": {},
   "outputs": [],
   "source": [
    "y = SentimentIntensity\n",
    "X = TEXT\n",
    "X_train, X_test, y_train, y_test = train_test_split(X, y, test_size=0.3)\n",
    "from sklearn.feature_extraction.text import TfidfVectorizer\n",
    "\n",
    "vectorizer = TfidfVectorizer(ngram_range=(1,1))\n",
    "X_train= vectorizer.fit_transform(X_train)\n",
    "X_test=vectorizer.transform(X_test)\n"
   ]
  },
  {
   "cell_type": "code",
   "execution_count": 19,
   "metadata": {},
   "outputs": [],
   "source": [
    "y = Sentiment\n",
    "X = TEXT\n",
    "X_train, X_test, y_train, y_test = train_test_split(X, y, test_size=0.3)\n",
    "from sklearn.feature_extraction.text import TfidfVectorizer\n",
    "\n",
    "vectorizer = TfidfVectorizer(ngram_range=(1,1))\n",
    "X_train= vectorizer.fit_transform(X_train)\n",
    "X_test=vectorizer.transform(X_test)\n"
   ]
  },
  {
   "cell_type": "code",
   "execution_count": 36,
   "metadata": {},
   "outputs": [],
   "source": [
    "y = SentimentIntensity\n",
    "X = TEXT\n",
    "X_train, X_test, y_train, y_test = train_test_split(X, y, test_size=0.3)\n",
    "from sklearn.feature_extraction.text import CountVectorizer\n",
    "\n",
    "vectorizer = CountVectorizer()\n",
    "X_train= vectorizer.fit_transform(X_train)\n",
    "X_test=vectorizer.transform(X_test)\n"
   ]
  },
  {
   "cell_type": "code",
   "execution_count": 27,
   "metadata": {},
   "outputs": [],
   "source": [
    "y = Sentiment\n",
    "X = TEXT\n",
    "X_train, X_test, y_train, y_test = train_test_split(X, y, test_size=0.3)\n",
    "from sklearn.feature_extraction.text import CountVectorizer\n",
    "\n",
    "vectorizer = CountVectorizer()\n",
    "X_train= vectorizer.fit_transform(X_train)\n",
    "X_test=vectorizer.transform(X_test)\n"
   ]
  },
  {
   "cell_type": "code",
   "execution_count": 21,
   "metadata": {},
   "outputs": [
    {
     "name": "stderr",
     "output_type": "stream",
     "text": [
      "C:\\Users\\Muhammad Umer\\Anaconda3\\lib\\site-packages\\sklearn\\linear_model\\logistic.py:432: FutureWarning: Default solver will be changed to 'lbfgs' in 0.22. Specify a solver to silence this warning.\n",
      "  FutureWarning)\n"
     ]
    },
    {
     "name": "stdout",
     "output_type": "stream",
     "text": [
      "Random Forest\n",
      "0.9198988195615514\n",
      "Extra Tree\n",
      "0.947442383361439\n",
      "GBM\n",
      "0.8653738055087128\n",
      "LR\n",
      "0.8991006183249016\n",
      "NB\n",
      "0.8892636312535133\n"
     ]
    }
   ],
   "source": [
    "#TF-IDF TextBlob\n",
    "from sklearn.ensemble import RandomForestClassifier\n",
    "from sklearn.ensemble import GradientBoostingClassifier\n",
    "from sklearn.ensemble import ExtraTreesClassifier\n",
    "from sklearn.linear_model import LogisticRegression\n",
    "from sklearn.naive_bayes import MultinomialNB\n",
    "from sklearn.naive_bayes import BernoulliNB\n",
    "from sklearn.metrics import confusion_matrix, classification_report, accuracy_score\n",
    "rfc = RandomForestClassifier(n_estimators=100,n_jobs=-1,random_state=2)\n",
    "etc = ExtraTreesClassifier(n_estimators=100,n_jobs=-1,random_state=2)\n",
    "gb = GradientBoostingClassifier(n_estimators=100, learning_rate = 0.1,random_state=2)\n",
    "clf= LogisticRegression()\n",
    "gnb = BernoulliNB()\n",
    "preds = rfc.fit(X_train, y_train).predict(X_test)\n",
    "predsGB = gb.fit(X_train, y_train).predict(X_test)\n",
    "predsLR = clf.fit(X_train, y_train).predict(X_test)\n",
    "predsGNB = gnb.fit(X_train, y_train).predict(X_test)\n",
    "predsETC = etc.fit(X_train, y_train).predict(X_test)\n",
    "print(\"Random Forest\")\n",
    "print(accuracy_score(y_test, preds))\n",
    "print(\"Extra Tree\")\n",
    "print(accuracy_score(y_test, predsETC))\n",
    "print(\"GBM\")\n",
    "print(accuracy_score(y_test, predsGB))\n",
    "print(\"LR\")\n",
    "print(accuracy_score(y_test, predsLR))\n",
    "print(\"NB\")\n",
    "print(accuracy_score(y_test, predsGNB))\n"
   ]
  },
  {
   "cell_type": "code",
   "execution_count": 33,
   "metadata": {},
   "outputs": [
    {
     "name": "stderr",
     "output_type": "stream",
     "text": [
      "C:\\Users\\Muhammad Umer\\Anaconda3\\lib\\site-packages\\sklearn\\linear_model\\logistic.py:432: FutureWarning: Default solver will be changed to 'lbfgs' in 0.22. Specify a solver to silence this warning.\n",
      "  FutureWarning)\n"
     ]
    },
    {
     "name": "stdout",
     "output_type": "stream",
     "text": [
      "Random Forest\n",
      "0.8974142776840922\n",
      "Extra Tree\n",
      "0.9305789769533446\n",
      "GBM\n",
      "0.852726250702642\n",
      "LR\n",
      "0.8839235525576167\n",
      "NB\n",
      "0.8875772906127037\n"
     ]
    }
   ],
   "source": [
    "#TF-IDF Sentiment Intensity\n",
    "from sklearn.ensemble import RandomForestClassifier\n",
    "from sklearn.ensemble import GradientBoostingClassifier\n",
    "from sklearn.ensemble import ExtraTreesClassifier\n",
    "from sklearn.linear_model import LogisticRegression\n",
    "from sklearn.naive_bayes import MultinomialNB\n",
    "from sklearn.naive_bayes import BernoulliNB\n",
    "from sklearn.metrics import confusion_matrix, classification_report, accuracy_score\n",
    "rfc = RandomForestClassifier(n_estimators=100,n_jobs=-1,random_state=2)\n",
    "etc = ExtraTreesClassifier(n_estimators=100,n_jobs=-1,random_state=2)\n",
    "gb = GradientBoostingClassifier(n_estimators=100, learning_rate = 0.1,random_state=2)\n",
    "clf= LogisticRegression()\n",
    "gnb = BernoulliNB()\n",
    "preds = rfc.fit(X_train, y_train).predict(X_test)\n",
    "predsGB = gb.fit(X_train, y_train).predict(X_test)\n",
    "predsLR = clf.fit(X_train, y_train).predict(X_test)\n",
    "predsGNB = gnb.fit(X_train, y_train).predict(X_test)\n",
    "predsETC = etc.fit(X_train, y_train).predict(X_test)\n",
    "print(\"Random Forest\")\n",
    "print(accuracy_score(y_test, preds))\n",
    "print(\"Extra Tree\")\n",
    "print(accuracy_score(y_test, predsETC))\n",
    "print(\"GBM\")\n",
    "print(accuracy_score(y_test, predsGB))\n",
    "print(\"LR\")\n",
    "print(accuracy_score(y_test, predsLR))\n",
    "print(\"NB\")\n",
    "print(accuracy_score(y_test, predsGNB))\n"
   ]
  },
  {
   "cell_type": "code",
   "execution_count": 28,
   "metadata": {},
   "outputs": [
    {
     "name": "stderr",
     "output_type": "stream",
     "text": [
      "C:\\Users\\Muhammad Umer\\Anaconda3\\lib\\site-packages\\sklearn\\linear_model\\logistic.py:432: FutureWarning: Default solver will be changed to 'lbfgs' in 0.22. Specify a solver to silence this warning.\n",
      "  FutureWarning)\n"
     ]
    },
    {
     "name": "stdout",
     "output_type": "stream",
     "text": [
      "Random Forest\n",
      "0.925238898257448\n",
      "Extra Tree\n",
      "0.9406970207982013\n",
      "GBM\n",
      "0.8603147835862844\n",
      "LR\n",
      "0.9249578414839797\n",
      "NB\n",
      "0.8788645306351883\n"
     ]
    }
   ],
   "source": [
    "#COuntVectorizer TextBlob\n",
    "from sklearn.ensemble import RandomForestClassifier\n",
    "from sklearn.ensemble import GradientBoostingClassifier\n",
    "from sklearn.ensemble import ExtraTreesClassifier\n",
    "from sklearn.linear_model import LogisticRegression\n",
    "from sklearn.naive_bayes import MultinomialNB\n",
    "from sklearn.naive_bayes import BernoulliNB\n",
    "from sklearn.metrics import confusion_matrix, classification_report, accuracy_score\n",
    "rfc = RandomForestClassifier(n_estimators=100,n_jobs=-1,random_state=2)\n",
    "etc = ExtraTreesClassifier(n_estimators=100,n_jobs=-1,random_state=2)\n",
    "gb = GradientBoostingClassifier(n_estimators=100, learning_rate = 0.1,random_state=2)\n",
    "clf= LogisticRegression()\n",
    "gnb = BernoulliNB()\n",
    "preds = rfc.fit(X_train, y_train).predict(X_test)\n",
    "predsGB = gb.fit(X_train, y_train).predict(X_test)\n",
    "predsLR = clf.fit(X_train, y_train).predict(X_test)\n",
    "predsGNB = gnb.fit(X_train, y_train).predict(X_test)\n",
    "predsETC = etc.fit(X_train, y_train).predict(X_test)\n",
    "print(\"Random Forest\")\n",
    "print(accuracy_score(y_test, preds))\n",
    "print(\"Extra Tree\")\n",
    "print(accuracy_score(y_test, predsETC))\n",
    "print(\"GBM\")\n",
    "print(accuracy_score(y_test, predsGB))\n",
    "print(\"LR\")\n",
    "print(accuracy_score(y_test, predsLR))\n",
    "print(\"NB\")\n",
    "print(accuracy_score(y_test, predsGNB))\n"
   ]
  },
  {
   "cell_type": "code",
   "execution_count": 37,
   "metadata": {},
   "outputs": [
    {
     "name": "stderr",
     "output_type": "stream",
     "text": [
      "C:\\Users\\Muhammad Umer\\Anaconda3\\lib\\site-packages\\sklearn\\linear_model\\logistic.py:432: FutureWarning: Default solver will be changed to 'lbfgs' in 0.22. Specify a solver to silence this warning.\n",
      "  FutureWarning)\n"
     ]
    },
    {
     "name": "stdout",
     "output_type": "stream",
     "text": [
      "Random Forest\n",
      "0.9131534569983136\n",
      "Extra Tree\n",
      "0.927487352445194\n",
      "GBM\n",
      "0.8532883642495784\n",
      "LR\n",
      "0.9168071950534008\n",
      "NB\n",
      "0.883080382237212\n"
     ]
    }
   ],
   "source": [
    "#COuntVectorizer Intensity\n",
    "from sklearn.ensemble import RandomForestClassifier\n",
    "from sklearn.ensemble import GradientBoostingClassifier\n",
    "from sklearn.ensemble import ExtraTreesClassifier\n",
    "from sklearn.linear_model import LogisticRegression\n",
    "from sklearn.naive_bayes import MultinomialNB\n",
    "from sklearn.naive_bayes import BernoulliNB\n",
    "from sklearn.metrics import confusion_matrix, classification_report, accuracy_score\n",
    "rfc = RandomForestClassifier(n_estimators=100,n_jobs=-1,random_state=2)\n",
    "etc = ExtraTreesClassifier(n_estimators=100,n_jobs=-1,random_state=2)\n",
    "gb = GradientBoostingClassifier(n_estimators=100, learning_rate = 0.1,random_state=2)\n",
    "clf= LogisticRegression()\n",
    "gnb = BernoulliNB()\n",
    "preds = rfc.fit(X_train, y_train).predict(X_test)\n",
    "predsGB = gb.fit(X_train, y_train).predict(X_test)\n",
    "predsLR = clf.fit(X_train, y_train).predict(X_test)\n",
    "predsGNB = gnb.fit(X_train, y_train).predict(X_test)\n",
    "predsETC = etc.fit(X_train, y_train).predict(X_test)\n",
    "print(\"Random Forest\")\n",
    "print(accuracy_score(y_test, preds))\n",
    "print(\"Extra Tree\")\n",
    "print(accuracy_score(y_test, predsETC))\n",
    "print(\"GBM\")\n",
    "print(accuracy_score(y_test, predsGB))\n",
    "print(\"LR\")\n",
    "print(accuracy_score(y_test, predsLR))\n",
    "print(\"NB\")\n",
    "print(accuracy_score(y_test, predsGNB))\n"
   ]
  },
  {
   "cell_type": "code",
   "execution_count": 29,
   "metadata": {},
   "outputs": [
    {
     "name": "stdout",
     "output_type": "stream",
     "text": [
      "Stochastic Gradient Classifier\n",
      "0.9378864530635188\n",
      "Voting Classifier LR+SGD\n"
     ]
    },
    {
     "name": "stderr",
     "output_type": "stream",
     "text": [
      "C:\\Users\\Muhammad Umer\\Anaconda3\\lib\\site-packages\\sklearn\\linear_model\\logistic.py:432: FutureWarning: Default solver will be changed to 'lbfgs' in 0.22. Specify a solver to silence this warning.\n",
      "  FutureWarning)\n"
     ]
    },
    {
     "name": "stdout",
     "output_type": "stream",
     "text": [
      "0.924114671163575\n"
     ]
    }
   ],
   "source": [
    "#count Vectorizer TextBlob\n",
    "from sklearn.calibration import CalibratedClassifierCV\n",
    "from sklearn.linear_model import SGDClassifier\n",
    "print(\"Stochastic Gradient Classifier\")\n",
    "clf = SGDClassifier(max_iter=1100, tol=1e-3)\n",
    "calibrated_clf = CalibratedClassifierCV(clf, cv=5, method='isotonic')\n",
    "predSGD=calibrated_clf.fit(X_train, y_train).predict(X_test)\n",
    "print(accuracy_score(y_test,predSGD))\n",
    "\n",
    "from sklearn.linear_model import LogisticRegression\n",
    "from sklearn.ensemble import VotingClassifier\n",
    "from sklearn.linear_model import SGDClassifier\n",
    "print(\"Voting Classifier LR+SGD\")\n",
    "clf2 = SGDClassifier(max_iter=1100, tol=1e-3)\n",
    "clf1 = LogisticRegression()\n",
    "eclf1 = VotingClassifier(estimators=[\n",
    "        ('lr', clf1), ('sgd', clf2)],voting='hard')\n",
    "predictionVC=eclf1.fit(X_train, y_train).predict(X_test)\n",
    "print(accuracy_score(y_test,predictionVC))"
   ]
  },
  {
   "cell_type": "code",
   "execution_count": 38,
   "metadata": {},
   "outputs": [
    {
     "name": "stdout",
     "output_type": "stream",
     "text": [
      "Stochastic Gradient Classifier\n",
      "0.9238336143901068\n",
      "Voting Classifier LR+SGD\n"
     ]
    },
    {
     "name": "stderr",
     "output_type": "stream",
     "text": [
      "C:\\Users\\Muhammad Umer\\Anaconda3\\lib\\site-packages\\sklearn\\linear_model\\logistic.py:432: FutureWarning: Default solver will be changed to 'lbfgs' in 0.22. Specify a solver to silence this warning.\n",
      "  FutureWarning)\n"
     ]
    },
    {
     "name": "stdout",
     "output_type": "stream",
     "text": [
      "0.918212478920742\n"
     ]
    }
   ],
   "source": [
    "#count Vectorizer Intensity\n",
    "from sklearn.calibration import CalibratedClassifierCV\n",
    "from sklearn.linear_model import SGDClassifier\n",
    "print(\"Stochastic Gradient Classifier\")\n",
    "clf = SGDClassifier(max_iter=1100, tol=1e-3)\n",
    "calibrated_clf = CalibratedClassifierCV(clf, cv=5, method='isotonic')\n",
    "predSGD=calibrated_clf.fit(X_train, y_train).predict(X_test)\n",
    "print(accuracy_score(y_test,predSGD))\n",
    "\n",
    "from sklearn.linear_model import LogisticRegression\n",
    "from sklearn.ensemble import VotingClassifier\n",
    "from sklearn.linear_model import SGDClassifier\n",
    "print(\"Voting Classifier LR+SGD\")\n",
    "clf2 = SGDClassifier(max_iter=1100, tol=1e-3)\n",
    "clf1 = LogisticRegression()\n",
    "eclf1 = VotingClassifier(estimators=[\n",
    "        ('lr', clf1), ('sgd', clf2)],voting='hard')\n",
    "predictionVC=eclf1.fit(X_train, y_train).predict(X_test)\n",
    "print(accuracy_score(y_test,predictionVC))"
   ]
  },
  {
   "cell_type": "code",
   "execution_count": 22,
   "metadata": {},
   "outputs": [
    {
     "name": "stdout",
     "output_type": "stream",
     "text": [
      "Stochastic Gradient Classifier\n",
      "0.9401349072512648\n",
      "Voting Classifier LR+SGD\n"
     ]
    },
    {
     "name": "stderr",
     "output_type": "stream",
     "text": [
      "C:\\Users\\Muhammad Umer\\Anaconda3\\lib\\site-packages\\sklearn\\linear_model\\logistic.py:432: FutureWarning: Default solver will be changed to 'lbfgs' in 0.22. Specify a solver to silence this warning.\n",
      "  FutureWarning)\n"
     ]
    },
    {
     "name": "stdout",
     "output_type": "stream",
     "text": [
      "0.9002248454187746\n"
     ]
    }
   ],
   "source": [
    "#TF-IDF TextBlob\n",
    "from sklearn.calibration import CalibratedClassifierCV\n",
    "from sklearn.linear_model import SGDClassifier\n",
    "print(\"Stochastic Gradient Classifier\")\n",
    "clf = SGDClassifier(max_iter=1100, tol=1e-3)\n",
    "calibrated_clf = CalibratedClassifierCV(clf, cv=5, method='isotonic')\n",
    "predSGD=calibrated_clf.fit(X_train, y_train).predict(X_test)\n",
    "print(accuracy_score(y_test,predSGD))\n",
    "\n",
    "from sklearn.linear_model import LogisticRegression\n",
    "from sklearn.ensemble import VotingClassifier\n",
    "from sklearn.linear_model import SGDClassifier\n",
    "print(\"Voting Classifier LR+SGD\")\n",
    "clf2 = SGDClassifier(max_iter=1100, tol=1e-3)\n",
    "clf1 = LogisticRegression()\n",
    "eclf1 = VotingClassifier(estimators=[\n",
    "        ('lr', clf1), ('sgd', clf2)],voting='hard')\n",
    "predictionVC=eclf1.fit(X_train, y_train).predict(X_test)\n",
    "print(accuracy_score(y_test,predictionVC))"
   ]
  },
  {
   "cell_type": "code",
   "execution_count": 34,
   "metadata": {},
   "outputs": [
    {
     "name": "stdout",
     "output_type": "stream",
     "text": [
      "Stochastic Gradient Classifier\n",
      "0.9243957279370433\n",
      "Voting Classifier LR+SGD\n"
     ]
    },
    {
     "name": "stderr",
     "output_type": "stream",
     "text": [
      "C:\\Users\\Muhammad Umer\\Anaconda3\\lib\\site-packages\\sklearn\\linear_model\\logistic.py:432: FutureWarning: Default solver will be changed to 'lbfgs' in 0.22. Specify a solver to silence this warning.\n",
      "  FutureWarning)\n"
     ]
    },
    {
     "name": "stdout",
     "output_type": "stream",
     "text": [
      "0.883080382237212\n"
     ]
    }
   ],
   "source": [
    "#TF-IDF Sentiment Intensity\n",
    "from sklearn.calibration import CalibratedClassifierCV\n",
    "from sklearn.linear_model import SGDClassifier\n",
    "print(\"Stochastic Gradient Classifier\")\n",
    "clf = SGDClassifier(max_iter=1100, tol=1e-3)\n",
    "calibrated_clf = CalibratedClassifierCV(clf, cv=5, method='isotonic')\n",
    "predSGD=calibrated_clf.fit(X_train, y_train).predict(X_test)\n",
    "print(accuracy_score(y_test,predSGD))\n",
    "\n",
    "from sklearn.linear_model import LogisticRegression\n",
    "from sklearn.ensemble import VotingClassifier\n",
    "from sklearn.linear_model import SGDClassifier\n",
    "print(\"Voting Classifier LR+SGD\")\n",
    "clf2 = SGDClassifier(max_iter=1100, tol=1e-3)\n",
    "clf1 = LogisticRegression()\n",
    "eclf1 = VotingClassifier(estimators=[\n",
    "        ('lr', clf1), ('sgd', clf2)],voting='hard')\n",
    "predictionVC=eclf1.fit(X_train, y_train).predict(X_test)\n",
    "print(accuracy_score(y_test,predictionVC))"
   ]
  },
  {
   "cell_type": "code",
   "execution_count": 26,
   "metadata": {},
   "outputs": [
    {
     "name": "stdout",
     "output_type": "stream",
     "text": [
      "GBM\n",
      "              precision    recall  f1-score   support\n",
      "\n",
      "    Negative       0.84      0.99      0.91      2359\n",
      "    Positive       0.96      0.63      0.76      1199\n",
      "\n",
      "    accuracy                           0.87      3558\n",
      "   macro avg       0.90      0.81      0.83      3558\n",
      "weighted avg       0.88      0.87      0.86      3558\n",
      "\n",
      "GNB\n",
      "              precision    recall  f1-score   support\n",
      "\n",
      "    Negative       0.87      0.98      0.92      2359\n",
      "    Positive       0.94      0.72      0.81      1199\n",
      "\n",
      "    accuracy                           0.89      3558\n",
      "   macro avg       0.91      0.85      0.87      3558\n",
      "weighted avg       0.89      0.89      0.88      3558\n",
      "\n",
      "ETC\n",
      "              precision    recall  f1-score   support\n",
      "\n",
      "    Negative       0.94      0.98      0.96      2359\n",
      "    Positive       0.96      0.88      0.92      1199\n",
      "\n",
      "    accuracy                           0.95      3558\n",
      "   macro avg       0.95      0.93      0.94      3558\n",
      "weighted avg       0.95      0.95      0.95      3558\n",
      "\n",
      "LR\n",
      "              precision    recall  f1-score   support\n",
      "\n",
      "    Negative       0.87      0.99      0.93      2359\n",
      "    Positive       0.97      0.72      0.83      1199\n",
      "\n",
      "    accuracy                           0.90      3558\n",
      "   macro avg       0.92      0.86      0.88      3558\n",
      "weighted avg       0.91      0.90      0.89      3558\n",
      "\n",
      "SGD\n",
      "              precision    recall  f1-score   support\n",
      "\n",
      "    Negative       0.96      0.95      0.95      2359\n",
      "    Positive       0.91      0.91      0.91      1199\n",
      "\n",
      "    accuracy                           0.94      3558\n",
      "   macro avg       0.93      0.93      0.93      3558\n",
      "weighted avg       0.94      0.94      0.94      3558\n",
      "\n",
      "Voting Classifier\n",
      "              precision    recall  f1-score   support\n",
      "\n",
      "    Negative       0.87      0.99      0.93      2359\n",
      "    Positive       0.98      0.72      0.83      1199\n",
      "\n",
      "    accuracy                           0.90      3558\n",
      "   macro avg       0.93      0.86      0.88      3558\n",
      "weighted avg       0.91      0.90      0.90      3558\n",
      "\n",
      "Random Forest\n",
      "              precision    recall  f1-score   support\n",
      "\n",
      "    Negative       0.90      0.98      0.94      2359\n",
      "    Positive       0.96      0.79      0.87      1199\n",
      "\n",
      "    accuracy                           0.92      3558\n",
      "   macro avg       0.93      0.89      0.91      3558\n",
      "weighted avg       0.92      0.92      0.92      3558\n",
      "\n"
     ]
    }
   ],
   "source": [
    "#TF-IDF TextBlob\n",
    "print(\"GBM\")\n",
    "print(classification_report(y_test,predsGB))\n",
    "print(\"GNB\")\n",
    "print(classification_report(y_test,predsGNB))\n",
    "print(\"ETC\")\n",
    "print(classification_report(y_test,predsETC))\n",
    "print(\"LR\")\n",
    "print(classification_report(y_test,predsLR))\n",
    "print(\"SGD\")\n",
    "print(classification_report(y_test,predSGD))\n",
    "print(\"Voting Classifier\")\n",
    "print(classification_report(y_test,predictionVC))\n",
    "print(\"Random Forest\")\n",
    "print(classification_report(y_test,preds))\n"
   ]
  },
  {
   "cell_type": "code",
   "execution_count": 35,
   "metadata": {},
   "outputs": [
    {
     "name": "stdout",
     "output_type": "stream",
     "text": [
      "GBM\n",
      "              precision    recall  f1-score   support\n",
      "\n",
      "    Negative       0.84      0.99      0.91      2687\n",
      "    Positive       0.91      0.44      0.60       871\n",
      "\n",
      "    accuracy                           0.85      3558\n",
      "   macro avg       0.88      0.71      0.75      3558\n",
      "weighted avg       0.86      0.85      0.83      3558\n",
      "\n",
      "GNB\n",
      "              precision    recall  f1-score   support\n",
      "\n",
      "    Negative       0.88      0.98      0.93      2687\n",
      "    Positive       0.92      0.60      0.72       871\n",
      "\n",
      "    accuracy                           0.89      3558\n",
      "   macro avg       0.90      0.79      0.83      3558\n",
      "weighted avg       0.89      0.89      0.88      3558\n",
      "\n",
      "ETC\n",
      "              precision    recall  f1-score   support\n",
      "\n",
      "    Negative       0.94      0.97      0.95      2687\n",
      "    Positive       0.91      0.80      0.85       871\n",
      "\n",
      "    accuracy                           0.93      3558\n",
      "   macro avg       0.92      0.88      0.90      3558\n",
      "weighted avg       0.93      0.93      0.93      3558\n",
      "\n",
      "LR\n",
      "              precision    recall  f1-score   support\n",
      "\n",
      "    Negative       0.87      0.99      0.93      2687\n",
      "    Positive       0.94      0.56      0.70       871\n",
      "\n",
      "    accuracy                           0.88      3558\n",
      "   macro avg       0.91      0.78      0.82      3558\n",
      "weighted avg       0.89      0.88      0.87      3558\n",
      "\n",
      "SGD\n",
      "              precision    recall  f1-score   support\n",
      "\n",
      "    Negative       0.94      0.96      0.95      2687\n",
      "    Positive       0.86      0.82      0.84       871\n",
      "\n",
      "    accuracy                           0.92      3558\n",
      "   macro avg       0.90      0.89      0.90      3558\n",
      "weighted avg       0.92      0.92      0.92      3558\n",
      "\n",
      "Voting Classifier\n",
      "              precision    recall  f1-score   support\n",
      "\n",
      "    Negative       0.87      0.99      0.93      2687\n",
      "    Positive       0.94      0.56      0.70       871\n",
      "\n",
      "    accuracy                           0.88      3558\n",
      "   macro avg       0.91      0.77      0.81      3558\n",
      "weighted avg       0.89      0.88      0.87      3558\n",
      "\n",
      "Random Forest\n",
      "              precision    recall  f1-score   support\n",
      "\n",
      "    Negative       0.89      0.98      0.94      2687\n",
      "    Positive       0.92      0.63      0.75       871\n",
      "\n",
      "    accuracy                           0.90      3558\n",
      "   macro avg       0.91      0.81      0.84      3558\n",
      "weighted avg       0.90      0.90      0.89      3558\n",
      "\n"
     ]
    }
   ],
   "source": [
    "#TF-IDF Sentiment Intensity\n",
    "print(\"GBM\")\n",
    "print(classification_report(y_test,predsGB))\n",
    "print(\"GNB\")\n",
    "print(classification_report(y_test,predsGNB))\n",
    "print(\"ETC\")\n",
    "print(classification_report(y_test,predsETC))\n",
    "print(\"LR\")\n",
    "print(classification_report(y_test,predsLR))\n",
    "print(\"SGD\")\n",
    "print(classification_report(y_test,predSGD))\n",
    "print(\"Voting Classifier\")\n",
    "print(classification_report(y_test,predictionVC))\n",
    "print(\"Random Forest\")\n",
    "print(classification_report(y_test,preds))\n"
   ]
  },
  {
   "cell_type": "code",
   "execution_count": 30,
   "metadata": {},
   "outputs": [
    {
     "name": "stdout",
     "output_type": "stream",
     "text": [
      "GBM\n",
      "              precision    recall  f1-score   support\n",
      "\n",
      "    Negative       0.83      0.99      0.90      2361\n",
      "    Positive       0.96      0.61      0.75      1197\n",
      "\n",
      "    accuracy                           0.86      3558\n",
      "   macro avg       0.90      0.80      0.83      3558\n",
      "weighted avg       0.88      0.86      0.85      3558\n",
      "\n",
      "GNB\n",
      "              precision    recall  f1-score   support\n",
      "\n",
      "    Negative       0.86      0.97      0.91      2361\n",
      "    Positive       0.93      0.69      0.79      1197\n",
      "\n",
      "    accuracy                           0.88      3558\n",
      "   macro avg       0.90      0.83      0.85      3558\n",
      "weighted avg       0.88      0.88      0.87      3558\n",
      "\n",
      "ETC\n",
      "              precision    recall  f1-score   support\n",
      "\n",
      "    Negative       0.94      0.98      0.96      2361\n",
      "    Positive       0.95      0.87      0.91      1197\n",
      "\n",
      "    accuracy                           0.94      3558\n",
      "   macro avg       0.94      0.92      0.93      3558\n",
      "weighted avg       0.94      0.94      0.94      3558\n",
      "\n",
      "LR\n",
      "              precision    recall  f1-score   support\n",
      "\n",
      "    Negative       0.91      0.98      0.95      2361\n",
      "    Positive       0.95      0.82      0.88      1197\n",
      "\n",
      "    accuracy                           0.92      3558\n",
      "   macro avg       0.93      0.90      0.91      3558\n",
      "weighted avg       0.93      0.92      0.92      3558\n",
      "\n",
      "SGD\n",
      "              precision    recall  f1-score   support\n",
      "\n",
      "    Negative       0.94      0.97      0.95      2361\n",
      "    Positive       0.93      0.88      0.91      1197\n",
      "\n",
      "    accuracy                           0.94      3558\n",
      "   macro avg       0.94      0.92      0.93      3558\n",
      "weighted avg       0.94      0.94      0.94      3558\n",
      "\n",
      "Voting Classifier\n",
      "              precision    recall  f1-score   support\n",
      "\n",
      "    Negative       0.91      0.98      0.95      2361\n",
      "    Positive       0.96      0.81      0.88      1197\n",
      "\n",
      "    accuracy                           0.92      3558\n",
      "   macro avg       0.94      0.90      0.91      3558\n",
      "weighted avg       0.93      0.92      0.92      3558\n",
      "\n",
      "Random Forest\n",
      "              precision    recall  f1-score   support\n",
      "\n",
      "    Negative       0.91      0.98      0.95      2361\n",
      "    Positive       0.96      0.81      0.88      1197\n",
      "\n",
      "    accuracy                           0.93      3558\n",
      "   macro avg       0.94      0.90      0.91      3558\n",
      "weighted avg       0.93      0.93      0.92      3558\n",
      "\n"
     ]
    }
   ],
   "source": [
    "#count Vectorizer TextBlob\n",
    "print(\"GBM\")\n",
    "print(classification_report(y_test,predsGB))\n",
    "print(\"GNB\")\n",
    "print(classification_report(y_test,predsGNB))\n",
    "print(\"ETC\")\n",
    "print(classification_report(y_test,predsETC))\n",
    "print(\"LR\")\n",
    "print(classification_report(y_test,predsLR))\n",
    "print(\"SGD\")\n",
    "print(classification_report(y_test,predSGD))\n",
    "print(\"Voting Classifier\")\n",
    "print(classification_report(y_test,predictionVC))\n",
    "print(\"Random Forest\")\n",
    "print(classification_report(y_test,preds))\n"
   ]
  },
  {
   "cell_type": "code",
   "execution_count": 39,
   "metadata": {},
   "outputs": [
    {
     "name": "stdout",
     "output_type": "stream",
     "text": [
      "GBM\n",
      "              precision    recall  f1-score   support\n",
      "\n",
      "    Negative       0.85      0.99      0.91      2683\n",
      "    Positive       0.91      0.45      0.60       875\n",
      "\n",
      "    accuracy                           0.85      3558\n",
      "   macro avg       0.88      0.72      0.76      3558\n",
      "weighted avg       0.86      0.85      0.83      3558\n",
      "\n",
      "GNB\n",
      "              precision    recall  f1-score   support\n",
      "\n",
      "    Negative       0.88      0.98      0.93      2683\n",
      "    Positive       0.90      0.59      0.71       875\n",
      "\n",
      "    accuracy                           0.88      3558\n",
      "   macro avg       0.89      0.79      0.82      3558\n",
      "weighted avg       0.88      0.88      0.87      3558\n",
      "\n",
      "ETC\n",
      "              precision    recall  f1-score   support\n",
      "\n",
      "    Negative       0.93      0.97      0.95      2683\n",
      "    Positive       0.91      0.78      0.84       875\n",
      "\n",
      "    accuracy                           0.93      3558\n",
      "   macro avg       0.92      0.88      0.90      3558\n",
      "weighted avg       0.93      0.93      0.93      3558\n",
      "\n",
      "LR\n",
      "              precision    recall  f1-score   support\n",
      "\n",
      "    Negative       0.92      0.97      0.95      2683\n",
      "    Positive       0.89      0.75      0.82       875\n",
      "\n",
      "    accuracy                           0.92      3558\n",
      "   macro avg       0.91      0.86      0.88      3558\n",
      "weighted avg       0.92      0.92      0.91      3558\n",
      "\n",
      "SGD\n",
      "              precision    recall  f1-score   support\n",
      "\n",
      "    Negative       0.93      0.97      0.95      2683\n",
      "    Positive       0.89      0.79      0.84       875\n",
      "\n",
      "    accuracy                           0.92      3558\n",
      "   macro avg       0.91      0.88      0.89      3558\n",
      "weighted avg       0.92      0.92      0.92      3558\n",
      "\n",
      "Voting Classifier\n",
      "              precision    recall  f1-score   support\n",
      "\n",
      "    Negative       0.92      0.98      0.95      2683\n",
      "    Positive       0.91      0.74      0.82       875\n",
      "\n",
      "    accuracy                           0.92      3558\n",
      "   macro avg       0.91      0.86      0.88      3558\n",
      "weighted avg       0.92      0.92      0.92      3558\n",
      "\n",
      "Random Forest\n",
      "              precision    recall  f1-score   support\n",
      "\n",
      "    Negative       0.91      0.98      0.94      2683\n",
      "    Positive       0.94      0.69      0.80       875\n",
      "\n",
      "    accuracy                           0.91      3558\n",
      "   macro avg       0.92      0.84      0.87      3558\n",
      "weighted avg       0.91      0.91      0.91      3558\n",
      "\n"
     ]
    }
   ],
   "source": [
    "#count Vectorizer Intensity\n",
    "print(\"GBM\")\n",
    "print(classification_report(y_test,predsGB))\n",
    "print(\"GNB\")\n",
    "print(classification_report(y_test,predsGNB))\n",
    "print(\"ETC\")\n",
    "print(classification_report(y_test,predsETC))\n",
    "print(\"LR\")\n",
    "print(classification_report(y_test,predsLR))\n",
    "print(\"SGD\")\n",
    "print(classification_report(y_test,predSGD))\n",
    "print(\"Voting Classifier\")\n",
    "print(classification_report(y_test,predictionVC))\n",
    "print(\"Random Forest\")\n",
    "print(classification_report(y_test,preds))\n"
   ]
  },
  {
   "cell_type": "code",
   "execution_count": 80,
   "metadata": {},
   "outputs": [
    {
     "name": "stdout",
     "output_type": "stream",
     "text": [
      "3.875892857142857\n",
      "4480\n",
      "17364\n"
     ]
    }
   ],
   "source": [
    "count=0\n",
    "values=0\n",
    "for i in range(len(data)):\n",
    "    if data['app_id'][i]=='com.ffgames.racingincar2':\n",
    "        values=values+1\n",
    "        #print(data['rating'][i])\n",
    "        count =count+data['rating'][i]\n",
    "print(count/values)\n",
    "print(values)\n",
    "print(count)"
   ]
  },
  {
   "cell_type": "code",
   "execution_count": 72,
   "metadata": {},
   "outputs": [
    {
     "name": "stderr",
     "output_type": "stream",
     "text": [
      "C:\\Users\\Muhammad Umer\\Anaconda3\\lib\\site-packages\\sklearn\\feature_extraction\\text.py:1089: FutureWarning:\n",
      "\n",
      "Conversion of the second argument of issubdtype from `float` to `np.floating` is deprecated. In future, it will be treated as `np.float64 == np.dtype(float).type`.\n",
      "\n"
     ]
    },
    {
     "name": "stdout",
     "output_type": "stream",
     "text": [
      "Random Forest\n",
      "0.6301111111111111\n",
      "             precision    recall  f1-score   support\n",
      "\n",
      "          1       0.52      0.72      0.60      1704\n",
      "          2       0.33      0.02      0.04       640\n",
      "          3       0.33      0.05      0.08       829\n",
      "          4       0.34      0.03      0.06      1177\n",
      "          5       0.68      0.94      0.79      4650\n",
      "\n",
      "avg / total       0.55      0.63      0.54      9000\n",
      "\n"
     ]
    }
   ],
   "source": [
    "CommunicationSentiment=[]\n",
    "CommunicationSentiment=[]\n",
    "for i in range(len(data)):\n",
    "        if data['cetagory'][i]==category[1]:\n",
    "            CommunicationSentiment.append(data['reviews'][i])\n",
    "            CommunicationSentiment.append(data['rating'][i])\n",
    "y =CommunicationSentiment\n",
    "X=CommunicationSentiment\n",
    "X_train, X_test, y_train, y_test = train_test_split(X, y, test_size=0.3)\n",
    "from sklearn.feature_extraction.text import TfidfVectorizer\n",
    "\n",
    "vectorizer = TfidfVectorizer()\n",
    "X_train= vectorizer.fit_transform(X_train)\n",
    "X_test=vectorizer.transform(X_test)\n",
    "\n",
    "from sklearn.ensemble import RandomForestClassifier\n",
    "from sklearn.metrics import confusion_matrix, classification_report, accuracy_score\n",
    "rfc = RandomForestClassifier(n_estimators=100,n_jobs=-1,random_state=2)\n",
    "preds = rfc.fit(X_train, y_train).predict(X_test)\n",
    "print(\"Random Forest\")\n",
    "print(accuracy_score(y_test, preds))\n",
    "print(classification_report(y_test,preds))"
   ]
  },
  {
   "cell_type": "code",
   "execution_count": 79,
   "metadata": {},
   "outputs": [
    {
     "name": "stderr",
     "output_type": "stream",
     "text": [
      "C:\\Users\\Muhammad Umer\\Anaconda3\\lib\\site-packages\\sklearn\\feature_extraction\\text.py:1089: FutureWarning:\n",
      "\n",
      "Conversion of the second argument of issubdtype from `float` to `np.floating` is deprecated. In future, it will be treated as `np.float64 == np.dtype(float).type`.\n",
      "\n"
     ]
    },
    {
     "name": "stdout",
     "output_type": "stream",
     "text": [
      "Random Forest\n",
      "0.7051272370308842\n",
      "             precision    recall  f1-score   support\n",
      "\n",
      "          1       0.68      0.45      0.54      1583\n",
      "          2       0.33      0.02      0.04       377\n",
      "          3       0.35      0.06      0.10       925\n",
      "          4       0.30      0.03      0.05      1589\n",
      "          5       0.72      0.97      0.83      8769\n",
      "\n",
      "avg / total       0.63      0.71      0.63     13243\n",
      "\n"
     ]
    }
   ],
   "source": [
    "ActionSentiment=[]\n",
    "ActionRating=[]\n",
    "for i in range(len(data)):\n",
    "        if data['cetagory'][i]==category[2]:\n",
    "            ActionSentiment.append(data['reviews'][i])\n",
    "            ActionRating.append(data['rating'][i])\n",
    "y =ActionRating\n",
    "X=ActionSentiment\n",
    "X_train, X_test, y_train, y_test = train_test_split(X, y, test_size=0.3)\n",
    "from sklearn.feature_extraction.text import TfidfVectorizer\n",
    "\n",
    "vectorizer = TfidfVectorizer()\n",
    "X_train= vectorizer.fit_transform(X_train)\n",
    "X_test=vectorizer.transform(X_test)\n",
    "\n",
    "from sklearn.ensemble import RandomForestClassifier\n",
    "from sklearn.metrics import confusion_matrix, classification_report, accuracy_score\n",
    "rfc = RandomForestClassifier(n_estimators=100,n_jobs=-1,random_state=2)\n",
    "preds = rfc.fit(X_train, y_train).predict(X_test)\n",
    "print(\"Random Forest\")\n",
    "print(accuracy_score(y_test, preds))\n",
    "print(classification_report(y_test,preds))"
   ]
  },
  {
   "cell_type": "code",
   "execution_count": 80,
   "metadata": {},
   "outputs": [
    {
     "name": "stderr",
     "output_type": "stream",
     "text": [
      "C:\\Users\\Muhammad Umer\\Anaconda3\\lib\\site-packages\\sklearn\\feature_extraction\\text.py:1089: FutureWarning:\n",
      "\n",
      "Conversion of the second argument of issubdtype from `float` to `np.floating` is deprecated. In future, it will be treated as `np.float64 == np.dtype(float).type`.\n",
      "\n"
     ]
    },
    {
     "name": "stdout",
     "output_type": "stream",
     "text": [
      "Random Forest\n",
      "0.7430884999182071\n",
      "             precision    recall  f1-score   support\n",
      "\n",
      "          1       0.64      0.26      0.37       660\n",
      "          2       0.32      0.03      0.06       230\n",
      "          3       0.34      0.08      0.13       739\n",
      "          4       0.35      0.04      0.08      1612\n",
      "          5       0.76      0.98      0.85      8985\n",
      "\n",
      "avg / total       0.67      0.74      0.67     12226\n",
      "\n"
     ]
    }
   ],
   "source": [
    "ArcadeSentiment=[]\n",
    "ArcadeRating=[]\n",
    "for i in range(len(data)):\n",
    "        if data['cetagory'][i]==category[3]:\n",
    "            ArcadeSentiment.append(data['reviews'][i])\n",
    "            ArcadeRating.append(data['rating'][i])\n",
    "y =ArcadeRating\n",
    "X=ArcadeSentiment\n",
    "X_train, X_test, y_train, y_test = train_test_split(X, y, test_size=0.3)\n",
    "from sklearn.feature_extraction.text import TfidfVectorizer\n",
    "\n",
    "vectorizer = TfidfVectorizer()\n",
    "X_train= vectorizer.fit_transform(X_train)\n",
    "X_test=vectorizer.transform(X_test)\n",
    "\n",
    "from sklearn.ensemble import RandomForestClassifier\n",
    "from sklearn.metrics import confusion_matrix, classification_report, accuracy_score\n",
    "rfc = RandomForestClassifier(n_estimators=100,n_jobs=-1,random_state=2)\n",
    "preds = rfc.fit(X_train, y_train).predict(X_test)\n",
    "print(\"Random Forest\")\n",
    "print(accuracy_score(y_test, preds))\n",
    "print(classification_report(y_test,preds))"
   ]
  },
  {
   "cell_type": "code",
   "execution_count": 83,
   "metadata": {},
   "outputs": [
    {
     "name": "stderr",
     "output_type": "stream",
     "text": [
      "C:\\Users\\Muhammad Umer\\Anaconda3\\lib\\site-packages\\sklearn\\feature_extraction\\text.py:1089: FutureWarning:\n",
      "\n",
      "Conversion of the second argument of issubdtype from `float` to `np.floating` is deprecated. In future, it will be treated as `np.float64 == np.dtype(float).type`.\n",
      "\n"
     ]
    },
    {
     "name": "stdout",
     "output_type": "stream",
     "text": [
      "Random Forest\n",
      "0.6899759422614274\n",
      "             precision    recall  f1-score   support\n",
      "\n",
      "          1       0.52      0.49      0.50       591\n",
      "          2       0.20      0.01      0.02       199\n",
      "          3       0.33      0.05      0.08       459\n",
      "          4       0.31      0.04      0.07       891\n",
      "          5       0.72      0.97      0.83      4095\n",
      "\n",
      "avg / total       0.60      0.69      0.61      6235\n",
      "\n"
     ]
    }
   ],
   "source": [
    "CasualSentiment=[]\n",
    "CasualRating=[]\n",
    "for i in range(len(data)):\n",
    "        if data['cetagory'][i]==category[4]:\n",
    "            CasualSentiment.append(data['reviews'][i])\n",
    "            CasualRating.append(data['rating'][i])\n",
    "y =CasualRating\n",
    "X=CasualSentiment\n",
    "X_train, X_test, y_train, y_test = train_test_split(X, y, test_size=0.3)\n",
    "from sklearn.feature_extraction.text import TfidfVectorizer\n",
    "\n",
    "vectorizer = TfidfVectorizer()\n",
    "X_train= vectorizer.fit_transform(X_train)\n",
    "X_test=vectorizer.transform(X_test)\n",
    "\n",
    "from sklearn.ensemble import RandomForestClassifier\n",
    "from sklearn.metrics import confusion_matrix, classification_report, accuracy_score\n",
    "rfc = RandomForestClassifier(n_estimators=200,n_jobs=-1,random_state=10)\n",
    "preds = rfc.fit(X_train, y_train).predict(X_test)\n",
    "print(\"Random Forest\")\n",
    "print(accuracy_score(y_test, preds))\n",
    "print(classification_report(y_test,preds))"
   ]
  },
  {
   "cell_type": "code",
   "execution_count": 84,
   "metadata": {},
   "outputs": [
    {
     "name": "stderr",
     "output_type": "stream",
     "text": [
      "C:\\Users\\Muhammad Umer\\Anaconda3\\lib\\site-packages\\sklearn\\feature_extraction\\text.py:1089: FutureWarning:\n",
      "\n",
      "Conversion of the second argument of issubdtype from `float` to `np.floating` is deprecated. In future, it will be treated as `np.float64 == np.dtype(float).type`.\n",
      "\n"
     ]
    },
    {
     "name": "stdout",
     "output_type": "stream",
     "text": [
      "Random Forest\n",
      "0.6679677970236643\n",
      "             precision    recall  f1-score   support\n",
      "\n",
      "          0       0.00      0.00      0.00         0\n",
      "          1       0.58      0.32      0.41       594\n",
      "          2       0.26      0.03      0.05       314\n",
      "          3       0.28      0.06      0.09       516\n",
      "          4       0.37      0.10      0.16      1493\n",
      "          5       0.70      0.97      0.81      5281\n",
      "\n",
      "avg / total       0.58      0.67      0.59      8198\n",
      "\n"
     ]
    },
    {
     "name": "stderr",
     "output_type": "stream",
     "text": [
      "C:\\Users\\Muhammad Umer\\Anaconda3\\lib\\site-packages\\sklearn\\metrics\\classification.py:1137: UndefinedMetricWarning:\n",
      "\n",
      "Recall and F-score are ill-defined and being set to 0.0 in labels with no true samples.\n",
      "\n"
     ]
    }
   ],
   "source": [
    "WeatherSentiment=[]\n",
    "WeatherRating=[]\n",
    "for i in range(len(data)):\n",
    "        if data['cetagory'][i]==category[5]:\n",
    "            WeatherSentiment.append(data['reviews'][i])\n",
    "            WeatherRating.append(data['rating'][i])\n",
    "y =WeatherRating\n",
    "X=WeatherSentiment\n",
    "X_train, X_test, y_train, y_test = train_test_split(X, y, test_size=0.3)\n",
    "from sklearn.feature_extraction.text import TfidfVectorizer\n",
    "\n",
    "vectorizer = TfidfVectorizer()\n",
    "X_train= vectorizer.fit_transform(X_train)\n",
    "X_test=vectorizer.transform(X_test)\n",
    "\n",
    "from sklearn.ensemble import RandomForestClassifier\n",
    "from sklearn.metrics import confusion_matrix, classification_report, accuracy_score\n",
    "rfc = RandomForestClassifier(n_estimators=200,n_jobs=-1,random_state=10)\n",
    "preds = rfc.fit(X_train, y_train).predict(X_test)\n",
    "print(\"Random Forest\")\n",
    "print(accuracy_score(y_test, preds))\n",
    "print(classification_report(y_test,preds))"
   ]
  },
  {
   "cell_type": "code",
   "execution_count": 85,
   "metadata": {},
   "outputs": [
    {
     "data": {
      "text/plain": [
       "array(['Sports', 'Communication', 'action', 'Arcade',\n",
       "       'Video Players & Editors', 'Weather', 'card', 'photography',\n",
       "       'Shopping', 'Health & Fitness', 'Finance', 'Casual', 'Medical',\n",
       "       'Racing'], dtype=object)"
      ]
     },
     "execution_count": 85,
     "metadata": {},
     "output_type": "execute_result"
    }
   ],
   "source": [
    "category"
   ]
  },
  {
   "cell_type": "code",
   "execution_count": 86,
   "metadata": {},
   "outputs": [
    {
     "name": "stderr",
     "output_type": "stream",
     "text": [
      "C:\\Users\\Muhammad Umer\\Anaconda3\\lib\\site-packages\\sklearn\\feature_extraction\\text.py:1089: FutureWarning:\n",
      "\n",
      "Conversion of the second argument of issubdtype from `float` to `np.floating` is deprecated. In future, it will be treated as `np.float64 == np.dtype(float).type`.\n",
      "\n"
     ]
    },
    {
     "name": "stdout",
     "output_type": "stream",
     "text": [
      "Random Forest\n",
      "0.7016246805403432\n",
      "             precision    recall  f1-score   support\n",
      "\n",
      "          1       0.59      0.38      0.46      1008\n",
      "          2       0.41      0.02      0.04       378\n",
      "          3       0.40      0.05      0.09       708\n",
      "          4       0.35      0.04      0.07      1521\n",
      "          5       0.72      0.98      0.83      7341\n",
      "\n",
      "avg / total       0.62      0.70      0.61     10956\n",
      "\n"
     ]
    }
   ],
   "source": [
    "CardSentiment=[]\n",
    "CardRating=[]\n",
    "for i in range(len(data)):\n",
    "        if data['cetagory'][i]==category[6]:\n",
    "            CardSentiment.append(data['reviews'][i])\n",
    "            CardRating.append(data['rating'][i])\n",
    "y =CardRating\n",
    "X=CardSentiment\n",
    "X_train, X_test, y_train, y_test = train_test_split(X, y, test_size=0.3)\n",
    "from sklearn.feature_extraction.text import TfidfVectorizer\n",
    "\n",
    "vectorizer = TfidfVectorizer()\n",
    "X_train= vectorizer.fit_transform(X_train)\n",
    "X_test=vectorizer.transform(X_test)\n",
    "\n",
    "from sklearn.ensemble import RandomForestClassifier\n",
    "from sklearn.metrics import confusion_matrix, classification_report, accuracy_score\n",
    "rfc = RandomForestClassifier(n_estimators=200,n_jobs=-1,random_state=10)\n",
    "preds = rfc.fit(X_train, y_train).predict(X_test)\n",
    "print(\"Random Forest\")\n",
    "print(accuracy_score(y_test, preds))\n",
    "print(classification_report(y_test,preds))"
   ]
  },
  {
   "cell_type": "code",
   "execution_count": 87,
   "metadata": {},
   "outputs": [
    {
     "name": "stderr",
     "output_type": "stream",
     "text": [
      "C:\\Users\\Muhammad Umer\\Anaconda3\\lib\\site-packages\\sklearn\\feature_extraction\\text.py:1089: FutureWarning:\n",
      "\n",
      "Conversion of the second argument of issubdtype from `float` to `np.floating` is deprecated. In future, it will be treated as `np.float64 == np.dtype(float).type`.\n",
      "\n"
     ]
    },
    {
     "name": "stdout",
     "output_type": "stream",
     "text": [
      "Random Forest\n",
      "0.728925353925354\n",
      "             precision    recall  f1-score   support\n",
      "\n",
      "          1       0.54      0.60      0.57      1006\n",
      "          2       0.38      0.05      0.09       422\n",
      "          3       0.41      0.11      0.17       830\n",
      "          4       0.38      0.04      0.07      1679\n",
      "          5       0.76      0.98      0.86      8495\n",
      "\n",
      "avg / total       0.66      0.73      0.65     12432\n",
      "\n"
     ]
    }
   ],
   "source": [
    "PhotoSentiment=[]\n",
    "PhotoRating=[]\n",
    "for i in range(len(data)):\n",
    "        if data['cetagory'][i]==category[7]:\n",
    "            PhotoSentiment.append(data['reviews'][i])\n",
    "            PhotoRating.append(data['rating'][i])\n",
    "y =PhotoRating\n",
    "X=PhotoSentiment\n",
    "X_train, X_test, y_train, y_test = train_test_split(X, y, test_size=0.3)\n",
    "from sklearn.feature_extraction.text import TfidfVectorizer\n",
    "\n",
    "vectorizer = TfidfVectorizer()\n",
    "X_train= vectorizer.fit_transform(X_train)\n",
    "X_test=vectorizer.transform(X_test)\n",
    "\n",
    "from sklearn.ensemble import RandomForestClassifier\n",
    "from sklearn.metrics import confusion_matrix, classification_report, accuracy_score\n",
    "rfc = RandomForestClassifier(n_estimators=200,n_jobs=-1,random_state=10)\n",
    "preds = rfc.fit(X_train, y_train).predict(X_test)\n",
    "print(\"Random Forest\")\n",
    "print(accuracy_score(y_test, preds))\n",
    "print(classification_report(y_test,preds))"
   ]
  },
  {
   "cell_type": "code",
   "execution_count": 88,
   "metadata": {},
   "outputs": [
    {
     "name": "stderr",
     "output_type": "stream",
     "text": [
      "C:\\Users\\Muhammad Umer\\Anaconda3\\lib\\site-packages\\sklearn\\feature_extraction\\text.py:1089: FutureWarning:\n",
      "\n",
      "Conversion of the second argument of issubdtype from `float` to `np.floating` is deprecated. In future, it will be treated as `np.float64 == np.dtype(float).type`.\n",
      "\n"
     ]
    },
    {
     "name": "stdout",
     "output_type": "stream",
     "text": [
      "Random Forest\n",
      "0.699623745819398\n",
      "             precision    recall  f1-score   support\n",
      "\n",
      "          1       0.66      0.71      0.69      2716\n",
      "          2       0.42      0.01      0.03       548\n",
      "          3       0.43      0.06      0.11       901\n",
      "          4       0.51      0.06      0.11      1856\n",
      "          5       0.72      0.95      0.82      8331\n",
      "\n",
      "avg / total       0.65      0.70      0.63     14352\n",
      "\n"
     ]
    }
   ],
   "source": [
    "ShoppingSentiment=[]\n",
    "ShoppingRating=[]\n",
    "for i in range(len(data)):\n",
    "        if data['cetagory'][i]==category[8]:\n",
    "            ShoppingSentiment.append(data['reviews'][i])\n",
    "            ShoppingRating.append(data['rating'][i])\n",
    "y =ShoppingRating\n",
    "X=ShoppingSentiment\n",
    "X_train, X_test, y_train, y_test = train_test_split(X, y, test_size=0.3)\n",
    "from sklearn.feature_extraction.text import TfidfVectorizer\n",
    "\n",
    "vectorizer = TfidfVectorizer()\n",
    "X_train= vectorizer.fit_transform(X_train)\n",
    "X_test=vectorizer.transform(X_test)\n",
    "\n",
    "from sklearn.ensemble import RandomForestClassifier\n",
    "from sklearn.metrics import confusion_matrix, classification_report, accuracy_score\n",
    "rfc = RandomForestClassifier(n_estimators=200,n_jobs=-1,random_state=10)\n",
    "preds = rfc.fit(X_train, y_train).predict(X_test)\n",
    "print(\"Random Forest\")\n",
    "print(accuracy_score(y_test, preds))\n",
    "print(classification_report(y_test,preds))"
   ]
  },
  {
   "cell_type": "code",
   "execution_count": 89,
   "metadata": {},
   "outputs": [
    {
     "name": "stderr",
     "output_type": "stream",
     "text": [
      "C:\\Users\\Muhammad Umer\\Anaconda3\\lib\\site-packages\\sklearn\\feature_extraction\\text.py:1089: FutureWarning:\n",
      "\n",
      "Conversion of the second argument of issubdtype from `float` to `np.floating` is deprecated. In future, it will be treated as `np.float64 == np.dtype(float).type`.\n",
      "\n"
     ]
    },
    {
     "name": "stdout",
     "output_type": "stream",
     "text": [
      "Random Forest\n",
      "0.8116222760290557\n",
      "             precision    recall  f1-score   support\n",
      "\n",
      "          1       0.48      0.06      0.10       238\n",
      "          2       0.00      0.00      0.00       151\n",
      "          3       0.15      0.01      0.01       341\n",
      "          4       0.17      0.01      0.01      1197\n",
      "          5       0.82      1.00      0.90      8398\n",
      "\n",
      "avg / total       0.70      0.81      0.73     10325\n",
      "\n"
     ]
    },
    {
     "name": "stderr",
     "output_type": "stream",
     "text": [
      "C:\\Users\\Muhammad Umer\\Anaconda3\\lib\\site-packages\\sklearn\\metrics\\classification.py:1135: UndefinedMetricWarning:\n",
      "\n",
      "Precision and F-score are ill-defined and being set to 0.0 in labels with no predicted samples.\n",
      "\n"
     ]
    }
   ],
   "source": [
    "HealthSentiment=[]\n",
    "HealthRating=[]\n",
    "for i in range(len(data)):\n",
    "        if data['cetagory'][i]==category[9]:\n",
    "            HealthSentiment.append(data['reviews'][i])\n",
    "            HealthRating.append(data['rating'][i])\n",
    "y =HealthRating\n",
    "X=HealthSentiment\n",
    "X_train, X_test, y_train, y_test = train_test_split(X, y, test_size=0.3)\n",
    "from sklearn.feature_extraction.text import TfidfVectorizer\n",
    "\n",
    "vectorizer = TfidfVectorizer()\n",
    "X_train= vectorizer.fit_transform(X_train)\n",
    "X_test=vectorizer.transform(X_test)\n",
    "\n",
    "from sklearn.ensemble import RandomForestClassifier\n",
    "from sklearn.metrics import confusion_matrix, classification_report, accuracy_score\n",
    "rfc = RandomForestClassifier(n_estimators=200,n_jobs=-1,random_state=10)\n",
    "preds = rfc.fit(X_train, y_train).predict(X_test)\n",
    "print(\"Random Forest\")\n",
    "print(accuracy_score(y_test, preds))\n",
    "print(classification_report(y_test,preds))"
   ]
  },
  {
   "cell_type": "code",
   "execution_count": 90,
   "metadata": {},
   "outputs": [
    {
     "name": "stderr",
     "output_type": "stream",
     "text": [
      "C:\\Users\\Muhammad Umer\\Anaconda3\\lib\\site-packages\\sklearn\\feature_extraction\\text.py:1089: FutureWarning:\n",
      "\n",
      "Conversion of the second argument of issubdtype from `float` to `np.floating` is deprecated. In future, it will be treated as `np.float64 == np.dtype(float).type`.\n",
      "\n"
     ]
    },
    {
     "name": "stdout",
     "output_type": "stream",
     "text": [
      "Random Forest\n",
      "0.6387904559414127\n",
      "             precision    recall  f1-score   support\n",
      "\n",
      "          1       0.55      0.77      0.64      1802\n",
      "          2       0.20      0.01      0.02       367\n",
      "          3       0.21      0.01      0.02       591\n",
      "          4       0.40      0.06      0.10      1214\n",
      "          5       0.69      0.88      0.77      4492\n",
      "\n",
      "avg / total       0.56      0.64      0.56      8466\n",
      "\n"
     ]
    }
   ],
   "source": [
    "FinanceSentiment=[]\n",
    "FinanceRating=[]\n",
    "for i in range(len(data)):\n",
    "        if data['cetagory'][i]==category[10]:\n",
    "            FinanceSentiment.append(data['reviews'][i])\n",
    "            FinanceRating.append(data['rating'][i])\n",
    "y =FinanceRating\n",
    "X=FinanceSentiment\n",
    "X_train, X_test, y_train, y_test = train_test_split(X, y, test_size=0.3)\n",
    "from sklearn.feature_extraction.text import TfidfVectorizer\n",
    "\n",
    "vectorizer = TfidfVectorizer()\n",
    "X_train= vectorizer.fit_transform(X_train)\n",
    "X_test=vectorizer.transform(X_test)\n",
    "\n",
    "from sklearn.ensemble import RandomForestClassifier\n",
    "from sklearn.metrics import confusion_matrix, classification_report, accuracy_score\n",
    "rfc = RandomForestClassifier(n_estimators=200,n_jobs=-1,random_state=10)\n",
    "preds = rfc.fit(X_train, y_train).predict(X_test)\n",
    "print(\"Random Forest\")\n",
    "print(accuracy_score(y_test, preds))\n",
    "print(classification_report(y_test,preds))"
   ]
  },
  {
   "cell_type": "code",
   "execution_count": 91,
   "metadata": {},
   "outputs": [
    {
     "name": "stderr",
     "output_type": "stream",
     "text": [
      "C:\\Users\\Muhammad Umer\\Anaconda3\\lib\\site-packages\\sklearn\\feature_extraction\\text.py:1089: FutureWarning:\n",
      "\n",
      "Conversion of the second argument of issubdtype from `float` to `np.floating` is deprecated. In future, it will be treated as `np.float64 == np.dtype(float).type`.\n",
      "\n"
     ]
    },
    {
     "name": "stdout",
     "output_type": "stream",
     "text": [
      "Random Forest\n",
      "0.7534246575342466\n",
      "             precision    recall  f1-score   support\n",
      "\n",
      "          1       0.57      0.19      0.29       818\n",
      "          2       0.06      0.00      0.00       390\n",
      "          3       0.40      0.07      0.12       943\n",
      "          4       0.32      0.03      0.06      1832\n",
      "          5       0.77      0.98      0.86     11785\n",
      "\n",
      "avg / total       0.66      0.75      0.67     15768\n",
      "\n"
     ]
    }
   ],
   "source": [
    "CasualSentiment=[]\n",
    "CasualRating=[]\n",
    "for i in range(len(data)):\n",
    "        if data['cetagory'][i]==category[11]:\n",
    "            CasualSentiment.append(data['reviews'][i])\n",
    "            CasualRating.append(data['rating'][i])\n",
    "y =CasualRating\n",
    "X=CasualSentiment\n",
    "X_train, X_test, y_train, y_test = train_test_split(X, y, test_size=0.3)\n",
    "from sklearn.feature_extraction.text import TfidfVectorizer\n",
    "\n",
    "vectorizer = TfidfVectorizer()\n",
    "X_train= vectorizer.fit_transform(X_train)\n",
    "X_test=vectorizer.transform(X_test)\n",
    "\n",
    "from sklearn.ensemble import RandomForestClassifier\n",
    "from sklearn.metrics import confusion_matrix, classification_report, accuracy_score\n",
    "rfc = RandomForestClassifier(n_estimators=200,n_jobs=-1,random_state=10)\n",
    "preds = rfc.fit(X_train, y_train).predict(X_test)\n",
    "print(\"Random Forest\")\n",
    "print(accuracy_score(y_test, preds))\n",
    "print(classification_report(y_test,preds))"
   ]
  },
  {
   "cell_type": "code",
   "execution_count": 92,
   "metadata": {},
   "outputs": [
    {
     "name": "stderr",
     "output_type": "stream",
     "text": [
      "C:\\Users\\Muhammad Umer\\Anaconda3\\lib\\site-packages\\sklearn\\feature_extraction\\text.py:1089: FutureWarning:\n",
      "\n",
      "Conversion of the second argument of issubdtype from `float` to `np.floating` is deprecated. In future, it will be treated as `np.float64 == np.dtype(float).type`.\n",
      "\n"
     ]
    },
    {
     "name": "stdout",
     "output_type": "stream",
     "text": [
      "Random Forest\n",
      "0.7704485488126649\n",
      "             precision    recall  f1-score   support\n",
      "\n",
      "          1       0.61      0.32      0.42       222\n",
      "          2       0.14      0.01      0.02        96\n",
      "          3       0.45      0.04      0.07       241\n",
      "          4       0.44      0.06      0.10      1149\n",
      "          5       0.78      0.98      0.87      5493\n",
      "\n",
      "avg / total       0.70      0.77      0.70      7201\n",
      "\n"
     ]
    }
   ],
   "source": [
    "MedicalSentiment=[]\n",
    "MedicalRating=[]\n",
    "for i in range(len(data)):\n",
    "        if data['cetagory'][i]==category[12]:\n",
    "            MedicalSentiment.append(data['reviews'][i])\n",
    "            MedicalRating.append(data['rating'][i])\n",
    "y =MedicalRating\n",
    "X=MedicalSentiment\n",
    "X_train, X_test, y_train, y_test = train_test_split(X, y, test_size=0.3)\n",
    "from sklearn.feature_extraction.text import TfidfVectorizer\n",
    "\n",
    "vectorizer = TfidfVectorizer()\n",
    "X_train= vectorizer.fit_transform(X_train)\n",
    "X_test=vectorizer.transform(X_test)\n",
    "\n",
    "from sklearn.ensemble import RandomForestClassifier\n",
    "from sklearn.metrics import confusion_matrix, classification_report, accuracy_score\n",
    "rfc = RandomForestClassifier(n_estimators=200,n_jobs=-1,random_state=10)\n",
    "preds = rfc.fit(X_train, y_train).predict(X_test)\n",
    "print(\"Random Forest\")\n",
    "print(accuracy_score(y_test, preds))\n",
    "print(classification_report(y_test,preds))"
   ]
  },
  {
   "cell_type": "code",
   "execution_count": 93,
   "metadata": {},
   "outputs": [
    {
     "name": "stderr",
     "output_type": "stream",
     "text": [
      "C:\\Users\\Muhammad Umer\\Anaconda3\\lib\\site-packages\\sklearn\\feature_extraction\\text.py:1089: FutureWarning:\n",
      "\n",
      "Conversion of the second argument of issubdtype from `float` to `np.floating` is deprecated. In future, it will be treated as `np.float64 == np.dtype(float).type`.\n",
      "\n"
     ]
    },
    {
     "name": "stdout",
     "output_type": "stream",
     "text": [
      "Random Forest\n",
      "0.7408776344762504\n",
      "             precision    recall  f1-score   support\n",
      "\n",
      "          1       0.67      0.42      0.52       955\n",
      "          2       0.39      0.03      0.05       275\n",
      "          3       0.37      0.09      0.14       757\n",
      "          4       0.42      0.04      0.08      1631\n",
      "          5       0.75      0.98      0.85      9098\n",
      "\n",
      "avg / total       0.67      0.74      0.67     12716\n",
      "\n"
     ]
    }
   ],
   "source": [
    "RacingSentiment=[]\n",
    "RacingRating=[]\n",
    "for i in range(len(data)):\n",
    "        if data['cetagory'][i]==category[13]:\n",
    "            RacingSentiment.append(data['reviews'][i])\n",
    "            RacingRating.append(data['rating'][i])\n",
    "y =RacingRating\n",
    "X=RacingSentiment\n",
    "X_train, X_test, y_train, y_test = train_test_split(X, y, test_size=0.3)\n",
    "from sklearn.feature_extraction.text import TfidfVectorizer\n",
    "\n",
    "vectorizer = TfidfVectorizer()\n",
    "X_train= vectorizer.fit_transform(X_train)\n",
    "X_test=vectorizer.transform(X_test)\n",
    "\n",
    "from sklearn.ensemble import RandomForestClassifier\n",
    "from sklearn.metrics import confusion_matrix, classification_report, accuracy_score\n",
    "rfc = RandomForestClassifier(n_estimators=200,n_jobs=-1,random_state=10)\n",
    "preds = rfc.fit(X_train, y_train).predict(X_test)\n",
    "print(\"Random Forest\")\n",
    "print(accuracy_score(y_test, preds))\n",
    "print(classification_report(y_test,preds))"
   ]
  },
  {
   "cell_type": "code",
   "execution_count": 5,
   "metadata": {},
   "outputs": [
    {
     "name": "stdout",
     "output_type": "stream",
     "text": [
      "[32280, 30000, 44141, 40751, 20781, 27324, 36520, 41440, 47840, 34415, 28220, 52560, 24002, 42384]\n"
     ]
    }
   ],
   "source": [
    "counterCategory=[]\n",
    "total=[]\n",
    "count=0\n",
    "category=data.cetagory.unique()\n",
    "for j in range(len(category)):\n",
    "    \n",
    "    for i in range(len(data)):\n",
    "        if data['cetagory'][i]==category[j]:\n",
    "            count+=1\n",
    "    total.append(count)\n",
    "    count=0\n",
    "print(total)    "
   ]
  },
  {
   "cell_type": "code",
   "execution_count": 6,
   "metadata": {},
   "outputs": [
    {
     "data": {
      "text/html": [
       "<script>requirejs.config({paths: { 'plotly': ['https://cdn.plot.ly/plotly-latest.min']},});if(!window.Plotly) {{require(['plotly'],function(plotly) {window.Plotly=plotly;});}}</script>"
      ],
      "text/vnd.plotly.v1+html": [
       "<script>requirejs.config({paths: { 'plotly': ['https://cdn.plot.ly/plotly-latest.min']},});if(!window.Plotly) {{require(['plotly'],function(plotly) {window.Plotly=plotly;});}}</script>"
      ]
     },
     "metadata": {},
     "output_type": "display_data"
    },
    {
     "ename": "KeyError",
     "evalue": "'cetagory'",
     "output_type": "error",
     "traceback": [
      "\u001b[0;31m---------------------------------------------------------------------------\u001b[0m",
      "\u001b[0;31mKeyError\u001b[0m                                  Traceback (most recent call last)",
      "\u001b[0;32mC:\\Users\\Muhammad Umer\\Anaconda3\\lib\\site-packages\\pandas\\core\\indexes\\base.py\u001b[0m in \u001b[0;36mget_loc\u001b[0;34m(self, key, method, tolerance)\u001b[0m\n\u001b[1;32m   2441\u001b[0m             \u001b[1;32mtry\u001b[0m\u001b[1;33m:\u001b[0m\u001b[1;33m\u001b[0m\u001b[0m\n\u001b[0;32m-> 2442\u001b[0;31m                 \u001b[1;32mreturn\u001b[0m \u001b[0mself\u001b[0m\u001b[1;33m.\u001b[0m\u001b[0m_engine\u001b[0m\u001b[1;33m.\u001b[0m\u001b[0mget_loc\u001b[0m\u001b[1;33m(\u001b[0m\u001b[0mkey\u001b[0m\u001b[1;33m)\u001b[0m\u001b[1;33m\u001b[0m\u001b[0m\n\u001b[0m\u001b[1;32m   2443\u001b[0m             \u001b[1;32mexcept\u001b[0m \u001b[0mKeyError\u001b[0m\u001b[1;33m:\u001b[0m\u001b[1;33m\u001b[0m\u001b[0m\n",
      "\u001b[0;32mpandas\\_libs\\index.pyx\u001b[0m in \u001b[0;36mpandas._libs.index.IndexEngine.get_loc (pandas\\_libs\\index.c:5280)\u001b[0;34m()\u001b[0m\n",
      "\u001b[0;32mpandas\\_libs\\index.pyx\u001b[0m in \u001b[0;36mpandas._libs.index.IndexEngine.get_loc (pandas\\_libs\\index.c:5126)\u001b[0;34m()\u001b[0m\n",
      "\u001b[0;32mpandas\\_libs\\hashtable_class_helper.pxi\u001b[0m in \u001b[0;36mpandas._libs.hashtable.PyObjectHashTable.get_item (pandas\\_libs\\hashtable.c:20523)\u001b[0;34m()\u001b[0m\n",
      "\u001b[0;32mpandas\\_libs\\hashtable_class_helper.pxi\u001b[0m in \u001b[0;36mpandas._libs.hashtable.PyObjectHashTable.get_item (pandas\\_libs\\hashtable.c:20477)\u001b[0;34m()\u001b[0m\n",
      "\u001b[0;31mKeyError\u001b[0m: 'cetagory'",
      "\nDuring handling of the above exception, another exception occurred:\n",
      "\u001b[0;31mKeyError\u001b[0m                                  Traceback (most recent call last)",
      "\u001b[0;32m<ipython-input-6-7aefb8858d9a>\u001b[0m in \u001b[0;36m<module>\u001b[0;34m()\u001b[0m\n\u001b[1;32m      5\u001b[0m \u001b[1;33m\u001b[0m\u001b[0m\n\u001b[1;32m      6\u001b[0m \u001b[1;32mimport\u001b[0m \u001b[0mplotly\u001b[0m\u001b[1;33m.\u001b[0m\u001b[0mfigure_factory\u001b[0m \u001b[1;32mas\u001b[0m \u001b[0mff\u001b[0m\u001b[1;33m\u001b[0m\u001b[0m\n\u001b[0;32m----> 7\u001b[0;31m \u001b[0mnumber_of_apps_in_category\u001b[0m \u001b[1;33m=\u001b[0m \u001b[0mdata\u001b[0m\u001b[1;33m[\u001b[0m\u001b[1;34m'cetagory'\u001b[0m\u001b[1;33m]\u001b[0m\u001b[1;33m.\u001b[0m\u001b[0mvalue_counts\u001b[0m\u001b[1;33m(\u001b[0m\u001b[1;33m)\u001b[0m\u001b[1;33m.\u001b[0m\u001b[0msort_values\u001b[0m\u001b[1;33m(\u001b[0m\u001b[0mascending\u001b[0m\u001b[1;33m=\u001b[0m\u001b[1;32mTrue\u001b[0m\u001b[1;33m)\u001b[0m\u001b[1;33m\u001b[0m\u001b[0m\n\u001b[0m\u001b[1;32m      8\u001b[0m \u001b[1;33m\u001b[0m\u001b[0m\n\u001b[1;32m      9\u001b[0m data = [go.Pie(\n",
      "\u001b[0;32mC:\\Users\\Muhammad Umer\\Anaconda3\\lib\\site-packages\\pandas\\core\\frame.py\u001b[0m in \u001b[0;36m__getitem__\u001b[0;34m(self, key)\u001b[0m\n\u001b[1;32m   1962\u001b[0m             \u001b[1;32mreturn\u001b[0m \u001b[0mself\u001b[0m\u001b[1;33m.\u001b[0m\u001b[0m_getitem_multilevel\u001b[0m\u001b[1;33m(\u001b[0m\u001b[0mkey\u001b[0m\u001b[1;33m)\u001b[0m\u001b[1;33m\u001b[0m\u001b[0m\n\u001b[1;32m   1963\u001b[0m         \u001b[1;32melse\u001b[0m\u001b[1;33m:\u001b[0m\u001b[1;33m\u001b[0m\u001b[0m\n\u001b[0;32m-> 1964\u001b[0;31m             \u001b[1;32mreturn\u001b[0m \u001b[0mself\u001b[0m\u001b[1;33m.\u001b[0m\u001b[0m_getitem_column\u001b[0m\u001b[1;33m(\u001b[0m\u001b[0mkey\u001b[0m\u001b[1;33m)\u001b[0m\u001b[1;33m\u001b[0m\u001b[0m\n\u001b[0m\u001b[1;32m   1965\u001b[0m \u001b[1;33m\u001b[0m\u001b[0m\n\u001b[1;32m   1966\u001b[0m     \u001b[1;32mdef\u001b[0m \u001b[0m_getitem_column\u001b[0m\u001b[1;33m(\u001b[0m\u001b[0mself\u001b[0m\u001b[1;33m,\u001b[0m \u001b[0mkey\u001b[0m\u001b[1;33m)\u001b[0m\u001b[1;33m:\u001b[0m\u001b[1;33m\u001b[0m\u001b[0m\n",
      "\u001b[0;32mC:\\Users\\Muhammad Umer\\Anaconda3\\lib\\site-packages\\pandas\\core\\frame.py\u001b[0m in \u001b[0;36m_getitem_column\u001b[0;34m(self, key)\u001b[0m\n\u001b[1;32m   1969\u001b[0m         \u001b[1;31m# get column\u001b[0m\u001b[1;33m\u001b[0m\u001b[1;33m\u001b[0m\u001b[0m\n\u001b[1;32m   1970\u001b[0m         \u001b[1;32mif\u001b[0m \u001b[0mself\u001b[0m\u001b[1;33m.\u001b[0m\u001b[0mcolumns\u001b[0m\u001b[1;33m.\u001b[0m\u001b[0mis_unique\u001b[0m\u001b[1;33m:\u001b[0m\u001b[1;33m\u001b[0m\u001b[0m\n\u001b[0;32m-> 1971\u001b[0;31m             \u001b[1;32mreturn\u001b[0m \u001b[0mself\u001b[0m\u001b[1;33m.\u001b[0m\u001b[0m_get_item_cache\u001b[0m\u001b[1;33m(\u001b[0m\u001b[0mkey\u001b[0m\u001b[1;33m)\u001b[0m\u001b[1;33m\u001b[0m\u001b[0m\n\u001b[0m\u001b[1;32m   1972\u001b[0m \u001b[1;33m\u001b[0m\u001b[0m\n\u001b[1;32m   1973\u001b[0m         \u001b[1;31m# duplicate columns & possible reduce dimensionality\u001b[0m\u001b[1;33m\u001b[0m\u001b[1;33m\u001b[0m\u001b[0m\n",
      "\u001b[0;32mC:\\Users\\Muhammad Umer\\Anaconda3\\lib\\site-packages\\pandas\\core\\generic.py\u001b[0m in \u001b[0;36m_get_item_cache\u001b[0;34m(self, item)\u001b[0m\n\u001b[1;32m   1643\u001b[0m         \u001b[0mres\u001b[0m \u001b[1;33m=\u001b[0m \u001b[0mcache\u001b[0m\u001b[1;33m.\u001b[0m\u001b[0mget\u001b[0m\u001b[1;33m(\u001b[0m\u001b[0mitem\u001b[0m\u001b[1;33m)\u001b[0m\u001b[1;33m\u001b[0m\u001b[0m\n\u001b[1;32m   1644\u001b[0m         \u001b[1;32mif\u001b[0m \u001b[0mres\u001b[0m \u001b[1;32mis\u001b[0m \u001b[1;32mNone\u001b[0m\u001b[1;33m:\u001b[0m\u001b[1;33m\u001b[0m\u001b[0m\n\u001b[0;32m-> 1645\u001b[0;31m             \u001b[0mvalues\u001b[0m \u001b[1;33m=\u001b[0m \u001b[0mself\u001b[0m\u001b[1;33m.\u001b[0m\u001b[0m_data\u001b[0m\u001b[1;33m.\u001b[0m\u001b[0mget\u001b[0m\u001b[1;33m(\u001b[0m\u001b[0mitem\u001b[0m\u001b[1;33m)\u001b[0m\u001b[1;33m\u001b[0m\u001b[0m\n\u001b[0m\u001b[1;32m   1646\u001b[0m             \u001b[0mres\u001b[0m \u001b[1;33m=\u001b[0m \u001b[0mself\u001b[0m\u001b[1;33m.\u001b[0m\u001b[0m_box_item_values\u001b[0m\u001b[1;33m(\u001b[0m\u001b[0mitem\u001b[0m\u001b[1;33m,\u001b[0m \u001b[0mvalues\u001b[0m\u001b[1;33m)\u001b[0m\u001b[1;33m\u001b[0m\u001b[0m\n\u001b[1;32m   1647\u001b[0m             \u001b[0mcache\u001b[0m\u001b[1;33m[\u001b[0m\u001b[0mitem\u001b[0m\u001b[1;33m]\u001b[0m \u001b[1;33m=\u001b[0m \u001b[0mres\u001b[0m\u001b[1;33m\u001b[0m\u001b[0m\n",
      "\u001b[0;32mC:\\Users\\Muhammad Umer\\Anaconda3\\lib\\site-packages\\pandas\\core\\internals.py\u001b[0m in \u001b[0;36mget\u001b[0;34m(self, item, fastpath)\u001b[0m\n\u001b[1;32m   3588\u001b[0m \u001b[1;33m\u001b[0m\u001b[0m\n\u001b[1;32m   3589\u001b[0m             \u001b[1;32mif\u001b[0m \u001b[1;32mnot\u001b[0m \u001b[0misnull\u001b[0m\u001b[1;33m(\u001b[0m\u001b[0mitem\u001b[0m\u001b[1;33m)\u001b[0m\u001b[1;33m:\u001b[0m\u001b[1;33m\u001b[0m\u001b[0m\n\u001b[0;32m-> 3590\u001b[0;31m                 \u001b[0mloc\u001b[0m \u001b[1;33m=\u001b[0m \u001b[0mself\u001b[0m\u001b[1;33m.\u001b[0m\u001b[0mitems\u001b[0m\u001b[1;33m.\u001b[0m\u001b[0mget_loc\u001b[0m\u001b[1;33m(\u001b[0m\u001b[0mitem\u001b[0m\u001b[1;33m)\u001b[0m\u001b[1;33m\u001b[0m\u001b[0m\n\u001b[0m\u001b[1;32m   3591\u001b[0m             \u001b[1;32melse\u001b[0m\u001b[1;33m:\u001b[0m\u001b[1;33m\u001b[0m\u001b[0m\n\u001b[1;32m   3592\u001b[0m                 \u001b[0mindexer\u001b[0m \u001b[1;33m=\u001b[0m \u001b[0mnp\u001b[0m\u001b[1;33m.\u001b[0m\u001b[0marange\u001b[0m\u001b[1;33m(\u001b[0m\u001b[0mlen\u001b[0m\u001b[1;33m(\u001b[0m\u001b[0mself\u001b[0m\u001b[1;33m.\u001b[0m\u001b[0mitems\u001b[0m\u001b[1;33m)\u001b[0m\u001b[1;33m)\u001b[0m\u001b[1;33m[\u001b[0m\u001b[0misnull\u001b[0m\u001b[1;33m(\u001b[0m\u001b[0mself\u001b[0m\u001b[1;33m.\u001b[0m\u001b[0mitems\u001b[0m\u001b[1;33m)\u001b[0m\u001b[1;33m]\u001b[0m\u001b[1;33m\u001b[0m\u001b[0m\n",
      "\u001b[0;32mC:\\Users\\Muhammad Umer\\Anaconda3\\lib\\site-packages\\pandas\\core\\indexes\\base.py\u001b[0m in \u001b[0;36mget_loc\u001b[0;34m(self, key, method, tolerance)\u001b[0m\n\u001b[1;32m   2442\u001b[0m                 \u001b[1;32mreturn\u001b[0m \u001b[0mself\u001b[0m\u001b[1;33m.\u001b[0m\u001b[0m_engine\u001b[0m\u001b[1;33m.\u001b[0m\u001b[0mget_loc\u001b[0m\u001b[1;33m(\u001b[0m\u001b[0mkey\u001b[0m\u001b[1;33m)\u001b[0m\u001b[1;33m\u001b[0m\u001b[0m\n\u001b[1;32m   2443\u001b[0m             \u001b[1;32mexcept\u001b[0m \u001b[0mKeyError\u001b[0m\u001b[1;33m:\u001b[0m\u001b[1;33m\u001b[0m\u001b[0m\n\u001b[0;32m-> 2444\u001b[0;31m                 \u001b[1;32mreturn\u001b[0m \u001b[0mself\u001b[0m\u001b[1;33m.\u001b[0m\u001b[0m_engine\u001b[0m\u001b[1;33m.\u001b[0m\u001b[0mget_loc\u001b[0m\u001b[1;33m(\u001b[0m\u001b[0mself\u001b[0m\u001b[1;33m.\u001b[0m\u001b[0m_maybe_cast_indexer\u001b[0m\u001b[1;33m(\u001b[0m\u001b[0mkey\u001b[0m\u001b[1;33m)\u001b[0m\u001b[1;33m)\u001b[0m\u001b[1;33m\u001b[0m\u001b[0m\n\u001b[0m\u001b[1;32m   2445\u001b[0m \u001b[1;33m\u001b[0m\u001b[0m\n\u001b[1;32m   2446\u001b[0m         \u001b[0mindexer\u001b[0m \u001b[1;33m=\u001b[0m \u001b[0mself\u001b[0m\u001b[1;33m.\u001b[0m\u001b[0mget_indexer\u001b[0m\u001b[1;33m(\u001b[0m\u001b[1;33m[\u001b[0m\u001b[0mkey\u001b[0m\u001b[1;33m]\u001b[0m\u001b[1;33m,\u001b[0m \u001b[0mmethod\u001b[0m\u001b[1;33m=\u001b[0m\u001b[0mmethod\u001b[0m\u001b[1;33m,\u001b[0m \u001b[0mtolerance\u001b[0m\u001b[1;33m=\u001b[0m\u001b[0mtolerance\u001b[0m\u001b[1;33m)\u001b[0m\u001b[1;33m\u001b[0m\u001b[0m\n",
      "\u001b[0;32mpandas\\_libs\\index.pyx\u001b[0m in \u001b[0;36mpandas._libs.index.IndexEngine.get_loc (pandas\\_libs\\index.c:5280)\u001b[0;34m()\u001b[0m\n",
      "\u001b[0;32mpandas\\_libs\\index.pyx\u001b[0m in \u001b[0;36mpandas._libs.index.IndexEngine.get_loc (pandas\\_libs\\index.c:5126)\u001b[0;34m()\u001b[0m\n",
      "\u001b[0;32mpandas\\_libs\\hashtable_class_helper.pxi\u001b[0m in \u001b[0;36mpandas._libs.hashtable.PyObjectHashTable.get_item (pandas\\_libs\\hashtable.c:20523)\u001b[0;34m()\u001b[0m\n",
      "\u001b[0;32mpandas\\_libs\\hashtable_class_helper.pxi\u001b[0m in \u001b[0;36mpandas._libs.hashtable.PyObjectHashTable.get_item (pandas\\_libs\\hashtable.c:20477)\u001b[0;34m()\u001b[0m\n",
      "\u001b[0;31mKeyError\u001b[0m: 'cetagory'"
     ]
    }
   ],
   "source": [
    "import plotly\n",
    "# connected=True means it will download the latest version of plotly javascript library.\n",
    "plotly.offline.init_notebook_mode(connected=True)\n",
    "import plotly.graph_objs as go\n",
    "\n",
    "import plotly.figure_factory as ff\n",
    "number_of_apps_in_category = data['cetagory'].value_counts().sort_values(ascending=True)\n",
    "\n",
    "data = [go.Pie(\n",
    "        labels = number_of_apps_in_category.index,\n",
    "        values = number_of_apps_in_category.values,\n",
    "        hoverinfo = 'label+value'\n",
    "    \n",
    ")]\n",
    "\n",
    "plotly.offline.iplot(data, filename='active_category')"
   ]
  },
  {
   "cell_type": "code",
   "execution_count": 14,
   "metadata": {},
   "outputs": [
    {
     "ename": "TypeError",
     "evalue": "list indices must be integers or slices, not str",
     "output_type": "error",
     "traceback": [
      "\u001b[0;31m---------------------------------------------------------------------------\u001b[0m",
      "\u001b[0;31mTypeError\u001b[0m                                 Traceback (most recent call last)",
      "\u001b[0;32m<ipython-input-14-e86ae93719c9>\u001b[0m in \u001b[0;36m<module>\u001b[0;34m()\u001b[0m\n\u001b[0;32m----> 1\u001b[0;31m \u001b[0mdetails\u001b[0m\u001b[1;33m=\u001b[0m\u001b[0mdata\u001b[0m\u001b[1;33m[\u001b[0m\u001b[0mdata\u001b[0m\u001b[1;33m[\u001b[0m\u001b[1;34m'app_name'\u001b[0m\u001b[1;33m]\u001b[0m\u001b[1;33m.\u001b[0m\u001b[0mstr\u001b[0m\u001b[1;33m.\u001b[0m\u001b[0mcontains\u001b[0m\u001b[1;33m(\u001b[0m\u001b[1;34m\"Snooker\"\u001b[0m\u001b[1;33m)\u001b[0m\u001b[1;33m]\u001b[0m\u001b[1;33m\u001b[0m\u001b[0m\n\u001b[0m",
      "\u001b[0;31mTypeError\u001b[0m: list indices must be integers or slices, not str"
     ]
    }
   ],
   "source": [
    "details=data[data['app_name'].str.contains(\"Snooker\")]"
   ]
  },
  {
   "cell_type": "code",
   "execution_count": 6,
   "metadata": {},
   "outputs": [
    {
     "data": {
      "text/html": [
       "<div>\n",
       "<style>\n",
       "    .dataframe thead tr:only-child th {\n",
       "        text-align: right;\n",
       "    }\n",
       "\n",
       "    .dataframe thead th {\n",
       "        text-align: left;\n",
       "    }\n",
       "\n",
       "    .dataframe tbody tr th {\n",
       "        vertical-align: top;\n",
       "    }\n",
       "</style>\n",
       "<table border=\"1\" class=\"dataframe\">\n",
       "  <thead>\n",
       "    <tr style=\"text-align: right;\">\n",
       "      <th></th>\n",
       "      <th>cetagory</th>\n",
       "      <th>app_name</th>\n",
       "      <th>app_id</th>\n",
       "      <th>reviews</th>\n",
       "      <th>rating</th>\n",
       "    </tr>\n",
       "  </thead>\n",
       "  <tbody>\n",
       "    <tr>\n",
       "      <th>0</th>\n",
       "      <td>Sports</td>\n",
       "      <td>Billiards City</td>\n",
       "      <td>com.billiards.city.pool.nation.club</td>\n",
       "      <td>Wonderfull App. Completed all 1020 levels, Ca...</td>\n",
       "      <td>5</td>\n",
       "    </tr>\n",
       "    <tr>\n",
       "      <th>1</th>\n",
       "      <td>Sports</td>\n",
       "      <td>Billiards City</td>\n",
       "      <td>com.billiards.city.pool.nation.club</td>\n",
       "      <td>It's good, I like the gameplay. Please change...</td>\n",
       "      <td>4</td>\n",
       "    </tr>\n",
       "    <tr>\n",
       "      <th>2</th>\n",
       "      <td>Sports</td>\n",
       "      <td>Billiards City</td>\n",
       "      <td>com.billiards.city.pool.nation.club</td>\n",
       "      <td>I really enjoyed this game until I saw one of...</td>\n",
       "      <td>1</td>\n",
       "    </tr>\n",
       "    <tr>\n",
       "      <th>3</th>\n",
       "      <td>Sports</td>\n",
       "      <td>Billiards City</td>\n",
       "      <td>com.billiards.city.pool.nation.club</td>\n",
       "      <td>PLEASE!!! Get rid of the odd shaped tables an...</td>\n",
       "      <td>1</td>\n",
       "    </tr>\n",
       "    <tr>\n",
       "      <th>4</th>\n",
       "      <td>Sports</td>\n",
       "      <td>Billiards City</td>\n",
       "      <td>com.billiards.city.pool.nation.club</td>\n",
       "      <td>Very easy game to play, and has actually give...</td>\n",
       "      <td>4</td>\n",
       "    </tr>\n",
       "  </tbody>\n",
       "</table>\n",
       "</div>"
      ],
      "text/plain": [
       "  cetagory        app_name                               app_id  \\\n",
       "0   Sports  Billiards City  com.billiards.city.pool.nation.club   \n",
       "1   Sports  Billiards City  com.billiards.city.pool.nation.club   \n",
       "2   Sports  Billiards City  com.billiards.city.pool.nation.club   \n",
       "3   Sports  Billiards City  com.billiards.city.pool.nation.club   \n",
       "4   Sports  Billiards City  com.billiards.city.pool.nation.club   \n",
       "\n",
       "                                             reviews  rating  \n",
       "0   Wonderfull App. Completed all 1020 levels, Ca...       5  \n",
       "1   It's good, I like the gameplay. Please change...       4  \n",
       "2   I really enjoyed this game until I saw one of...       1  \n",
       "3   PLEASE!!! Get rid of the odd shaped tables an...       1  \n",
       "4   Very easy game to play, and has actually give...       4  "
      ]
     },
     "execution_count": 6,
     "metadata": {},
     "output_type": "execute_result"
    }
   ],
   "source": [
    "data.head(5)"
   ]
  },
  {
   "cell_type": "code",
   "execution_count": 26,
   "metadata": {},
   "outputs": [
    {
     "data": {
      "image/png": "[encoded data removed]",
      "text/plain": [
       "<matplotlib.figure.Figure at 0xf7a5a59c50>"
      ]
     },
     "metadata": {},
     "output_type": "display_data"
    }
   ],
   "source": [
    "from matplotlib import pyplot\n",
    "%matplotlib inline\n",
    "import seaborn as sns\n",
    "y = data.rating\n",
    "fig, ax = pyplot.subplots(figsize=(15,5))\n",
    "ax.set_title(\"Most Given Rating\")\n",
    "ax = sns.countplot(y,label=\"Rating Count\",ax=ax,order=data.rating.value_counts().iloc[:10].index)  "
   ]
  },
  {
   "cell_type": "code",
   "execution_count": 4,
   "metadata": {
    "collapsed": true
   },
   "outputs": [],
   "source": [
    "from nltk.corpus import sentiwordnet as swn"
   ]
  },
  {
   "cell_type": "code",
   "execution_count": 35,
   "metadata": {
    "collapsed": true
   },
   "outputs": [],
   "source": [
    "import nltk\n",
    "a=swn.senti_synset('unhappy.a.3')"
   ]
  },
  {
   "cell_type": "code",
   "execution_count": 118,
   "metadata": {},
   "outputs": [
    {
     "ename": "ImportError",
     "evalue": "cannot import name '_astype_copy_false'",
     "output_type": "error",
     "traceback": [
      "\u001b[1;31m---------------------------------------------------------------------------\u001b[0m",
      "\u001b[1;31mImportError\u001b[0m                               Traceback (most recent call last)",
      "\u001b[1;32m<ipython-input-118-901009174098>\u001b[0m in \u001b[0;36m<module>\u001b[1;34m()\u001b[0m\n\u001b[1;32m----> 1\u001b[1;33m \u001b[1;32mfrom\u001b[0m \u001b[0mimblearn\u001b[0m\u001b[1;33m.\u001b[0m\u001b[0munder_sampling\u001b[0m \u001b[1;32mimport\u001b[0m \u001b[0mRandomUnderSampler\u001b[0m\u001b[1;33m\u001b[0m\u001b[0m\n\u001b[0m",
      "\u001b[1;32m~\\Anaconda3\\lib\\site-packages\\imblearn\\__init__.py\u001b[0m in \u001b[0;36m<module>\u001b[1;34m()\u001b[0m\n\u001b[0;32m     32\u001b[0m     \u001b[0mModule\u001b[0m \u001b[0mwhich\u001b[0m \u001b[0mallowing\u001b[0m \u001b[0mto\u001b[0m \u001b[0mcreate\u001b[0m \u001b[0mpipeline\u001b[0m \u001b[1;32mwith\u001b[0m \u001b[0mscikit\u001b[0m\u001b[1;33m-\u001b[0m\u001b[0mlearn\u001b[0m \u001b[0mestimators\u001b[0m\u001b[1;33m.\u001b[0m\u001b[1;33m\u001b[0m\u001b[0m\n\u001b[0;32m     33\u001b[0m \"\"\"\n\u001b[1;32m---> 34\u001b[1;33m \u001b[1;32mfrom\u001b[0m \u001b[1;33m.\u001b[0m \u001b[1;32mimport\u001b[0m \u001b[0mcombine\u001b[0m\u001b[1;33m\u001b[0m\u001b[0m\n\u001b[0m\u001b[0;32m     35\u001b[0m \u001b[1;32mfrom\u001b[0m \u001b[1;33m.\u001b[0m \u001b[1;32mimport\u001b[0m \u001b[0mensemble\u001b[0m\u001b[1;33m\u001b[0m\u001b[0m\n\u001b[0;32m     36\u001b[0m \u001b[1;32mfrom\u001b[0m \u001b[1;33m.\u001b[0m \u001b[1;32mimport\u001b[0m \u001b[0mexceptions\u001b[0m\u001b[1;33m\u001b[0m\u001b[0m\n",
      "\u001b[1;32m~\\Anaconda3\\lib\\site-packages\\imblearn\\combine\\__init__.py\u001b[0m in \u001b[0;36m<module>\u001b[1;34m()\u001b[0m\n\u001b[0;32m      3\u001b[0m \"\"\"\n\u001b[0;32m      4\u001b[0m \u001b[1;33m\u001b[0m\u001b[0m\n\u001b[1;32m----> 5\u001b[1;33m \u001b[1;32mfrom\u001b[0m \u001b[1;33m.\u001b[0m\u001b[0m_smote_enn\u001b[0m \u001b[1;32mimport\u001b[0m \u001b[0mSMOTEENN\u001b[0m\u001b[1;33m\u001b[0m\u001b[0m\n\u001b[0m\u001b[0;32m      6\u001b[0m \u001b[1;32mfrom\u001b[0m \u001b[1;33m.\u001b[0m\u001b[0m_smote_tomek\u001b[0m \u001b[1;32mimport\u001b[0m \u001b[0mSMOTETomek\u001b[0m\u001b[1;33m\u001b[0m\u001b[0m\n\u001b[0;32m      7\u001b[0m \u001b[1;33m\u001b[0m\u001b[0m\n",
      "\u001b[1;32m~\\Anaconda3\\lib\\site-packages\\imblearn\\combine\\_smote_enn.py\u001b[0m in \u001b[0;36m<module>\u001b[1;34m()\u001b[0m\n\u001b[0;32m      9\u001b[0m \u001b[1;33m\u001b[0m\u001b[0m\n\u001b[0;32m     10\u001b[0m \u001b[1;32mfrom\u001b[0m \u001b[1;33m.\u001b[0m\u001b[1;33m.\u001b[0m\u001b[0mbase\u001b[0m \u001b[1;32mimport\u001b[0m \u001b[0mBaseSampler\u001b[0m\u001b[1;33m\u001b[0m\u001b[0m\n\u001b[1;32m---> 11\u001b[1;33m \u001b[1;32mfrom\u001b[0m \u001b[1;33m.\u001b[0m\u001b[1;33m.\u001b[0m\u001b[0mover_sampling\u001b[0m \u001b[1;32mimport\u001b[0m \u001b[0mSMOTE\u001b[0m\u001b[1;33m\u001b[0m\u001b[0m\n\u001b[0m\u001b[0;32m     12\u001b[0m \u001b[1;32mfrom\u001b[0m \u001b[1;33m.\u001b[0m\u001b[1;33m.\u001b[0m\u001b[0mover_sampling\u001b[0m\u001b[1;33m.\u001b[0m\u001b[0mbase\u001b[0m \u001b[1;32mimport\u001b[0m \u001b[0mBaseOverSampler\u001b[0m\u001b[1;33m\u001b[0m\u001b[0m\n\u001b[0;32m     13\u001b[0m \u001b[1;32mfrom\u001b[0m \u001b[1;33m.\u001b[0m\u001b[1;33m.\u001b[0m\u001b[0munder_sampling\u001b[0m \u001b[1;32mimport\u001b[0m \u001b[0mEditedNearestNeighbours\u001b[0m\u001b[1;33m\u001b[0m\u001b[0m\n",
      "\u001b[1;32m~\\Anaconda3\\lib\\site-packages\\imblearn\\over_sampling\\__init__.py\u001b[0m in \u001b[0;36m<module>\u001b[1;34m()\u001b[0m\n\u001b[0;32m      6\u001b[0m \u001b[1;32mfrom\u001b[0m \u001b[1;33m.\u001b[0m\u001b[0m_adasyn\u001b[0m \u001b[1;32mimport\u001b[0m \u001b[0mADASYN\u001b[0m\u001b[1;33m\u001b[0m\u001b[0m\n\u001b[0;32m      7\u001b[0m \u001b[1;32mfrom\u001b[0m \u001b[1;33m.\u001b[0m\u001b[0m_random_over_sampler\u001b[0m \u001b[1;32mimport\u001b[0m \u001b[0mRandomOverSampler\u001b[0m\u001b[1;33m\u001b[0m\u001b[0m\n\u001b[1;32m----> 8\u001b[1;33m \u001b[1;32mfrom\u001b[0m \u001b[1;33m.\u001b[0m\u001b[0m_smote\u001b[0m \u001b[1;32mimport\u001b[0m \u001b[0mSMOTE\u001b[0m\u001b[1;33m\u001b[0m\u001b[0m\n\u001b[0m\u001b[0;32m      9\u001b[0m \u001b[1;32mfrom\u001b[0m \u001b[1;33m.\u001b[0m\u001b[0m_smote\u001b[0m \u001b[1;32mimport\u001b[0m \u001b[0mBorderlineSMOTE\u001b[0m\u001b[1;33m\u001b[0m\u001b[0m\n\u001b[0;32m     10\u001b[0m \u001b[1;32mfrom\u001b[0m \u001b[1;33m.\u001b[0m\u001b[0m_smote\u001b[0m \u001b[1;32mimport\u001b[0m \u001b[0mKMeansSMOTE\u001b[0m\u001b[1;33m\u001b[0m\u001b[0m\n",
      "\u001b[1;32m~\\Anaconda3\\lib\\site-packages\\imblearn\\over_sampling\\_smote.py\u001b[0m in \u001b[0;36m<module>\u001b[1;34m()\u001b[0m\n\u001b[0;32m     16\u001b[0m \u001b[1;33m\u001b[0m\u001b[0m\n\u001b[0;32m     17\u001b[0m \u001b[1;32mfrom\u001b[0m \u001b[0msklearn\u001b[0m\u001b[1;33m.\u001b[0m\u001b[0mbase\u001b[0m \u001b[1;32mimport\u001b[0m \u001b[0mclone\u001b[0m\u001b[1;33m\u001b[0m\u001b[0m\n\u001b[1;32m---> 18\u001b[1;33m \u001b[1;32mfrom\u001b[0m \u001b[0msklearn\u001b[0m\u001b[1;33m.\u001b[0m\u001b[0mcluster\u001b[0m \u001b[1;32mimport\u001b[0m \u001b[0mMiniBatchKMeans\u001b[0m\u001b[1;33m\u001b[0m\u001b[0m\n\u001b[0m\u001b[0;32m     19\u001b[0m \u001b[1;32mfrom\u001b[0m \u001b[0msklearn\u001b[0m\u001b[1;33m.\u001b[0m\u001b[0mmetrics\u001b[0m \u001b[1;32mimport\u001b[0m \u001b[0mpairwise_distances\u001b[0m\u001b[1;33m\u001b[0m\u001b[0m\n\u001b[0;32m     20\u001b[0m \u001b[1;32mfrom\u001b[0m \u001b[0msklearn\u001b[0m\u001b[1;33m.\u001b[0m\u001b[0mpreprocessing\u001b[0m \u001b[1;32mimport\u001b[0m \u001b[0mOneHotEncoder\u001b[0m\u001b[1;33m\u001b[0m\u001b[0m\n",
      "\u001b[1;32m~\\Anaconda3\\lib\\site-packages\\sklearn\\cluster\\__init__.py\u001b[0m in \u001b[0;36m<module>\u001b[1;34m()\u001b[0m\n\u001b[0;32m      8\u001b[0m                           estimate_bandwidth, get_bin_seeds)\n\u001b[0;32m      9\u001b[0m \u001b[1;32mfrom\u001b[0m \u001b[1;33m.\u001b[0m\u001b[0maffinity_propagation_\u001b[0m \u001b[1;32mimport\u001b[0m \u001b[0maffinity_propagation\u001b[0m\u001b[1;33m,\u001b[0m \u001b[0mAffinityPropagation\u001b[0m\u001b[1;33m\u001b[0m\u001b[0m\n\u001b[1;32m---> 10\u001b[1;33m from .hierarchical import (ward_tree, AgglomerativeClustering, linkage_tree,\n\u001b[0m\u001b[0;32m     11\u001b[0m                            FeatureAgglomeration)\n\u001b[0;32m     12\u001b[0m \u001b[1;32mfrom\u001b[0m \u001b[1;33m.\u001b[0m\u001b[0mk_means_\u001b[0m \u001b[1;32mimport\u001b[0m \u001b[0mk_means\u001b[0m\u001b[1;33m,\u001b[0m \u001b[0mKMeans\u001b[0m\u001b[1;33m,\u001b[0m \u001b[0mMiniBatchKMeans\u001b[0m\u001b[1;33m\u001b[0m\u001b[0m\n",
      "\u001b[1;32m~\\Anaconda3\\lib\\site-packages\\sklearn\\cluster\\hierarchical.py\u001b[0m in \u001b[0;36m<module>\u001b[1;34m()\u001b[0m\n\u001b[0;32m     23\u001b[0m \u001b[1;32mfrom\u001b[0m \u001b[1;33m.\u001b[0m\u001b[0m_feature_agglomeration\u001b[0m \u001b[1;32mimport\u001b[0m \u001b[0mAgglomerationTransform\u001b[0m\u001b[1;33m\u001b[0m\u001b[0m\n\u001b[0;32m     24\u001b[0m \u001b[1;32mfrom\u001b[0m \u001b[1;33m.\u001b[0m\u001b[1;33m.\u001b[0m\u001b[0mutils\u001b[0m\u001b[1;33m.\u001b[0m\u001b[0mfast_dict\u001b[0m \u001b[1;32mimport\u001b[0m \u001b[0mIntFloatDict\u001b[0m\u001b[1;33m\u001b[0m\u001b[0m\n\u001b[1;32m---> 25\u001b[1;33m \u001b[1;32mfrom\u001b[0m \u001b[1;33m.\u001b[0m\u001b[1;33m.\u001b[0m\u001b[0mutils\u001b[0m\u001b[1;33m.\u001b[0m\u001b[0mfixes\u001b[0m \u001b[1;32mimport\u001b[0m \u001b[0m_astype_copy_false\u001b[0m\u001b[1;33m\u001b[0m\u001b[0m\n\u001b[0m\u001b[0;32m     26\u001b[0m \u001b[1;32mfrom\u001b[0m \u001b[1;33m.\u001b[0m\u001b[1;33m.\u001b[0m\u001b[0mutils\u001b[0m \u001b[1;32mimport\u001b[0m \u001b[0mdeprecated\u001b[0m\u001b[1;33m\u001b[0m\u001b[0m\n\u001b[0;32m     27\u001b[0m \u001b[1;33m\u001b[0m\u001b[0m\n",
      "\u001b[1;31mImportError\u001b[0m: cannot import name '_astype_copy_false'"
     ]
    }
   ],
   "source": [
    "from imblearn.under_sampling import RandomUnderSampler"
   ]
  },
  {
   "cell_type": "code",
   "execution_count": 27,
   "metadata": {
    "collapsed": true
   },
   "outputs": [],
   "source": [
    "STOPWORDS = set(stopwords.words('english'))\n",
    "appsentiments=[]\n",
    "for i in range(len(data)):\n",
    "        if data['app_id'][i]=='com.vectorunit.purple.googleplay':\n",
    "            review = re.sub('[^a-zA-Z]', ' ',data['reviews'][i])\n",
    "            review = re.sub('[/(){}\\[\\]\\|@!,;]', ' ',data['reviews'][i])\n",
    "            review = re.sub('[^0-9a-zA-Z #+_♥️]', ' ',data['reviews'][i])#Remove bad symbols\n",
    "            review = re.sub(r'\\d+', '',review)\n",
    "            review = review.lower()\n",
    "            review = review.split()\n",
    "\n",
    "            review = [token for token in review if token not in STOPWORDS]\n",
    "            review=' '.join(review)\n",
    "            appsentiments.append(review)"
   ]
  },
  {
   "cell_type": "code",
   "execution_count": 24,
   "metadata": {},
   "outputs": [
    {
     "name": "stdout",
     "output_type": "stream",
     "text": [
      "4.618973214285714\n"
     ]
    }
   ],
   "source": [
    "count=0\n",
    "values=0\n",
    "for i in range(len(data)):\n",
    "    if data['app_id'][i]=='com.vectorunit.purple.googleplay':\n",
    "        values=values+1\n",
    "        #print(data['rating'][i])\n",
    "        count =count+data['rating'][i]\n",
    "print(count/values)"
   ]
  },
  {
   "cell_type": "code",
   "execution_count": 37,
   "metadata": {},
   "outputs": [
    {
     "data": {
      "text/plain": [
       "4480"
      ]
     },
     "execution_count": 37,
     "metadata": {},
     "output_type": "execute_result"
    }
   ],
   "source": [
    "values"
   ]
  },
  {
   "cell_type": "code",
   "execution_count": 94,
   "metadata": {
    "collapsed": true
   },
   "outputs": [],
   "source": [
    "STOPWORDS = set(stopwords.words('english'))\n",
    "Reviews=[]\n",
    "for i in range(len(data)):\n",
    "    review = re.sub('[^a-zA-Z]', ' ',data['reviews'][i])\n",
    "    review = re.sub('[/(){}\\[\\]\\|@!,;]', ' ',data['reviews'][i])\n",
    "    review = re.sub('[^0-9a-zA-Z #+_♥️]', ' ',data['reviews'][i])#Remove bad symbols\n",
    "    review = re.sub(r'\\d+', '',review)\n",
    "    review = review.lower()\n",
    "    review = review.split()\n",
    "\n",
    "    review = [token for token in review if token not in STOPWORDS]\n",
    "    review=' '.join(review)\n",
    "    Reviews.append(review)"
   ]
  },
  {
   "cell_type": "code",
   "execution_count": 7,
   "metadata": {},
   "outputs": [
    {
     "data": {
      "text/plain": [
       "['wonderfull app completed levels wait levels level bug get around complete touching two ballt lower left side rail let hand pick wise disappear rail great game loved',\n",
       " 'good like gameplay please change music gets repetitive nd level hear track loop start way many ads also please make mode could break balls instead always levels shoot random balls',\n",
       " 'really enjoyed game saw one adverts throughout ngame man woman spooning hardly appropriate young nchildren see want play innocent game pool nreally todays day age children exposed things ni deleting game hope find one innocence nmind',\n",
       " 'please get rid odd shaped tables go back classic table please fix level balls cue stick disappear table making impossible continue otherwise great game disappointing unable continue end',\n",
       " 'easy game play actually given pointers play nreal game pool like hit cue ball angle place nthe cue stick complaint really ninstructions say acquiring hearts coins points',\n",
       " 'going lie started playing game probably hours ago thoroughly addicted pretty awesome game girl tried taking game attacked like pit bull double fivestar triple thumbs yay',\n",
       " 'level lower left cushion let ball disappear nothingness nafter striking ball seen different edges screen nno way finish level weird fix',\n",
       " 'people balls stop time wont let ball go pocket hand table control game que ball scrach beating game good game controls game good shooter trays make miss pocket',\n",
       " 'gameplay fun graphics good lot levels however number ads insane paid version bothered ads usually try free versions determine game worth buying one seem',\n",
       " 'great game get level starts shooting balls screen see play anymore really fix problem',\n",
       " 'wanted thank supervisors n creator n n charge whatever powers days complaint longer interrupted mid shot advertising ple refer game friends thank listening adam',\n",
       " 'pool player good app find helps using different english techniques control ball well learning various shots encountered league struggled need practice good app',\n",
       " 'wanted basic billiards game redundant tutorial level system totally unecessary map thing show progress weird pool tables political ads galore stop',\n",
       " 'installed game even play game load would shut waste time really wanted play give another review actually works',\n",
       " 'really enjoyed older version alot odd ball ntables aggravating enjoyable know called nbut definitely billards use play hours time nevery',\n",
       " 'really like game certain point normal billiard table changed crooked one hard play game since consider bended corners table hit billiard balls wish could changed back normal billiard table',\n",
       " 'pretty decent game way many ads made watch second video every time wanted retry table thanks unfortunate actually liked',\n",
       " 'level til problem levels balls keep disappearing table way win even keep playing fix pls want take game phone',\n",
       " 'first trouble getting pass level learned uamp level great game finish levels total go back replay levels level bank shots',\n",
       " 'best pool game except try manuver cue left side close power controls shoots barely touch power control trying move cue around annoying thing ever great',\n",
       " 'definitely good game looking kill time play pool graphics point game play hey folks made game next update make u make online play play live players around globe peace',\n",
       " 'level balls well cue ball ends table uamp able complete level otherwise great game play',\n",
       " 'tried bunch pool games always sensitive confusing game awesome abt lettin ya get hang things tossing next level far keepin game phone',\n",
       " 'got games sudden balls would disappear near side rail seen side far rail game screen way reaching q ball leave table love game',\n",
       " 'game cheats know balls defy laws physics cue ball scratches know',\n",
       " 'way way way many ads including second ones dismiss uninstalled minutes',\n",
       " 'game amazing also addictive entertaining nis game anyone likes play games adjust ndirection anything throw roll anything else',\n",
       " 'still put new levels freeze startup period sometimes minute plus keep cache clear hi end phone',\n",
       " 'game good choice disable rays indicator ball goes without helper arrow game would difficult realistic level maybe advanced helper rays disappear maybe',\n",
       " 'plz check stage working properly unable play stage ball automatically get outside table',\n",
       " 'say game stressful u complete game white ball goes hole u lives left u fail even though white ball went hole one u first got hole hate game could would rate zero stars fix level',\n",
       " 'lot ad pass free time youll never get bore last level completed game waiting next update since long update last level',\n",
       " 'one balls disappears hit ball side rails hit balls table empty game lost ball want let game round round mess',\n",
       " 'h e dumbass weird pool table shapes please give us back standard pool tables give us option controls',\n",
       " 'level balls bottom left table disappearing without going hope makes lose game see make last shots',\n",
       " 'good game nice easy play many ads really love tables awesome wish could upgrade kind tricks maybe later game around good pool game make part ill waiting',\n",
       " 'omg got enough ads top inappropriate ones two adults spooning yeah need kids watch much deleted',\n",
       " 'far simplest uncomplicated awesome bestest game pool played mobile platform got hooked since minute downloaded yesterday already reached level thanx keeping game simple devs great work',\n",
       " 'competitive u aint challenging opponent cup championship jus routine stages makes boring jus graphics dope',\n",
       " 'like much balls started sinking side rails uninstalled chose pool got one back back want pool billiards time',\n",
       " 'one made absolutely good keep making mewati function many levels finished tired playing games game good',\n",
       " 'hate bimbo ad care ads women shaking',\n",
       " 'u r greedy many ads son seconds hating game uninstalling u continue many ads u end tens users including urslef',\n",
       " 'first versions actually useful used real table easily see later versions another typical app lifetime designed game user developer pretty trimmings',\n",
       " 'fun game level game glitching really bad let pass next level know going guys need fix',\n",
       " 'cue gets close trgger cue fires finished adjusting button placed away table would give accurate trigger point',\n",
       " 'ads ads ads popping crashing game mention odd shaped tables really billiards rather arcade like',\n",
       " 'great game except cue draw wrong place setting shot keep shooting accidental touch',\n",
       " 'game best world think game always game best super really happen game level completely online level two days intelligent mind',\n",
       " 'even u pool table around u u still enjoy game nwith realistic physics really good game awesome',\n",
       " 'billiards city much like geometry actual round pool help love started playing already hooked',\n",
       " 'love billiards game pretty close real thing far physics goes could better play almost daily thanks',\n",
       " 'would star work balls keep flying table days still please help',\n",
       " 'want fix problem level three balls going table play stage let know fast',\n",
       " 'fun game bad kyrsten sinema prostitution add every level uninstalling',\n",
       " 'finished level addictive game pls download disappointed bcz beginning till end lvl till boring advert',\n",
       " 'plays death game glitches level balls roll table bottom bumpers',\n",
       " 'good game level balls fall table bottom table side solid except great challenging game',\n",
       " 'lot fun loads really fast play wait forever opponent take turn',\n",
       " 'enjoy playing app creators could change aspects though would like play real game pool rules etc apps let play online opponent opponent generated app actually playing competition rather potting balls non stop enjoy pool enjoy app',\n",
       " 'awesome game sure keeps uninstall go plus dont like weird pool tables thats classic',\n",
       " 'easy enjoyable play exceptthe co game keeps putting white ball unneccesarily forcing one watch video pvideo pleaseremedythis tthank',\n",
       " 'even get game kicks loading screen half star could',\n",
       " 'awkward get cue position times fault ads minor irritation',\n",
       " 'level got pool balls side roll nthe game finish level please fix',\n",
       " 'really fun play play enjoy playing google ads every round aggravating',\n",
       " 'many ads always popping disturbs music disruption going delete soon',\n",
       " 'graphics great gameplay great something wrong game oh yeah online gamers game best game ever online gamers otherwise game rubbish',\n",
       " 'addictive game challenging like playing real game recommend friends good graphic back day used play pool good game brings back memories',\n",
       " 'game fun play ads added every level played delete game writing review',\n",
       " 'fun game problems game got level balls would disappear screen could finish level',\n",
       " 'need entertaining health soothing brings nmy pressure keeps focused please tell go past nlevel',\n",
       " 'thing would improve game could betwo player games ball could followed took shot birds eye view',\n",
       " 'game really good equally interesting multi player would given stars vs computer vs friends well',\n",
       " 'game play excellent area trouble logging account devices',\n",
       " 'love great way kill time instead watching mindless tv nice graphics music thank',\n",
       " 'great game obviously room improvement especially comes giving bonus think give countdown bonus take',\n",
       " 'rekha amma appa amma appa amma house gone game ft game game game game game game game game game released game thrones good morning go house amma house ft shool first one love appa amma appa rao road amma thrones stills appa appa rao nagar hyderabad',\n",
       " 'please fix level balls bottom go table hit',\n",
       " 'addictive easy control strategize whenever play actual game pool real life super fun helps angle shots precisely get better real game',\n",
       " 'ball pool give balls get pockets',\n",
       " 'suck pool table costs money play poorly guess means realistic billiards experience kinda enjoy app',\n",
       " 'good game excellent physics thing uncomfortable game garish home screen billiards elegant game home screen match grandeur game',\n",
       " 'really used enjoy game fix level balls disappearing table move forward uninstalling',\n",
       " 'loved game level since stupid shaped tables appeared nhaven played delete',\n",
       " 'absolutely love game first like way easy progress like hold wait min actually starting get challenging love game',\n",
       " 'fun ads started playing game literally every shot sometimes shot uninstalled real quick sure review show',\n",
       " 'west ur data download app worst game ever two time download game game open heted thi game',\n",
       " 'game great graphics realistic action function cue nstick however little squirrelly still lots fun',\n",
       " 'problem game balls disappear bottom frame able proceed beyond',\n",
       " 'reached level working properly control stick see white ball',\n",
       " 'realy like got level stopped finished next level start next',\n",
       " 'one greatest app get moment start playing stop love',\n",
       " 'time wasted time download open game putang ena',\n",
       " 'love game one favorite real life activities playing pool nights week enjoy playing game lot nice feel',\n",
       " 'great graphics bright vibrant like two player actual game pool rather gives feel practice mode',\n",
       " 'game relax love keep games guys download game n another thing game many ads',\n",
       " 'level bug makes balls come table making hard complete level',\n",
       " 'much advertising every time retry next level another ad anoying never click ad',\n",
       " 'nice one thing wana sugesst u limited game multiplayer chalange online playing system like ball pool every level game type sequence balls arrangements boring sometime also thats way give stars unlike overall good thinking good production exelent',\n",
       " 'awesome game easy use addictive played offline many levels need currency options spend anything skills variety levels awesome game best pool game',\n",
       " 'game kind boring much terms challenge advertising entertaining game',\n",
       " 'loved game however fluidity moving cue stick could better somehow feels heavy move desired position',\n",
       " 'dump app multi player even computer compete levels told wanted levels long like river nile full different ads ads let enjoy game self',\n",
       " 'like game really ad every single game annoying',\n",
       " 'audio forced ads make unusable thinking',\n",
       " 'good game level error graphics able compete ball disappear table edge kindly rectify',\n",
       " 'game cheats way many advertisements line shot still misses',\n",
       " 'billiard city one addictive pool shooters ever played physics shots near perfect granted simply shoot balls occasionally goofy tables hate z shaped table table table think get boring keeps getting better uamp better try starting bc anonymous groups soon addiction scary',\n",
       " 'name aruni anand age years liked game much share friends',\n",
       " 'great game good play gets challenging progress please change music would great add colour table levels',\n",
       " 'first time addictive game really love good job guys thanks',\n",
       " 'great game good table needs cue options better challenge game play friends',\n",
       " 'great app pass time addictive completed levels ads annoying',\n",
       " 'lots ads great game wish directional lines balls longer',\n",
       " 'many adds every table makes want uninstall whole thing',\n",
       " 'good game stop add every stroke bcz difficult nconcentrate play game',\n",
       " 'game nice million ads killing ads start popping even enter game',\n",
       " 'levels good game good graphic enough levels please add fix problem',\n",
       " 'awesome go got ir go',\n",
       " 'enjoyed game level balls wall going wall finish round',\n",
       " 'lovely addictive game downloaded stop playing love',\n",
       " 'think may interesting realistic also clue hint available players also designed realistic money earnings sources',\n",
       " 'love game level hope still waiting see next chapter',\n",
       " 'game best beginners easily learn pot ball help play balls snooker',\n",
       " 'bad game bha phaltu kat la tha ha point',\n",
       " 'good time killer gets bit repetitive quickly good snooker buffs',\n",
       " 'always love pool one even better get play specially winter',\n",
       " 'game aap superb means amazing game really like game aap love much much',\n",
       " 'like game like app want play ball competition app greatest graphics seen video game billiards',\n",
       " 'open try play always closed automatically',\n",
       " 'game good enjoyed lot one problem add every game plz work',\n",
       " 'little waste time good uamp time pass many ads coming nirritated',\n",
       " 'game ok full billiards game good kill time',\n",
       " 'many ads one level try means every nseconds watching ad download',\n",
       " 'kiss ass billiards game everyone needs try',\n",
       " 'hate music challenge need aiming thing',\n",
       " 'played number times never get bored',\n",
       " 'get started hard addictive game put love recommend',\n",
       " 'great game bug level prevents playing fun game please fix',\n",
       " 'level gets annoying repetitive',\n",
       " 'adds come loud mute',\n",
       " 'highly recommened makes ball pool look bad',\n",
       " 'ball goes table anybody play ball table saying level',\n",
       " 'sometimes get free ball sunk glove takes best shot',\n",
       " 'entirely many advertising advertisers get way playing',\n",
       " 'amazing yaar really like game lot cool awesome enjoy game much',\n",
       " 'great pool game good trick shots challenging trying pot balls without miss different types pool tables great game',\n",
       " 'nivel las bolas se salen de la mesa desaparecen por lo tanto se puede avanzar de nivel',\n",
       " 'nice easy time waster music annoying cue control bit erratic overall pretty good',\n",
       " 'good challenging game accuracy movements graphics really great rebounds sound effects spot like game',\n",
       " 'game soo stupid point playing incentive continue playing',\n",
       " 'much ads good game great cualidy like im playing real life',\n",
       " 'boring game mai install kr k phs gaya dont install',\n",
       " 'nice game also one thing connect friends also',\n",
       " 'n',\n",
       " 'like wish line travel went ball hole',\n",
       " 'chance get n game chance game play bullet',\n",
       " 'fun pressure anyone computer learning position stick hit ball hard soft enough fun',\n",
       " 'amongst paraphernalia high stress apps relax zone',\n",
       " 'game good insert practice module customizable',\n",
       " 'like game much want tell music good plzz change music game awesome',\n",
       " 'like game ad volumes keep cutting music get rid nthese ads bruh',\n",
       " 'rack em wouuld like break',\n",
       " 'game bad dowload poor game',\n",
       " 'bad thought play match computer person looks like pot balls play match',\n",
       " 'really cool game needs able play eightball nineball games one self',\n",
       " 'beautifully laid addictive best kind well done',\n",
       " 'load bollocks ball potting adverts controls dodgy also',\n",
       " 'think challenging levels game easy levels looking forward levels',\n",
       " 'please fix round ball error',\n",
       " 'good grafix good control worst ads never get level ads',\n",
       " 'far better ball pool miniclip tension loosing coins enjoy shots',\n",
       " 'good adds headache every level play days uninstall game unnecessary adds thk u',\n",
       " 'make u loose one heart instead two add power ups obstacle power ups make tricky',\n",
       " 'good game levels matches',\n",
       " 'gameplay decent ad everything use blocker otherwise skip game',\n",
       " 'like game interesting real pool player think everyone else going enjoy well',\n",
       " 'way many adverts makes hard play interest',\n",
       " 'game makes think strategy able make combos bank shots enjoying game',\n",
       " 'great game ever played challenges category much adds also hope fixed',\n",
       " 'amazing game many ads also interesting love game lot',\n",
       " 'game gets boring tables turn back normal configuration around level +',\n",
       " 'one time favorite games play game helps teach son play loves',\n",
       " 'game sucks worth time play',\n",
       " 'tried several pool games best far',\n",
       " 'brilliant game sometimes boring also sister really good game',\n",
       " 'like game many times ads please',\n",
       " 'many goddamn pop ups every f minute even play comfortable without f pop coming every f seconds f game f pop ups uninstalling',\n",
       " 'enjoyed playing game hate commercials',\n",
       " 'good make online connection game better',\n",
       " 'started playing addictive nice graphics thanks designers making',\n",
       " 'feel great game play different',\n",
       " 'challenges u play alone scoring non stop levels',\n",
       " 'addicting game good way kill unnecessary time waiting',\n",
       " 'great fun like real pool great practice',\n",
       " 'one hell game love addictive fun play',\n",
       " 'stuck level level',\n",
       " 'want table design',\n",
       " 'love game good time play game',\n",
       " 'nice game hv option play friends online',\n",
       " 'almost like real thing surprised',\n",
       " 'boring really fedup game',\n",
       " 'nice game addictive althought make match great game',\n",
       " 'sangat best saya suka sangat game ni thanks mountain games',\n",
       " 'really fun would fun play friends people around world',\n",
       " 'good relaxing game playing real billiard pool game',\n",
       " 'level black hole glitch lower lftrail',\n",
       " 'like game much wonderful game im enjoying told many friends',\n",
       " 'many ads dodgy ones much random pool game',\n",
       " 'want turn que might accidently use power bar',\n",
       " 'great room develop skills easy never impossibly hard',\n",
       " 'good game got level malfunctions balls outside table',\n",
       " 'love new whack tables makes great challenge',\n",
       " 'addictive fun game play also relaxing',\n",
       " 'beautiful app nice graphics good game like much',\n",
       " 'zero complaints one fun addictive',\n",
       " 'awesome game easier play ball pool',\n",
       " 'wish trick shots ecplaination someyhing tto show howt',\n",
       " 'good app useful app refreshes mind please download game please request',\n",
       " 'nice stop play level level',\n",
       " 'creat game completed levels please levels',\n",
       " 'great game let get past level frustrating',\n",
       " 'terrible game wants go homeless',\n",
       " 'repetitive much way challenge',\n",
       " 'th level add pops every shot pool game advertising agency',\n",
       " 'good game controls easy love game',\n",
       " 'lovely game completed level hard',\n",
       " 'great app hate ads',\n",
       " 'okay study game figure',\n",
       " 'wow best game ever seen',\n",
       " 'brilliant gameplay graphics etc thing like ads',\n",
       " 'fiddly controls silly shaped tables loudest adds possible',\n",
       " 'great game frequancy adds become annoying',\n",
       " 'game fun really passes time like believe',\n",
       " 'love game easy play nice game',\n",
       " 'really enjoy simple game pool like real pool aiming',\n",
       " 'really unswer dream enjoying game much',\n",
       " 'addictii n time consuming keep guys',\n",
       " 'game addicting lose track time',\n",
       " 'pretty much expect ads every minutes',\n",
       " 'game fun sometimes quite match pool logic',\n",
       " 'pool app interesting critically',\n",
       " 'addictive game stopi stop playing',\n",
       " 'sudah habis level nya buat apa mulai dari awal lagi',\n",
       " 'game got clearest view also goodbgame improve skills',\n",
       " 'good graphics entertaining keeps mind toes relaxes',\n",
       " 'awesome simply fun game please update game',\n",
       " 'way realistic pool games mad easier entertaining addicting',\n",
       " 'good idea put upgrades game put needs worked',\n",
       " 'like game interesting game clear levels',\n",
       " 'good game really like want many game',\n",
       " 'well like different style tables pay attention balls placed one shot could clear table',\n",
       " 'stages r timepass interesting game',\n",
       " 'love game gets challenging fun',\n",
       " 'good graphics gameplay liked game much challenging interesting best gameplay',\n",
       " 'completed levels awsum game loved level bug u cross dat everything easy complete',\n",
       " 'nice game please create something like powers achievements',\n",
       " 'fun game hard yet anyways lol',\n",
       " 'amazing game develop self mind never ever give',\n",
       " 'like balls disappears threw rails',\n",
       " 'interesting like',\n",
       " 'like game graphics low mb',\n",
       " 'one best pool games ever played',\n",
       " 'best teaching tool far billiards ago found ever',\n",
       " 'like real thing thanks',\n",
       " 'needs clarity nice addicting',\n",
       " 'addict one crossed level days',\n",
       " 'nice game controls good time killer',\n",
       " 'fun entertaint game level still want continue next level stuck',\n",
       " 'game lovely surpassed initial expectation',\n",
       " 'thanks ry much fir relaxation game keeps troubles',\n",
       " 'nice nice game like much like happy game',\n",
       " 'love game graphics good much adds',\n",
       " 'really good never thought billiards could interesting',\n",
       " 'boring game please add online matches',\n",
       " 'best pool game found',\n",
       " 'like game got biggie level reload memes starting',\n",
       " 'think dad would love game',\n",
       " 'even let open dam app',\n",
       " 'nice relaxing game could less adverts otherwise would given five stars',\n",
       " 'like game much becase game usefull game us nthis game internatinal game',\n",
       " 'make vs cpu mode otherwise good time pass',\n",
       " 'multiplayer',\n",
       " 'game fine would like much better turn music player',\n",
       " 'nice gave lives became difficult',\n",
       " 'beautiful game thank great deal stress',\n",
       " 'controls touchy would perfect phone pool game',\n",
       " 'fun would love propper pvp mode',\n",
       " 'lot adds disturbance',\n",
       " 'connected play games account',\n",
       " 'thought good',\n",
       " 'lavel done update please lavels',\n",
       " 'good game chillax',\n",
       " 'helps improve real game enjoy',\n",
       " 'time killing game nice',\n",
       " 'stop going pack finish next levels great job well done',\n",
       " 'love ball shot physics needs pvsp area play',\n",
       " 'since suck real pool love app complaints play hrs makes happy',\n",
       " 'wish could break',\n",
       " 'fun game good controls levels repetitive though',\n",
       " 'great fun could easily kill couple hours game addictive',\n",
       " 'good game us',\n",
       " 'reason wrote stop asking',\n",
       " 'think good keeps da mind things',\n",
       " 'nice game challenge one player makes boring',\n",
       " 'far many ads',\n",
       " 'finished level exactly month wait levels great job',\n",
       " 'like playing alone get better view game glad option others force play opponent',\n",
       " 'addictive like game alot',\n",
       " 'addictive fun rewarding way pass time',\n",
       " 'absolutely brilliant game thing could less ads',\n",
       " 'gusta es sencillo desafiante al mismo tiempo',\n",
       " 'would star adverts joke',\n",
       " 'real pool game shooting balls pockets',\n",
       " 'good fun game pass time',\n",
       " 'great game play love game ame',\n",
       " 'nice better formal',\n",
       " 'finished redownloaded times games finish like',\n",
       " 'awkward aiming miniclips ball much better',\n",
       " 'really fun requires skill luck like',\n",
       " 'amazing game addicted',\n",
       " 'different city scene instead repeated one throughout levels would nice',\n",
       " 'great game ruined fukcing adverts',\n",
       " 'really like done levels always something improve like background music add levels thank',\n",
       " 'like pool good way get skills',\n",
       " 'nice game girl love',\n",
       " 'graphics good easy follow rules',\n",
       " 'thank much',\n",
       " 'love game addicting',\n",
       " 'many advertisements game play could better option playing simple ball game',\n",
       " 'best game ever made offline awesome cool amazingly fun like shooting actual pool lots lots',\n",
       " 'great game got level iphone game stopped working',\n",
       " 'able open',\n",
       " 'hate game much',\n",
       " 'unable play opponent',\n",
       " 'hate new version game',\n",
       " 'good game amount ads completely ruin',\n",
       " 'crashes game loads',\n",
       " 'like studying exam helps alot',\n",
       " 'super entertaining fun great time killer',\n",
       " 'nice game sometimes addicted',\n",
       " 'adds every minut anoying hell unplayable',\n",
       " 'game fun really helps time fly',\n",
       " 'graphics good game fun addictive controls suck bit',\n",
       " 'great game many ads fun way pass time',\n",
       " 'need one play use money every min get bucks',\n",
       " 'really good control shots',\n",
       " 'loved play',\n",
       " 'game good time pass',\n",
       " 'pool player really like game graphics almost like playing pool real great job developers',\n",
       " 'would like play people',\n",
       " 'nice game fabulous marvellous time passes faster',\n",
       " 'awesome mission',\n",
       " 'good game levels r easy',\n",
       " 'game even load installed',\n",
       " 'love game adverts really annoy version buy stop',\n",
       " 'play close real',\n",
       " 'good game spend time',\n",
       " 'good game levels',\n",
       " 'time consuming',\n",
       " 'game brain wont match',\n",
       " 'became disinteresting change shape pool table',\n",
       " 'must bi old perfact players new commers bi tips ftsh commets',\n",
       " 'nice game advertisement bad',\n",
       " 'thanks like wish english application hum better maybe different area enjoyed',\n",
       " 'completed levels loved every minute thanks',\n",
       " 'many ads',\n",
       " 'complicated first time players refreshing end goal tofinish defeat opponent',\n",
       " 'good game play addictive',\n",
       " 'release lite version weaker smart phones',\n",
       " 'play games game work',\n",
       " 'best billiards game played platform',\n",
       " 'new cant figure im saposed thought pool game need work instructions',\n",
       " 'good game ur bored',\n",
       " 'good thing game open',\n",
       " 'played every level level ends game',\n",
       " 'entertaining improves skills real game love',\n",
       " 'good game bit boring',\n",
       " 'bad game',\n",
       " 'great game beginner advance',\n",
       " 'pool pool isnt game nice work guys',\n",
       " 'good game love learning alot',\n",
       " 'many ads love game',\n",
       " 'many ads beginning ads get ton',\n",
       " 'excellent game issues best new bees',\n",
       " 'let play games made final comment',\n",
       " 'many adds called add app play pool sometimes',\n",
       " 'makes u feel like pool pro',\n",
       " 'every super game like much telugu',\n",
       " 'good one really love game',\n",
       " 'awesome game played games worst best',\n",
       " 'best game ever played android pool avail full game mode cool',\n",
       " 'nice game b amazing graphics double team options',\n",
       " 'wow nice game',\n",
       " 'thank wonderful game add feature wherein remove directional line',\n",
       " 'keeps busy like ads constantly',\n",
       " 'really like excellent game lots fun recommended pool entuciast body like well made games',\n",
       " 'bad game hate game boring game',\n",
       " 'want new games',\n",
       " 'get next level',\n",
       " 'graphics great tune catchy',\n",
       " 'nice game hone skills',\n",
       " 'better pool games',\n",
       " 'completed level awsome update',\n",
       " 'game cool like',\n",
       " 'never seen like game never',\n",
       " 'sooo good game ever play',\n",
       " 'boring game intrest',\n",
       " 'damn many adds',\n",
       " 'fun game freezes alot hard play',\n",
       " 'change regular pool would better competing players',\n",
       " 'nice game many ads',\n",
       " 'need lot levels completed stars',\n",
       " 'waste time',\n",
       " 'wast worst game world',\n",
       " 'awesome app time paas best app',\n",
       " 'way many adds',\n",
       " 'wish ads go away',\n",
       " 'wait see spinners lol',\n",
       " 'time started',\n",
       " 'think cool opened',\n",
       " 'awesome game good challenge played',\n",
       " 'amazing game play days',\n",
       " 'bagus game nya bikin ketagihan',\n",
       " 'much advertisements testing tolerance',\n",
       " 'game nice loved',\n",
       " 'boring far easy needs proper tables',\n",
       " 'like funny looking tables could use ball ball games',\n",
       " 'great time killer keeps mind working',\n",
       " 'fun best pool game mobile imo',\n",
       " 'game funny double combo funny wispring',\n",
       " 'took many ads deleted advice download game',\n",
       " 'cue stick keeps jumping shot',\n",
       " 'bad game old billiards city game fantastic game',\n",
       " 'make platform play friends',\n",
       " 'good game addictive',\n",
       " 'game really good sometimes feel boring',\n",
       " 'like put spin real game play',\n",
       " 'good game love',\n",
       " 'dont know say',\n",
       " 'dope dope smoke game',\n",
       " 'game cool gets little boring half way',\n",
       " 'bad game',\n",
       " 'need levels levels',\n",
       " 'nice easy relaxing game easy',\n",
       " 'think game good ball pool makes tarhet perfect',\n",
       " 'baddest pool game world load tab',\n",
       " 'get update',\n",
       " 'like much muwaaaaaas',\n",
       " 'ball ball game least',\n",
       " 'really cool game loved',\n",
       " 'nice easy play game',\n",
       " 'love game amazing thanks',\n",
       " 'great want pass time',\n",
       " 'nice game good time pass',\n",
       " 'nice game good graphics',\n",
       " 'good game like',\n",
       " 'wonderful game much enjoying',\n",
       " 'really good app love playing',\n",
       " 'great boredom busting game',\n",
       " 'one best snooker game playstore',\n",
       " 'like game much come school play',\n",
       " 'like game helps direct shot',\n",
       " 'great game need opponent uamp emo sticker improvements game',\n",
       " 'best game know little',\n",
       " 'thank u much nice game self enjoyed lot',\n",
       " 'like game open tablet',\n",
       " 'helps practice regular pool game',\n",
       " 'well thank goal seeing shot',\n",
       " 'cant stop playing',\n",
       " 'open phone model xoli era x',\n",
       " 'could please adds adds every seconds enough',\n",
       " 'levels harder choice',\n",
       " 'good game',\n",
       " 'stop playing',\n",
       " 'stop playing',\n",
       " 'love game awesome',\n",
       " 'realitic straight pool layouts levels',\n",
       " 'awesome interesting ang tym killing lov',\n",
       " 'game good fantastic boring game',\n",
       " 'great game recommend',\n",
       " 'grew pool naturally love playing relaxing',\n",
       " 'feeling happy game please continue making games like',\n",
       " 'people play pool know angles spin cuts definitely enjoy game',\n",
       " 'best mind relief game forever ever always help enjoy u',\n",
       " 'meany add',\n",
       " 'could open times downloaded',\n",
       " 'advertisement every seconds bit much',\n",
       " 'goes games need',\n",
       " 'think makes please enter games',\n",
       " 'fun',\n",
       " 'best game ever',\n",
       " 'loved game',\n",
       " 'sweet game',\n",
       " 'love game',\n",
       " 'nice time pass decent app whole sunday gone cos lol',\n",
       " 'game traning game use ball pool',\n",
       " 'game nise game playars match battar',\n",
       " 'like gate wonderful aids ones thinking blessed',\n",
       " 'nice game like',\n",
       " 'hoping helps real deal',\n",
       " 'cool game kills time',\n",
       " 'downloaded game yesterday hooked',\n",
       " 'good game far pop ups sucks though',\n",
       " 'okay game like much sooooo',\n",
       " 'awesome game',\n",
       " 'realalistic pool game ever played',\n",
       " 'still phone days fun play quick short games brief ads',\n",
       " 'great app playing pool husband daughter play',\n",
       " 'good game easy tight pockets',\n",
       " 'nothing paly yet',\n",
       " 'cannot play opponents',\n",
       " 'yet see levels',\n",
       " 'opening lenovo k note',\n",
       " 'play level intresing',\n",
       " 'funniest #game like',\n",
       " 'option play online players available',\n",
       " 'like much silent mind',\n",
       " 'masth time pass game android phones',\n",
       " 'like need leaves',\n",
       " 'good also bad',\n",
       " 'like game thanku much',\n",
       " 'game based ball pool',\n",
       " 'many levels thid game',\n",
       " 'like odd shaped tables',\n",
       " 'good killing time',\n",
       " 'loved game easy play kill temper hahaha',\n",
       " 'like like play ball',\n",
       " 'challenging thought',\n",
       " 'faaltoo ends last stop',\n",
       " 'good game way many ads',\n",
       " 'bear make better always support',\n",
       " 'good game like alot',\n",
       " 'like game far',\n",
       " 'keeps busy commute',\n",
       " 'connect facebook play friends',\n",
       " 'k think cheers',\n",
       " 'tention free games',\n",
       " 'one best games ever played next one thank alan',\n",
       " 'wont pull city',\n",
       " 'good game network',\n",
       " 'human vs human option needed',\n",
       " 'please make new version game',\n",
       " 'must match like game opponent',\n",
       " 'good game',\n",
       " 'constant ads ruin playability pretty fast',\n",
       " 'super se bhi uper good game like real game graphics good',\n",
       " 'good game like different shape tables ads much',\n",
       " 'nice young people think realistic',\n",
       " 'best snooker game need cross ball pool',\n",
       " 'fun takes alot good strategy planning',\n",
       " 'interesting game',\n",
       " 'far good liked tables traditional',\n",
       " 'game like skilled mind blown trick shot',\n",
       " 'much advertising pls install game',\n",
       " 'like much',\n",
       " 'jai billiards baba',\n",
       " 'get rid vigo video ad',\n",
       " 'bohot accha game ye',\n",
       " 'like game much',\n",
       " 'time game responding',\n",
       " 'kasi abis waktu senang aja',\n",
       " 'essay game also enjoyble',\n",
       " 'balls larger need',\n",
       " 'enjoy quite lot mostly enjoy playing line',\n",
       " 'great game many ads though hard get game back sometimes',\n",
       " 'kuch game hard hona chahiye',\n",
       " 'waaaw ju gud da januw',\n",
       " 'ok need improve',\n",
       " 'go guys enjoyn',\n",
       " 'like game much',\n",
       " 'like game much',\n",
       " 'game good best',\n",
       " 'plz update game',\n",
       " 'game nice',\n",
       " 'amazing game',\n",
       " 'nice game enjoyed',\n",
       " 'best game world',\n",
       " 'past downloaded snooker games found best',\n",
       " 'helps game real',\n",
       " 'fun short geometry different levels new challenge time',\n",
       " 'think game challenging fun daughter likes',\n",
       " 'great way pass time addicted',\n",
       " 'good pool game want single player mode',\n",
       " 'inappropriate ad content',\n",
       " 'keeps going',\n",
       " 'like game much',\n",
       " 'least timer',\n",
       " 'beautiful game awesome play every one nice cool gm',\n",
       " 'lots fun completed levels cant wait levels great time killer',\n",
       " 'much ads',\n",
       " 'nice addition games folder',\n",
       " 'love billiards game pretty close real thing',\n",
       " 'best game ever downloaded category',\n",
       " 'like playing pool one easy control easy see love',\n",
       " 'good game',\n",
       " 'think game interesting',\n",
       " 'easy use one one game play',\n",
       " 'like much',\n",
       " 'uc dir ud rtl ue uc ue',\n",
       " 'nice game',\n",
       " 'say love addictive wont deleting xxxxxx',\n",
       " 'would pay taking ad',\n",
       " 'really appreciate efforts providing us nice addictive game',\n",
       " 'waste stupi',\n",
       " 'best wishes days ago give great game',\n",
       " 'best video pool game ever played keep',\n",
       " 'like changing table',\n",
       " 'love game cool hope guy enjoyed making game',\n",
       " 'thank sair much really enjoyed gams super',\n",
       " 'hard game',\n",
       " 'bom jogo pra relaxar',\n",
       " 'king subedi',\n",
       " 'starting',\n",
       " 'game really sucks',\n",
       " 'multi player support',\n",
       " 'everything reviewed',\n",
       " 'like game',\n",
       " 'play company',\n",
       " 'addective game',\n",
       " 'single player game',\n",
       " 'need online together friends',\n",
       " 'bro plz change bods',\n",
       " 'want like match',\n",
       " 'jugpreet singh gurpreet singh',\n",
       " 'mind shoot game',\n",
       " 'nice app little bit changes',\n",
       " 'look matured',\n",
       " 'challenges gud loved',\n",
       " 'wotha punda maari irruku',\n",
       " 'nice game game soo easy',\n",
       " 'like english feature',\n",
       " 'nice mountain game like much thanks name trisha nice game nice game',\n",
       " 'cool relaxing nice game take stress',\n",
       " 'excellent offline pool app love different table shapes',\n",
       " 'nice good game easy play relaxing music average game like',\n",
       " 'last level',\n",
       " 'record speaks',\n",
       " 'game interesting',\n",
       " 'godam much pub',\n",
       " 'pool tables suck',\n",
       " 'need player partner',\n",
       " 'like play',\n",
       " 'less adds',\n",
       " 'jordar game hai yaar',\n",
       " 'good game relax love',\n",
       " 'oooooooooo jeeeeeeee niiiiiii aaaaaallllllllll',\n",
       " '',\n",
       " 'ya ireaally like app',\n",
       " 'good gameplay lots levels',\n",
       " 'ahhhh fred todd ttygu',\n",
       " 'go high',\n",
       " 'osime tume pass',\n",
       " 'time pass ke liye sahi h',\n",
       " 'bht achaa game ga',\n",
       " 'use google play',\n",
       " 'ok apart adds',\n",
       " 'initiating game',\n",
       " 'super game',\n",
       " 'really enjoy game',\n",
       " 'worst game ever',\n",
       " 'like game',\n",
       " 'boring many ads',\n",
       " 'worst app ever',\n",
       " 'game osome difficult lot f enjoyment',\n",
       " 'many ads',\n",
       " 'really like app game come join crew',\n",
       " 'really nice timekiller well full fun excitement',\n",
       " 'bad bad',\n",
       " 'eliminate ads',\n",
       " 'nice game',\n",
       " 'dirty game controls good',\n",
       " 'keep try made control easy play',\n",
       " 'annoying commercials',\n",
       " 'excellent game stop playing',\n",
       " 'like great job greetings justin nel',\n",
       " 'making easy shots like playing pool real life',\n",
       " 'pizza village',\n",
       " 'graphics improvement required',\n",
       " 'really entertaining different cool shapes challenges',\n",
       " 'good game graphics also good everyone enjoy',\n",
       " 'levels stall good game',\n",
       " 'game provided fun excitment lot joy game really nice',\n",
       " 'nice game boring ringtone',\n",
       " 'game keeps crashing even get use please fix',\n",
       " 'good game play game good game levels hard game',\n",
       " 'love game good challenges challenging',\n",
       " 'awesome game stop playing',\n",
       " 'awesome nice game l love much',\n",
       " 'many ads',\n",
       " 'new table sucks',\n",
       " 'like game',\n",
       " 'many ads',\n",
       " 'good travel time pass wen yo internet',\n",
       " 'lot advisor',\n",
       " 'good app children practice want play accurate',\n",
       " 'superb game like must download',\n",
       " 'great perfect brilliant time waster clean cut game',\n",
       " 'nice little like ball pool',\n",
       " 'good idea play tipe games thanks',\n",
       " 'good also add online matches',\n",
       " 'google user game actually actively nice controlling',\n",
       " 'love playing good time waster found relaxing',\n",
       " 'play lot games best fun pool game found',\n",
       " 'l game',\n",
       " 'quite entertaining game many adverts level progresses',\n",
       " 'awesome game thanks',\n",
       " 'great controls great graphics many ads',\n",
       " 'good',\n",
       " 'interested game getting excitement like love',\n",
       " 'meny advertising otherwise would rate stars',\n",
       " 'barbie games nice want barbie games play levels ok',\n",
       " 'nice addicted game',\n",
       " 'good challenges game',\n",
       " 'nack game',\n",
       " 'started already learning game thank',\n",
       " 'good please really pool game',\n",
       " 'many commercials',\n",
       " 'eh okay guess',\n",
       " 'love love love game much ads still loving',\n",
       " 'like playing game',\n",
       " 'fun frustrating',\n",
       " 'pool rubbish many ads',\n",
       " 'like play',\n",
       " 'giving gets multilayer opt star game',\n",
       " 'challenge',\n",
       " 'make turning pool cue easier faster',\n",
       " 'nice game changes required make challenging',\n",
       " 'game amazing really loved',\n",
       " 'think features adds would great',\n",
       " 'good game good game set mind',\n",
       " 'nice time killing game',\n",
       " 'bata reyes style',\n",
       " 'played pool think cool new one',\n",
       " 'good enjoy',\n",
       " 'like game nice game play tip game game',\n",
       " 'nice game',\n",
       " 'tilt view striker fun',\n",
       " 'nice game',\n",
       " 'good pool game best played yet',\n",
       " 'nice fantastic game many ads mars',\n",
       " 'karan kumar',\n",
       " 'awesome n amazing app',\n",
       " 'passes time',\n",
       " 'fun easy gameenjoying playing',\n",
       " 'good game pass time',\n",
       " 'love pool game especially cool shapes pool table',\n",
       " 'good pool game',\n",
       " 'wow game worth playing',\n",
       " 'love great app thanks',\n",
       " 'player vs player available would best game',\n",
       " 'good best',\n",
       " 'good running app enjoy game easy game',\n",
       " 'fine good',\n",
       " 'hope u give us comment also',\n",
       " 'needs multi player still like',\n",
       " 'game ok',\n",
       " 'good game high guality mode',\n",
       " 'fun game would recommend anyone likes pool',\n",
       " 'great game play relax time',\n",
       " 'many ads',\n",
       " 'addictive game phone',\n",
       " 'awesome fantastic ultra ultimate fabulousest game',\n",
       " 'addicting',\n",
       " 'much adds',\n",
       " 'thanks game playstore',\n",
       " 'nagendra kumar mishra',\n",
       " 'dis game meising',\n",
       " 'mahar saeed thanks',\n",
       " 'fun seems like',\n",
       " 'iv including',\n",
       " 'supar game reyaly',\n",
       " 'like game',\n",
       " '',\n",
       " 'addicting game',\n",
       " 'need controller',\n",
       " 'many adds',\n",
       " 'gd time pass',\n",
       " 'lov game',\n",
       " 'feeling',\n",
       " 'make new update',\n",
       " 'like game',\n",
       " 'se autoriza',\n",
       " 'super se upee',\n",
       " 'mind concentrate game',\n",
       " 'super game',\n",
       " 'gud game',\n",
       " 'time pass game',\n",
       " 'game asem',\n",
       " 'thankyou much',\n",
       " 'like game',\n",
       " 'like game',\n",
       " 'u mum gay',\n",
       " 'plzz give coin stick',\n",
       " 'helps',\n",
       " 'yeh orange yeah',\n",
       " 'sht one',\n",
       " 'many ads',\n",
       " 'game awesomw',\n",
       " 'many ads',\n",
       " 'many adds',\n",
       " 'play others',\n",
       " 'huu hi lg',\n",
       " 'many ads',\n",
       " 'like game',\n",
       " 'time pass game',\n",
       " 'desi game e',\n",
       " 'killin time game',\n",
       " 'interestingly enough',\n",
       " 'session',\n",
       " 'like turtles',\n",
       " 'yet opening',\n",
       " 'many adverts',\n",
       " 'hobbies',\n",
       " 'sorry wanted stars',\n",
       " 'tik hai game',\n",
       " 'manu ads',\n",
       " 'achha game hain',\n",
       " 'ok game play',\n",
       " 'many adds',\n",
       " 'thinks game',\n",
       " 'many adds',\n",
       " 'super game',\n",
       " 'nive game',\n",
       " 'thanks game',\n",
       " 'many ad',\n",
       " 'ilikethis game lot',\n",
       " 'like game',\n",
       " 'like game',\n",
       " 'adds game',\n",
       " 'much adds',\n",
       " 'time pass game',\n",
       " 'put opponents',\n",
       " 'mizanur rahaman excilent',\n",
       " 'awesome',\n",
       " 'nice game like',\n",
       " 'kid loves',\n",
       " 'none stop thinking beautiful tables game nice uamp smooth',\n",
       " 'sometimes need play game good',\n",
       " 'keep adding games without getting interrupted',\n",
       " 'great way learn play pool really helpful',\n",
       " 'likeitso far getting started like graphics',\n",
       " 'great game awesome graphics realistic play',\n",
       " 'really okay love graphics control',\n",
       " 'game fun like billiards games',\n",
       " 'gamw nice play think install game',\n",
       " 'like washroom',\n",
       " 'hi ok play interesting game',\n",
       " 'nice make u understand pools better',\n",
       " 'nice lots pop adds',\n",
       " 'enjoying much put',\n",
       " 'fun game well made easy pick',\n",
       " 'shotting power cue',\n",
       " 'love game one best game world',\n",
       " 'fun game',\n",
       " 'good game like make',\n",
       " 'like good kill time',\n",
       " 'terbaik la star',\n",
       " 'far really fun best pool game far',\n",
       " 'many games like love hit billards',\n",
       " 'much better game',\n",
       " 'ball looks real enjoyed game',\n",
       " 'awesome game play really sports fan',\n",
       " 'game best game realistic grafics',\n",
       " 'great game break',\n",
       " 'game good u found add every step',\n",
       " 'really fun skillful game ages cheers creator',\n",
       " 'nice great good game',\n",
       " 'good one counting numbers snowing',\n",
       " 'interesting game like much',\n",
       " 'like angles fun play nice challenge',\n",
       " 'cool game wayyy tooo many ads',\n",
       " 'like much dont wye lids',\n",
       " 'like help learn play',\n",
       " 'love game sos os much',\n",
       " 'tip carry bad game',\n",
       " 'nice game need part',\n",
       " 'best thing ever n addict game',\n",
       " 'love game plz makes like games',\n",
       " 'good game would better actual ball games',\n",
       " 'cool game entertain good time pass',\n",
       " 'would great game many dam ads',\n",
       " 'much fun hardly stand',\n",
       " 'love game super good control graphics',\n",
       " 'really love game need features',\n",
       " 'pretty good complaints hear',\n",
       " 'ugghhh',\n",
       " 'nice pool game liked',\n",
       " 'ita intresting game butt falt adds',\n",
       " 'wonderful like games type',\n",
       " 'amazing game reached level awesome',\n",
       " 'v nice want play vs',\n",
       " 'open',\n",
       " 'imhussain mustafa',\n",
       " 'awesome ha game super ha game',\n",
       " 'money',\n",
       " '',\n",
       " 'nyc learning nw gud experience',\n",
       " '',\n",
       " 'ok',\n",
       " 'realalistic',\n",
       " 'loved',\n",
       " 'nice game liked much wow',\n",
       " 'love pool game best amazing',\n",
       " 'playing long time liking lots',\n",
       " 'amazing good also thanks create good app',\n",
       " 'best billiard game played',\n",
       " 'u need work game game',\n",
       " 'great game wait levels',\n",
       " 'fun game keeps focused easy enjoyyy',\n",
       " 'fun easy play graphics good',\n",
       " 'game nice game time pass',\n",
       " 'love style pool billards great job',\n",
       " 'think game best game ever seen',\n",
       " 'till ive completed levels looking good',\n",
       " 'digin',\n",
       " 'interesting game graphic quality rich',\n",
       " 'great game help train focus',\n",
       " 'one best pool games played',\n",
       " 'really enjoyed game played games',\n",
       " 'best pool game ever please install game',\n",
       " 'love fun play relaxing',\n",
       " 'realistic recreation playing pool',\n",
       " 'wonderful game app loved much',\n",
       " 'interesting board pattern',\n",
       " 'game intersting piecefull thankyou',\n",
       " 'good problem add',\n",
       " 'awesome way learn master trick shots',\n",
       " 'amazing love game addictive',\n",
       " 'like',\n",
       " 'great billiard game iam searcing',\n",
       " 'good work guys game addictive',\n",
       " 'super game',\n",
       " 'really superb game ed ittt',\n",
       " 'great game except ads btw liked game',\n",
       " 'interesting good time pass',\n",
       " 'great pool game learn angles banks',\n",
       " 'amazing game waiting levels',\n",
       " 'nice game need improve controller',\n",
       " 'ok game easy play',\n",
       " 'like playing game easy play',\n",
       " 'interesting bat money',\n",
       " 'good game kids third class',\n",
       " 'lots lots lots ads fun prepare bazzzzilion ads',\n",
       " 'best fantastic',\n",
       " 'thank found great pool game',\n",
       " 'kept happy hrs straight',\n",
       " 'great app change table',\n",
       " 'nyc app',\n",
       " 'superb game like much',\n",
       " 'ta chido',\n",
       " 'really awsome make pool interesting',\n",
       " 'new player excited',\n",
       " 'great game',\n",
       " 'good game many ads',\n",
       " 'love awe',\n",
       " 'angles pckets need distance pointing',\n",
       " 'little bit odd gr',\n",
       " 'nice game level',\n",
       " 'super',\n",
       " 'love better ball pool',\n",
       " 'good thanks pool city',\n",
       " 'best game ball pool',\n",
       " 'love play game',\n",
       " 'easy use good game',\n",
       " 'love thank bringing board',\n",
       " 'nice g satish phone numbers',\n",
       " 'think really enjoying ggme',\n",
       " '',\n",
       " 'really cool game doubt',\n",
       " 'kinda good game put easy',\n",
       " 'started playing happy far',\n",
       " 'addictive game lot adds',\n",
       " 'nice game good graphics also',\n",
       " 'game easy good controls',\n",
       " 'games still love game',\n",
       " 'think love good game',\n",
       " 'addictive also enjoyable',\n",
       " 'best game played',\n",
       " 'ok passing time sweet melody',\n",
       " 'kool amazing pool game',\n",
       " 'best game ever played',\n",
       " 'need work controls good game',\n",
       " 'good game pass time many ads',\n",
       " 'nice game play hole level',\n",
       " 'easy ball pool',\n",
       " 'important game earth wonderful',\n",
       " 'good game ball pool better',\n",
       " 'interesting game fully time pass',\n",
       " 'awesome game ever seen',\n",
       " 'ii like billiards nice',\n",
       " 'good game like thanks',\n",
       " 'cool shows actually play pool',\n",
       " 'good playing _ p',\n",
       " 'okey',\n",
       " 'bad thank u vrrryuch',\n",
       " 'nice small change',\n",
       " 'cool game base physics concepts',\n",
       " 'graphics totally super cool love game totally awesome dude',\n",
       " ...]"
      ]
     },
     "execution_count": 7,
     "metadata": {},
     "output_type": "execute_result"
    }
   ],
   "source": [
    "Reviews"
   ]
  },
  {
   "cell_type": "code",
   "execution_count": 36,
   "metadata": {
    "collapsed": true
   },
   "outputs": [],
   "source": [
    "y = data['rating']\n",
    "X=Reviews\n",
    "X_train, X_test, y_train, y_test = train_test_split(X, y, test_size=0.3)"
   ]
  },
  {
   "cell_type": "code",
   "execution_count": null,
   "metadata": {
    "collapsed": true
   },
   "outputs": [],
   "source": []
  },
  {
   "cell_type": "code",
   "execution_count": 38,
   "metadata": {},
   "outputs": [
    {
     "name": "stderr",
     "output_type": "stream",
     "text": [
      "C:\\Users\\Muhammad Umer\\Anaconda3\\lib\\site-packages\\sklearn\\feature_extraction\\text.py:1089: FutureWarning: Conversion of the second argument of issubdtype from `float` to `np.floating` is deprecated. In future, it will be treated as `np.float64 == np.dtype(float).type`.\n",
      "  if hasattr(X, 'dtype') and np.issubdtype(X.dtype, np.float):\n"
     ]
    }
   ],
   "source": [
    "from sklearn.feature_extraction.text import TfidfVectorizer\n",
    "\n",
    "vectorizer = TfidfVectorizer(max_features=72684)\n",
    "X_train= vectorizer.fit_transform(X_train)\n",
    "X_test=vectorizer.transform(Reviews)"
   ]
  },
  {
   "cell_type": "code",
   "execution_count": 20,
   "metadata": {},
   "outputs": [
    {
     "data": {
      "text/plain": [
       "(4480, 72684)"
      ]
     },
     "execution_count": 20,
     "metadata": {},
     "output_type": "execute_result"
    }
   ],
   "source": [
    "X_test.shape"
   ]
  },
  {
   "cell_type": "code",
   "execution_count": null,
   "metadata": {
    "collapsed": true
   },
   "outputs": [],
   "source": [
    "from sklearn.ensemble import RandomForestClassifier\n",
    "from sklearn.metrics import confusion_matrix, classification_report, accuracy_score\n",
    "rfc = RandomForestClassifier(n_estimators=100,n_jobs=-1,random_state=50)\n",
    "model = rfc.fit(X_train, y_train)\n",
    "#print(\"Random Forest\")\n",
    "#print(accuracy_score(y_test, preds))"
   ]
  },
  {
   "cell_type": "code",
   "execution_count": 12,
   "metadata": {},
   "outputs": [
    {
     "data": {
      "text/plain": [
       "sklearn.ensemble.forest.RandomForestClassifier"
      ]
     },
     "execution_count": 12,
     "metadata": {},
     "output_type": "execute_result"
    }
   ],
   "source": [
    "type(model)"
   ]
  },
  {
   "cell_type": "code",
   "execution_count": 15,
   "metadata": {},
   "outputs": [
    {
     "ename": "PermissionError",
     "evalue": "[Errno 13] Permission denied: 'finalized_model.csv'",
     "output_type": "error",
     "traceback": [
      "\u001b[1;31m---------------------------------------------------------------------------\u001b[0m",
      "\u001b[1;31mPermissionError\u001b[0m                           Traceback (most recent call last)",
      "\u001b[1;32m<ipython-input-15-bc3bf5d835e2>\u001b[0m in \u001b[0;36m<module>\u001b[1;34m()\u001b[0m\n\u001b[0;32m      1\u001b[0m \u001b[1;32mimport\u001b[0m \u001b[0mpickle\u001b[0m\u001b[1;33m\u001b[0m\u001b[0m\n\u001b[0;32m      2\u001b[0m \u001b[0mfilename\u001b[0m \u001b[1;33m=\u001b[0m \u001b[1;34m'finalized_model.csv'\u001b[0m\u001b[1;33m\u001b[0m\u001b[0m\n\u001b[1;32m----> 3\u001b[1;33m \u001b[0mpickle\u001b[0m\u001b[1;33m.\u001b[0m\u001b[0mdump\u001b[0m\u001b[1;33m(\u001b[0m\u001b[0mmodel\u001b[0m\u001b[1;33m,\u001b[0m \u001b[0mopen\u001b[0m\u001b[1;33m(\u001b[0m\u001b[0mfilename\u001b[0m\u001b[1;33m,\u001b[0m \u001b[1;34m'wb'\u001b[0m\u001b[1;33m)\u001b[0m\u001b[1;33m)\u001b[0m\u001b[1;33m\u001b[0m\u001b[0m\n\u001b[0m",
      "\u001b[1;31mPermissionError\u001b[0m: [Errno 13] Permission denied: 'finalized_model.csv'"
     ]
    }
   ],
   "source": [
    "import pickle\n",
    "filename = 'finalized_model.csv'\n",
    "pickle.dump(model, open(filename, 'wb'))"
   ]
  },
  {
   "cell_type": "code",
   "execution_count": 30,
   "metadata": {},
   "outputs": [
    {
     "ename": "NameError",
     "evalue": "name 'model' is not defined",
     "output_type": "error",
     "traceback": [
      "\u001b[0;31m---------------------------------------------------------------------------\u001b[0m",
      "\u001b[0;31mNameError\u001b[0m                                 Traceback (most recent call last)",
      "\u001b[0;32m<ipython-input-30-0aafb7656b8b>\u001b[0m in \u001b[0;36m<module>\u001b[0;34m()\u001b[0m\n\u001b[1;32m      1\u001b[0m \u001b[1;32mimport\u001b[0m \u001b[0mpickle\u001b[0m \u001b[1;32mas\u001b[0m \u001b[0mcPickle\u001b[0m\u001b[1;33m\u001b[0m\u001b[0m\n\u001b[1;32m      2\u001b[0m \u001b[1;32mwith\u001b[0m \u001b[0mopen\u001b[0m\u001b[1;33m(\u001b[0m\u001b[1;34m'predict.csv'\u001b[0m\u001b[1;33m,\u001b[0m \u001b[1;34m'wb'\u001b[0m\u001b[1;33m)\u001b[0m \u001b[1;32mas\u001b[0m \u001b[0mf\u001b[0m\u001b[1;33m:\u001b[0m\u001b[1;33m\u001b[0m\u001b[0m\n\u001b[0;32m----> 3\u001b[0;31m     \u001b[0mcPickle\u001b[0m\u001b[1;33m.\u001b[0m\u001b[0mdump\u001b[0m\u001b[1;33m(\u001b[0m\u001b[0mmodel\u001b[0m\u001b[1;33m,\u001b[0m \u001b[0mf\u001b[0m\u001b[1;33m)\u001b[0m\u001b[1;33m\u001b[0m\u001b[0m\n\u001b[0m",
      "\u001b[0;31mNameError\u001b[0m: name 'model' is not defined"
     ]
    }
   ],
   "source": [
    "import pickle as cPickle\n",
    "with open('predict.csv', 'wb') as f:\n",
    "    cPickle.dump(model, f)"
   ]
  },
  {
   "cell_type": "code",
   "execution_count": 31,
   "metadata": {},
   "outputs": [
    {
     "name": "stderr",
     "output_type": "stream",
     "text": [
      "C:\\Users\\Muhammad Umer\\Anaconda3\\lib\\site-packages\\sklearn\\ensemble\\weight_boosting.py:29: DeprecationWarning: numpy.core.umath_tests is an internal NumPy module and should not be imported. It will be removed in a future NumPy release.\n",
      "  from numpy.core.umath_tests import inner1d\n",
      "C:\\Users\\Muhammad Umer\\Anaconda3\\lib\\site-packages\\sklearn\\base.py:312: UserWarning: Trying to unpickle estimator DecisionTreeClassifier from version 0.19.1 when using version 0.19.0. This might lead to breaking code or invalid results. Use at your own risk.\n",
      "  UserWarning)\n",
      "C:\\Users\\Muhammad Umer\\Anaconda3\\lib\\site-packages\\sklearn\\base.py:312: UserWarning: Trying to unpickle estimator RandomForestClassifier from version 0.19.1 when using version 0.19.0. This might lead to breaking code or invalid results. Use at your own risk.\n",
      "  UserWarning)\n"
     ]
    },
    {
     "ename": "NameError",
     "evalue": "name 'X_test' is not defined",
     "output_type": "error",
     "traceback": [
      "\u001b[0;31m---------------------------------------------------------------------------\u001b[0m",
      "\u001b[0;31mNameError\u001b[0m                                 Traceback (most recent call last)",
      "\u001b[0;32m<ipython-input-31-915fdc8cc28b>\u001b[0m in \u001b[0;36m<module>\u001b[0;34m()\u001b[0m\n\u001b[1;32m      4\u001b[0m \u001b[1;33m\u001b[0m\u001b[0m\n\u001b[1;32m      5\u001b[0m \u001b[1;33m\u001b[0m\u001b[0m\n\u001b[0;32m----> 6\u001b[0;31m \u001b[0mpreds\u001b[0m \u001b[1;33m=\u001b[0m \u001b[0mrf\u001b[0m\u001b[1;33m.\u001b[0m\u001b[0mpredict\u001b[0m\u001b[1;33m(\u001b[0m\u001b[0mX_test\u001b[0m\u001b[1;33m)\u001b[0m\u001b[1;33m\u001b[0m\u001b[0m\n\u001b[0m\u001b[1;32m      7\u001b[0m \u001b[1;31m#print(\"Random Forest\")\u001b[0m\u001b[1;33m\u001b[0m\u001b[1;33m\u001b[0m\u001b[0m\n\u001b[1;32m      8\u001b[0m \u001b[1;31m#print(accuracy_score(y_test, preds))\u001b[0m\u001b[1;33m\u001b[0m\u001b[1;33m\u001b[0m\u001b[0m\n",
      "\u001b[0;31mNameError\u001b[0m: name 'X_test' is not defined"
     ]
    }
   ],
   "source": [
    "import pickle as cPickle\n",
    "with open('C:\\\\Users\\\\Muhammad Umer\\\\PycharmProjects\\\\GooglePlayStore\\\\predict.csv', 'rb') as f:\n",
    "    rf = cPickle.load(f)\n",
    "\n",
    "\n",
    "preds = rf.predict(X_test)\n",
    "#print(\"Random Forest\")\n",
    "#print(accuracy_score(y_test, preds))"
   ]
  },
  {
   "cell_type": "code",
   "execution_count": 37,
   "metadata": {},
   "outputs": [
    {
     "ename": "NotFittedError",
     "evalue": "TfidfVectorizer - Vocabulary wasn't fitted.",
     "output_type": "error",
     "traceback": [
      "\u001b[0;31m---------------------------------------------------------------------------\u001b[0m",
      "\u001b[0;31mNotFittedError\u001b[0m                            Traceback (most recent call last)",
      "\u001b[0;32m<ipython-input-37-4798d6e062f0>\u001b[0m in \u001b[0;36m<module>\u001b[0;34m()\u001b[0m\n\u001b[1;32m      2\u001b[0m \u001b[1;33m\u001b[0m\u001b[0m\n\u001b[1;32m      3\u001b[0m \u001b[0mvectorizer\u001b[0m \u001b[1;33m=\u001b[0m \u001b[0mTfidfVectorizer\u001b[0m\u001b[1;33m(\u001b[0m\u001b[0mmax_features\u001b[0m\u001b[1;33m=\u001b[0m\u001b[1;36m72684\u001b[0m\u001b[1;33m)\u001b[0m\u001b[1;33m\u001b[0m\u001b[0m\n\u001b[0;32m----> 4\u001b[0;31m \u001b[0mX_test\u001b[0m\u001b[1;33m=\u001b[0m\u001b[0mvectorizer\u001b[0m\u001b[1;33m.\u001b[0m\u001b[0mtransform\u001b[0m\u001b[1;33m(\u001b[0m\u001b[0mReviews\u001b[0m\u001b[1;33m)\u001b[0m\u001b[1;33m\u001b[0m\u001b[0m\n\u001b[0m\u001b[1;32m      5\u001b[0m \u001b[0mpred\u001b[0m \u001b[1;33m=\u001b[0m \u001b[0mrf\u001b[0m\u001b[1;33m.\u001b[0m\u001b[0mpredict\u001b[0m\u001b[1;33m(\u001b[0m\u001b[0mX_test\u001b[0m\u001b[1;33m)\u001b[0m\u001b[1;33m\u001b[0m\u001b[0m\n\u001b[1;32m      6\u001b[0m \u001b[0mprint\u001b[0m\u001b[1;33m(\u001b[0m\u001b[1;34m\"Random Forest\"\u001b[0m\u001b[1;33m)\u001b[0m\u001b[1;33m\u001b[0m\u001b[0m\n",
      "\u001b[0;32mC:\\Users\\Muhammad Umer\\Anaconda3\\lib\\site-packages\\sklearn\\feature_extraction\\text.py\u001b[0m in \u001b[0;36mtransform\u001b[0;34m(self, raw_documents, copy)\u001b[0m\n\u001b[1;32m   1407\u001b[0m         \u001b[0mcheck_is_fitted\u001b[0m\u001b[1;33m(\u001b[0m\u001b[0mself\u001b[0m\u001b[1;33m,\u001b[0m \u001b[1;34m'_tfidf'\u001b[0m\u001b[1;33m,\u001b[0m \u001b[1;34m'The tfidf vector is not fitted'\u001b[0m\u001b[1;33m)\u001b[0m\u001b[1;33m\u001b[0m\u001b[0m\n\u001b[1;32m   1408\u001b[0m \u001b[1;33m\u001b[0m\u001b[0m\n\u001b[0;32m-> 1409\u001b[0;31m         \u001b[0mX\u001b[0m \u001b[1;33m=\u001b[0m \u001b[0msuper\u001b[0m\u001b[1;33m(\u001b[0m\u001b[0mTfidfVectorizer\u001b[0m\u001b[1;33m,\u001b[0m \u001b[0mself\u001b[0m\u001b[1;33m)\u001b[0m\u001b[1;33m.\u001b[0m\u001b[0mtransform\u001b[0m\u001b[1;33m(\u001b[0m\u001b[0mraw_documents\u001b[0m\u001b[1;33m)\u001b[0m\u001b[1;33m\u001b[0m\u001b[0m\n\u001b[0m\u001b[1;32m   1410\u001b[0m         \u001b[1;32mreturn\u001b[0m \u001b[0mself\u001b[0m\u001b[1;33m.\u001b[0m\u001b[0m_tfidf\u001b[0m\u001b[1;33m.\u001b[0m\u001b[0mtransform\u001b[0m\u001b[1;33m(\u001b[0m\u001b[0mX\u001b[0m\u001b[1;33m,\u001b[0m \u001b[0mcopy\u001b[0m\u001b[1;33m=\u001b[0m\u001b[1;32mFalse\u001b[0m\u001b[1;33m)\u001b[0m\u001b[1;33m\u001b[0m\u001b[0m\n",
      "\u001b[0;32mC:\\Users\\Muhammad Umer\\Anaconda3\\lib\\site-packages\\sklearn\\feature_extraction\\text.py\u001b[0m in \u001b[0;36mtransform\u001b[0;34m(self, raw_documents)\u001b[0m\n\u001b[1;32m    918\u001b[0m             \u001b[0mself\u001b[0m\u001b[1;33m.\u001b[0m\u001b[0m_validate_vocabulary\u001b[0m\u001b[1;33m(\u001b[0m\u001b[1;33m)\u001b[0m\u001b[1;33m\u001b[0m\u001b[0m\n\u001b[1;32m    919\u001b[0m \u001b[1;33m\u001b[0m\u001b[0m\n\u001b[0;32m--> 920\u001b[0;31m         \u001b[0mself\u001b[0m\u001b[1;33m.\u001b[0m\u001b[0m_check_vocabulary\u001b[0m\u001b[1;33m(\u001b[0m\u001b[1;33m)\u001b[0m\u001b[1;33m\u001b[0m\u001b[0m\n\u001b[0m\u001b[1;32m    921\u001b[0m \u001b[1;33m\u001b[0m\u001b[0m\n\u001b[1;32m    922\u001b[0m         \u001b[1;31m# use the same matrix-building strategy as fit_transform\u001b[0m\u001b[1;33m\u001b[0m\u001b[1;33m\u001b[0m\u001b[0m\n",
      "\u001b[0;32mC:\\Users\\Muhammad Umer\\Anaconda3\\lib\\site-packages\\sklearn\\feature_extraction\\text.py\u001b[0m in \u001b[0;36m_check_vocabulary\u001b[0;34m(self)\u001b[0m\n\u001b[1;32m    301\u001b[0m         \u001b[1;34m\"\"\"Check if vocabulary is empty or missing (not fit-ed)\"\"\"\u001b[0m\u001b[1;33m\u001b[0m\u001b[0m\n\u001b[1;32m    302\u001b[0m         \u001b[0mmsg\u001b[0m \u001b[1;33m=\u001b[0m \u001b[1;34m\"%(name)s - Vocabulary wasn't fitted.\"\u001b[0m\u001b[1;33m\u001b[0m\u001b[0m\n\u001b[0;32m--> 303\u001b[0;31m         \u001b[0mcheck_is_fitted\u001b[0m\u001b[1;33m(\u001b[0m\u001b[0mself\u001b[0m\u001b[1;33m,\u001b[0m \u001b[1;34m'vocabulary_'\u001b[0m\u001b[1;33m,\u001b[0m \u001b[0mmsg\u001b[0m\u001b[1;33m=\u001b[0m\u001b[0mmsg\u001b[0m\u001b[1;33m)\u001b[0m\u001b[1;33m,\u001b[0m\u001b[1;33m\u001b[0m\u001b[0m\n\u001b[0m\u001b[1;32m    304\u001b[0m \u001b[1;33m\u001b[0m\u001b[0m\n\u001b[1;32m    305\u001b[0m         \u001b[1;32mif\u001b[0m \u001b[0mlen\u001b[0m\u001b[1;33m(\u001b[0m\u001b[0mself\u001b[0m\u001b[1;33m.\u001b[0m\u001b[0mvocabulary_\u001b[0m\u001b[1;33m)\u001b[0m \u001b[1;33m==\u001b[0m \u001b[1;36m0\u001b[0m\u001b[1;33m:\u001b[0m\u001b[1;33m\u001b[0m\u001b[0m\n",
      "\u001b[0;32mC:\\Users\\Muhammad Umer\\Anaconda3\\lib\\site-packages\\sklearn\\utils\\validation.py\u001b[0m in \u001b[0;36mcheck_is_fitted\u001b[0;34m(estimator, attributes, msg, all_or_any)\u001b[0m\n\u001b[1;32m    735\u001b[0m \u001b[1;33m\u001b[0m\u001b[0m\n\u001b[1;32m    736\u001b[0m     \u001b[1;32mif\u001b[0m \u001b[1;32mnot\u001b[0m \u001b[0mall_or_any\u001b[0m\u001b[1;33m(\u001b[0m\u001b[1;33m[\u001b[0m\u001b[0mhasattr\u001b[0m\u001b[1;33m(\u001b[0m\u001b[0mestimator\u001b[0m\u001b[1;33m,\u001b[0m \u001b[0mattr\u001b[0m\u001b[1;33m)\u001b[0m \u001b[1;32mfor\u001b[0m \u001b[0mattr\u001b[0m \u001b[1;32min\u001b[0m \u001b[0mattributes\u001b[0m\u001b[1;33m]\u001b[0m\u001b[1;33m)\u001b[0m\u001b[1;33m:\u001b[0m\u001b[1;33m\u001b[0m\u001b[0m\n\u001b[0;32m--> 737\u001b[0;31m         \u001b[1;32mraise\u001b[0m \u001b[0mNotFittedError\u001b[0m\u001b[1;33m(\u001b[0m\u001b[0mmsg\u001b[0m \u001b[1;33m%\u001b[0m \u001b[1;33m{\u001b[0m\u001b[1;34m'name'\u001b[0m\u001b[1;33m:\u001b[0m \u001b[0mtype\u001b[0m\u001b[1;33m(\u001b[0m\u001b[0mestimator\u001b[0m\u001b[1;33m)\u001b[0m\u001b[1;33m.\u001b[0m\u001b[0m__name__\u001b[0m\u001b[1;33m}\u001b[0m\u001b[1;33m)\u001b[0m\u001b[1;33m\u001b[0m\u001b[0m\n\u001b[0m\u001b[1;32m    738\u001b[0m \u001b[1;33m\u001b[0m\u001b[0m\n\u001b[1;32m    739\u001b[0m \u001b[1;33m\u001b[0m\u001b[0m\n",
      "\u001b[0;31mNotFittedError\u001b[0m: TfidfVectorizer - Vocabulary wasn't fitted."
     ]
    }
   ],
   "source": [
    "from sklearn.feature_extraction.text import TfidfVectorizer\n",
    "\n",
    "vectorizer = TfidfVectorizer(max_features=72684)\n",
    "X_test=vectorizer.transform(Reviews)\n",
    "pred = rf.predict(X_test)\n",
    "print(\"Random Forest\")\n",
    "print(pred)"
   ]
  },
  {
   "cell_type": "code",
   "execution_count": 4,
   "metadata": {},
   "outputs": [
    {
     "ename": "NameError",
     "evalue": "name 'pred' is not defined",
     "output_type": "error",
     "traceback": [
      "\u001b[0;31m---------------------------------------------------------------------------\u001b[0m",
      "\u001b[0;31mNameError\u001b[0m                                 Traceback (most recent call last)",
      "\u001b[0;32m<ipython-input-4-d09c40b57611>\u001b[0m in \u001b[0;36m<module>\u001b[0;34m()\u001b[0m\n\u001b[0;32m----> 1\u001b[0;31m \u001b[0msum\u001b[0m\u001b[1;33m(\u001b[0m\u001b[0mpred\u001b[0m\u001b[1;33m)\u001b[0m\u001b[1;33m/\u001b[0m\u001b[0mlen\u001b[0m\u001b[1;33m(\u001b[0m\u001b[0mappsentiments\u001b[0m\u001b[1;33m)\u001b[0m\u001b[1;33m\u001b[0m\u001b[0m\n\u001b[0m",
      "\u001b[0;31mNameError\u001b[0m: name 'pred' is not defined"
     ]
    }
   ],
   "source": [
    "sum(pred)/len(appsentiments)"
   ]
  },
  {
   "cell_type": "code",
   "execution_count": 7,
   "metadata": {},
   "outputs": [
    {
     "name": "stdout",
     "output_type": "stream",
     "text": [
      "14 categories\n",
      "\n",
      " ['Sports' 'Communication' 'action' 'Arcade' 'Video Players & Editors'\n",
      " 'Weather' 'card' 'photography' 'Shopping' 'Health & Fitness' 'Finance'\n",
      " 'Casual' 'Medical' 'Racing']\n"
     ]
    }
   ],
   "source": [
    "print( len(data['cetagory'].unique()) , \"categories\")\n",
    "\n",
    "print(\"\\n\", data['cetagory'].unique())"
   ]
  },
  {
   "cell_type": "code",
   "execution_count": 36,
   "metadata": {},
   "outputs": [
    {
     "data": {
      "image/png": "[encoded data removed]",
      "text/plain": [
       "<Figure size 1440x720 with 1 Axes>"
      ]
     },
     "metadata": {},
     "output_type": "display_data"
    }
   ],
   "source": [
    "import seaborn as sns\n",
    "import plotly.plotly as py\n",
    "from plotly.offline import init_notebook_mode, iplot\n",
    "from matplotlib import pyplot\n",
    "import plotly.graph_objs as go\n",
    "%matplotlib inline\n",
    "fig, ax = pyplot.subplots(figsize=(20,10))\n",
    "g = sns.countplot(x=\"cetagory\",data=data, hue=data.rating)\n",
    "g.set_xticklabels(g.get_xticklabels(), rotation=90)\n",
    "plt.title('Count of app in each category',size = 20)\n",
    "plt.savefig('Count of app in each categorys.png')"
   ]
  },
  {
   "cell_type": "code",
   "execution_count": 13,
   "metadata": {},
   "outputs": [
    {
     "data": {
      "text/html": [
       "<script>requirejs.config({paths: { 'plotly': ['https://cdn.plot.ly/plotly-latest.min']},});if(!window.Plotly) {{require(['plotly'],function(plotly) {window.Plotly=plotly;});}}</script>"
      ],
      "text/vnd.plotly.v1+html": [
       "<script>requirejs.config({paths: { 'plotly': ['https://cdn.plot.ly/plotly-latest.min']},});if(!window.Plotly) {{require(['plotly'],function(plotly) {window.Plotly=plotly;});}}</script>"
      ]
     },
     "metadata": {},
     "output_type": "display_data"
    },
    {
     "data": {
      "application/vnd.plotly.v1+json": {
       "data": [
        {
         "hoverinfo": "label+value",
         "labels": [
          "Video Players & Editors",
          "Medical",
          "Weather",
          "Finance",
          "Communication",
          "Sports",
          "Health & Fitness",
          "card",
          "Arcade",
          "photography",
          "Racing",
          "action",
          "Shopping",
          "Casual"
         ],
         "type": "pie",
         "values": [
          20781,
          24002,
          27324,
          28220,
          30000,
          32280,
          34415,
          36520,
          40751,
          41440,
          42384,
          44141,
          47840,
          52560
         ]
        }
       ],
       "layout": {}
      },
      "text/html": [
       "<div id=\"fa40f9b1-0f16-4170-a86e-08b602eb79e2\" style=\"height: 525px; width: 100%;\" class=\"plotly-graph-div\"></div><script type=\"text/javascript\">require([\"plotly\"], function(Plotly) { window.PLOTLYENV=window.PLOTLYENV || {};window.PLOTLYENV.BASE_URL=\"https://plot.ly\";Plotly.newPlot(\"fa40f9b1-0f16-4170-a86e-08b602eb79e2\", [{\"labels\": [\"Video Players & Editors\", \"Medical\", \"Weather\", \"Finance\", \"Communication\", \"Sports\", \"Health & Fitness\", \"card\", \"Arcade\", \"photography\", \"Racing\", \"action\", \"Shopping\", \"Casual\"], \"values\": [20781, 24002, 27324, 28220, 30000, 32280, 34415, 36520, 40751, 41440, 42384, 44141, 47840, 52560], \"type\": \"pie\", \"hoverinfo\": \"label+value\"}], {}, {\"showLink\": true, \"linkText\": \"Export to plot.ly\"})});</script>"
      ],
      "text/vnd.plotly.v1+html": [
       "<div id=\"fa40f9b1-0f16-4170-a86e-08b602eb79e2\" style=\"height: 525px; width: 100%;\" class=\"plotly-graph-div\"></div><script type=\"text/javascript\">require([\"plotly\"], function(Plotly) { window.PLOTLYENV=window.PLOTLYENV || {};window.PLOTLYENV.BASE_URL=\"https://plot.ly\";Plotly.newPlot(\"fa40f9b1-0f16-4170-a86e-08b602eb79e2\", [{\"labels\": [\"Video Players & Editors\", \"Medical\", \"Weather\", \"Finance\", \"Communication\", \"Sports\", \"Health & Fitness\", \"card\", \"Arcade\", \"photography\", \"Racing\", \"action\", \"Shopping\", \"Casual\"], \"values\": [20781, 24002, 27324, 28220, 30000, 32280, 34415, 36520, 40751, 41440, 42384, 44141, 47840, 52560], \"type\": \"pie\", \"hoverinfo\": \"label+value\"}], {}, {\"showLink\": true, \"linkText\": \"Export to plot.ly\"})});</script>"
      ]
     },
     "metadata": {},
     "output_type": "display_data"
    }
   ],
   "source": [
    "import plotly\n",
    "# connected=True means it will download the latest version of plotly javascript library.\n",
    "plotly.offline.init_notebook_mode(connected=True)\n",
    "import plotly.graph_objs as go\n",
    "\n",
    "import plotly.figure_factory as ff\n",
    "number_of_apps_in_category = data['cetagory'].value_counts().sort_values(ascending=True)\n",
    "\n",
    "data = [go.Pie(\n",
    "        labels = number_of_apps_in_category.index,\n",
    "        values = number_of_apps_in_category.values,\n",
    "        hoverinfo = 'label+value'\n",
    "    \n",
    ")]\n",
    "\n",
    "plotly.offline.iplot(data, filename='active_category')"
   ]
  },
  {
   "cell_type": "code",
   "execution_count": 27,
   "metadata": {
    "collapsed": true
   },
   "outputs": [],
   "source": [
    "# first, we import the relevant modules from the NLTK library\n",
    "from nltk.sentiment.vader import SentimentIntensityAnalyzer\n",
    "\n",
    "# next, we initialize VADER so we can use it within our Python script\n",
    "sid = SentimentIntensityAnalyzer()\n",
    "sentimentScore=[]\n",
    "# the variable 'message_text' now contains the text we will analyze.\n",
    "for i in range(len(appsentiments)):    \n",
    "    message_text = appsentiments[i]\n",
    "\n",
    "#print(message_text)\n",
    "\n",
    "# Calling the polarity_scores method on sid and passing in the message_text outputs a dictionary with negative, neutral, positive, and compound scores for the input text\n",
    "    scores = sid.polarity_scores(message_text)\n",
    "    sentimentScore.append(scores['compound'])\n",
    "# Here we loop through the keys contained in scores (pos, neu, neg, and compound scores) and print the key-value pairs on the screen\n",
    "\n",
    "#print(scores['compound'])"
   ]
  },
  {
   "cell_type": "code",
   "execution_count": 14,
   "metadata": {},
   "outputs": [
    {
     "data": {
      "text/plain": [
       "-0.5423"
      ]
     },
     "execution_count": 14,
     "metadata": {},
     "output_type": "execute_result"
    }
   ],
   "source": [
    "scores = sid.polarity_scores('I am bad boy')\n",
    "scores['compound']"
   ]
  },
  {
   "cell_type": "code",
   "execution_count": null,
   "metadata": {},
   "outputs": [],
   "source": []
  },
  {
   "cell_type": "code",
   "execution_count": 35,
   "metadata": {},
   "outputs": [
    {
     "data": {
      "text/plain": [
       "0.46316624999999484"
      ]
     },
     "execution_count": 35,
     "metadata": {},
     "output_type": "execute_result"
    }
   ],
   "source": [
    "sum(sentimentScore)/len(appsentiments)"
   ]
  },
  {
   "cell_type": "code",
   "execution_count": 102,
   "metadata": {},
   "outputs": [
    {
     "name": "stdout",
     "output_type": "stream",
     "text": [
      "124238\n"
     ]
    }
   ],
   "source": [
    "from nltk.sentiment.vader import SentimentIntensityAnalyzer\n",
    "sid = SentimentIntensityAnalyzer()\n",
    "biasedReview=[]\n",
    "Newrating=[]\n",
    "biasedRating=[]\n",
    "#rat=[]\n",
    "count=0\n",
    "# the variable 'message_text' now contains the text we will analyze.\n",
    "for i in range(len(data)):   \n",
    "    #message_text = 'i hate you'\n",
    "\n",
    "#print(message_text)\n",
    "\n",
    "# Calling the polarity_scores method on sid and passing in the message_text outputs a dictionary with negative, neutral, positive, and compound scores for the input text\n",
    "    b = TextBlob(data.reviews[i])\n",
    "    #scores = sid.polarity_scores(data.reviews[i])\n",
    "    value=b.sentiment[0]\n",
    "    #value=scores['neg']\n",
    "    rat=data.rating[i]\n",
    "    if value<=0 and rat >2.5:\n",
    "        count=count+1\n",
    "        biasedReview.append(data.reviews[i])\n",
    "        biasedRating.append(rat)\n",
    "    else:\n",
    "        Newrating.append(rat)\n",
    "print(count)"
   ]
  },
  {
   "cell_type": "code",
   "execution_count": 78,
   "metadata": {},
   "outputs": [
    {
     "name": "stdout",
     "output_type": "stream",
     "text": [
      "124238\n"
     ]
    }
   ],
   "source": [
    "from nltk.sentiment.vader import SentimentIntensityAnalyzer\n",
    "sid = SentimentIntensityAnalyzer()\n",
    "biasedReview=[]\n",
    "Newrating=[]\n",
    "biasedRating=[]\n",
    "#rat=[]\n",
    "count=0\n",
    "# the variable 'message_text' now contains the text we will analyze.\n",
    "for i in range(len(data)):   \n",
    "    #message_text = 'i hate you'\n",
    "\n",
    "#print(message_text)\n",
    "\n",
    "# Calling the polarity_scores method on sid and passing in the message_text outputs a dictionary with negative, neutral, positive, and compound scores for the input text\n",
    "    b = TextBlob(data.reviews[i])\n",
    "    #scores = sid.polarity_scores(data.reviews[i])\n",
    "    value=b.sentiment[0]\n",
    "    #value=scores['neg']\n",
    "    rat=data.rating[i]\n",
    "    if value<=0 and rat >2.5:\n",
    "        count=count+1\n",
    "        biasedReview.append(data.reviews[i])\n",
    "        biasedRating.append(rat)\n",
    "    else:\n",
    "        Newrating.append(rat)\n",
    "print(count)"
   ]
  },
  {
   "cell_type": "code",
   "execution_count": 23,
   "metadata": {},
   "outputs": [
    {
     "name": "stdout",
     "output_type": "stream",
     "text": [
      "134079\n"
     ]
    }
   ],
   "source": [
    "from nltk.sentiment.vader import SentimentIntensityAnalyzer\n",
    "sid = SentimentIntensityAnalyzer()\n",
    "biasedReview=[]\n",
    "Newrating=[]\n",
    "biasedRating=[]\n",
    "#rat=[]\n",
    "from textblob import TextBlob\n",
    "count=0\n",
    "# the variable 'message_text' now contains the text we will analyze.\n",
    "for i in range(len(data)):   \n",
    "    #message_text = 'i hate you'\n",
    "\n",
    "#print(message_text)\n",
    "\n",
    "# Calling the polarity_scores method on sid and passing in the message_text outputs a dictionary with negative, neutral, positive, and compound scores for the input text\n",
    "    b = TextBlob(data.reviews[i])\n",
    "    #scores = sid.polarity_scores(data.reviews[i])\n",
    "    value=b.sentiment[0]\n",
    "    #value=scores['neg']\n",
    "    rat=data.rating[i]\n",
    "    if value<=0 and rat >=2:\n",
    "        count=count+1\n",
    "        biasedReview.append(data.reviews[i])\n",
    "        biasedRating.append(rat)\n",
    "    else:\n",
    "        Newrating.append(rat)\n",
    "print(count)"
   ]
  },
  {
   "cell_type": "code",
   "execution_count": 70,
   "metadata": {},
   "outputs": [],
   "source": [
    "df = pd.DataFrame(biasedRating)\n",
    "#The game cheats and way too many advertisemen"
   ]
  },
  {
   "cell_type": "code",
   "execution_count": 25,
   "metadata": {},
   "outputs": [],
   "source": [
    "dfWithTwoRating = pd.DataFrame(\n",
    "    {'biasedRating': biasedRating,\n",
    "     'biasedReview': biasedReview\n",
    "     \n",
    "    })\n"
   ]
  },
  {
   "cell_type": "code",
   "execution_count": 28,
   "metadata": {},
   "outputs": [
    {
     "data": {
      "text/plain": [
       "5    89034\n",
       "4    20479\n",
       "3    14725\n",
       "2     9841\n",
       "Name: biasedRating, dtype: int64"
      ]
     },
     "execution_count": 28,
     "metadata": {},
     "output_type": "execute_result"
    }
   ],
   "source": [
    "dfWithTwoRating.biasedRating.value_counts()"
   ]
  },
  {
   "cell_type": "code",
   "execution_count": 29,
   "metadata": {},
   "outputs": [
    {
     "data": {
      "text/plain": [
       "134079"
      ]
     },
     "execution_count": 29,
     "metadata": {},
     "output_type": "execute_result"
    }
   ],
   "source": [
    "dfWithTwoRating.biasedRating.count()"
   ]
  },
  {
   "cell_type": "code",
   "execution_count": 30,
   "metadata": {},
   "outputs": [
    {
     "data": {
      "text/plain": [
       "5    247747\n",
       "1     49608\n",
       "4     47940\n",
       "3     17513\n",
       "2      5764\n",
       "0         7\n",
       "Name: Newrating, dtype: int64"
      ]
     },
     "execution_count": 30,
     "metadata": {},
     "output_type": "execute_result"
    }
   ],
   "source": [
    "dfWithTwoRatingNew = pd.DataFrame(\n",
    "    {'Newrating': Newrating\n",
    "     \n",
    "    })\n",
    "dfWithTwoRatingNew.Newrating.value_counts()"
   ]
  },
  {
   "cell_type": "code",
   "execution_count": 75,
   "metadata": {},
   "outputs": [
    {
     "data": {
      "text/plain": [
       "5    336781\n",
       "4     68419\n",
       "1     49608\n",
       "3     32238\n",
       "2     15605\n",
       "0         7\n",
       "Name: rating, dtype: int64"
      ]
     },
     "execution_count": 75,
     "metadata": {},
     "output_type": "execute_result"
    }
   ],
   "source": [
    "data.rating.value_counts()"
   ]
  },
  {
   "cell_type": "code",
   "execution_count": 113,
   "metadata": {},
   "outputs": [
    {
     "data": {
      "text/html": [
       "<div>\n",
       "<style scoped>\n",
       "    .dataframe tbody tr th:only-of-type {\n",
       "        vertical-align: middle;\n",
       "    }\n",
       "\n",
       "    .dataframe tbody tr th {\n",
       "        vertical-align: top;\n",
       "    }\n",
       "\n",
       "    .dataframe thead th {\n",
       "        text-align: right;\n",
       "    }\n",
       "</style>\n",
       "<table border=\"1\" class=\"dataframe\">\n",
       "  <thead>\n",
       "    <tr style=\"text-align: right;\">\n",
       "      <th></th>\n",
       "      <th>biasedRating</th>\n",
       "      <th>biasedReview</th>\n",
       "    </tr>\n",
       "  </thead>\n",
       "  <tbody>\n",
       "    <tr>\n",
       "      <th>0</th>\n",
       "      <td>4</td>\n",
       "      <td>Very easy game to play, and has actually give...</td>\n",
       "    </tr>\n",
       "    <tr>\n",
       "      <th>1</th>\n",
       "      <td>5</td>\n",
       "      <td>I'm not going to lie.I just started playing t...</td>\n",
       "    </tr>\n",
       "  </tbody>\n",
       "</table>\n",
       "</div>"
      ],
      "text/plain": [
       "   biasedRating                                       biasedReview\n",
       "0             4   Very easy game to play, and has actually give...\n",
       "1             5   I'm not going to lie.I just started playing t..."
      ]
     },
     "execution_count": 113,
     "metadata": {},
     "output_type": "execute_result"
    }
   ],
   "source": [
    "df = pd.DataFrame(\n",
    "    {'biasedRating': biasedRating,\n",
    "     'biasedReview': biasedReview\n",
    "     \n",
    "    })\n",
    "df.head(2)"
   ]
  },
  {
   "cell_type": "code",
   "execution_count": 116,
   "metadata": {},
   "outputs": [],
   "source": [
    "df.to_csv(r'BiasedDataset.csv')\n"
   ]
  },
  {
   "cell_type": "code",
   "execution_count": 114,
   "metadata": {},
   "outputs": [
    {
     "data": {
      "text/plain": [
       "5    89034\n",
       "4    20479\n",
       "3    14725\n",
       "Name: biasedRating, dtype: int64"
      ]
     },
     "execution_count": 114,
     "metadata": {},
     "output_type": "execute_result"
    }
   ],
   "source": [
    "#df.to_csv(r'BiasedDataset.csv')\n",
    "df.biasedRating.value_counts()"
   ]
  },
  {
   "cell_type": "code",
   "execution_count": 117,
   "metadata": {},
   "outputs": [],
   "source": [
    "df1 = pd.DataFrame(\n",
    "    {'NewRating': Newrating\n",
    "     \n",
    "    })\n",
    "df1.head(2)\n",
    "df1.to_csv(r'BiasedDatasetNewRating.csv')"
   ]
  },
  {
   "cell_type": "code",
   "execution_count": 86,
   "metadata": {},
   "outputs": [
    {
     "data": {
      "text/plain": [
       "5    247747\n",
       "1     49608\n",
       "4     47940\n",
       "3     17513\n",
       "2     15605\n",
       "0         7\n",
       "Name: NewRating, dtype: int64"
      ]
     },
     "execution_count": 86,
     "metadata": {},
     "output_type": "execute_result"
    }
   ],
   "source": [
    "df1.NewRating.value_counts()"
   ]
  },
  {
   "cell_type": "code",
   "execution_count": 94,
   "metadata": {},
   "outputs": [
    {
     "data": {
      "text/plain": [
       "124238"
      ]
     },
     "execution_count": 94,
     "metadata": {},
     "output_type": "execute_result"
    }
   ],
   "source": [
    "len(biasedReview)"
   ]
  },
  {
   "cell_type": "code",
   "execution_count": 101,
   "metadata": {},
   "outputs": [
    {
     "data": {
      "text/plain": [
       "0"
      ]
     },
     "execution_count": 101,
     "metadata": {},
     "output_type": "execute_result"
    }
   ],
   "source": [
    "biasedRating.count(2)"
   ]
  },
  {
   "cell_type": "code",
   "execution_count": 48,
   "metadata": {},
   "outputs": [
    {
     "name": "stdout",
     "output_type": "stream",
     "text": [
      "124238\n"
     ]
    }
   ],
   "source": [
    "from nltk.sentiment.vader import SentimentIntensityAnalyzer\n",
    "sid = SentimentIntensityAnalyzer()\n",
    "sentimentScore=[]\n",
    "#rat=[]\n",
    "count=0\n",
    "# the variable 'message_text' now contains the text we will analyze.\n",
    "for i in range(len(data)):   \n",
    "    #message_text = 'i hate you'\n",
    "\n",
    "#print(message_text)\n",
    "\n",
    "# Calling the polarity_scores method on sid and passing in the message_text outputs a dictionary with negative, neutral, positive, and compound scores for the input text\n",
    "    b = TextBlob(data.reviews[i])\n",
    "    #scores = sid.polarity_scores(data.reviews[i])\n",
    "    value=b.sentiment[0]\n",
    "    #value=scores['neg']\n",
    "    rat=data.rating[i]\n",
    "    if value<=0 and rat > 2.5:\n",
    "        count=count+1\n",
    "print(count)"
   ]
  },
  {
   "cell_type": "code",
   "execution_count": null,
   "metadata": {},
   "outputs": [],
   "source": [
    "for i in range(len(data)): \n",
    "    if data.cetagory=='Sports':\n",
    "        sportsReviews.append(data.re)"
   ]
  },
  {
   "cell_type": "code",
   "execution_count": 25,
   "metadata": {},
   "outputs": [
    {
     "data": {
      "text/plain": [
       "<matplotlib.legend.Legend at 0xc30da837f0>"
      ]
     },
     "execution_count": 25,
     "metadata": {},
     "output_type": "execute_result"
    },
    {
     "data": {
      "image/png": "[encoded data removed]",
      "text/plain": [
       "<matplotlib.figure.Figure at 0xc30d485dd8>"
      ]
     },
     "metadata": {},
     "output_type": "display_data"
    }
   ],
   "source": [
    "import matplotlib\n",
    "import matplotlib.pyplot as plt\n",
    "import numpy as np\n",
    "x1=[0.72791,0.69333,0.67375,0.71955]\n",
    "x2=[0.69958,0.70375,0.70575,0.71041]\n",
    "# Data\n",
    "df=pd.DataFrame({'x': range(0,4), 'Random Forest': x1, 'Gradient Boosting Classifier': x2})\n",
    "\n",
    "# multiple line plot\n",
    "fig, ax = plt.subplots(figsize=(18,6))\n",
    "ax.set_title(\"Accuracy Comparison of Random Forest & Gradient Boosting Classifier\")\n",
    "plt.plot( 'x', 'Random Forest', data=df, marker='o', markerfacecolor='blue', markersize=12, color='skyblue', linewidth=4)\n",
    "plt.plot( 'x', 'Gradient Boosting Classifier', data=df, marker='', color='olive', linewidth=2)\n",
    "plt.legend()"
   ]
  },
  {
   "cell_type": "code",
   "execution_count": 58,
   "metadata": {},
   "outputs": [
    {
     "data": {
      "image/png": "[encoded data removed]",
      "text/plain": [
       "<matplotlib.figure.Figure at 0xc30cda79e8>"
      ]
     },
     "metadata": {},
     "output_type": "display_data"
    }
   ],
   "source": [
    "from matplotlib import pyplot\n",
    "%matplotlib inline\n",
    "import seaborn as sns\n",
    "#x=category\n",
    "ylist =[64,63,70,74,68,66,70,72,69,81,63,75,77,74]\n",
    "fig, ax = pyplot.subplots(figsize=(15,10))\n",
    "ax.set_title(\"Most Given Rating\")\n",
    "ax = sns.barplot(y=category, x=ylist,ax=ax)  "
   ]
  },
  {
   "cell_type": "code",
   "execution_count": 29,
   "metadata": {
    "collapsed": true
   },
   "outputs": [],
   "source": [
    "category=data.cetagory.unique()"
   ]
  },
  {
   "cell_type": "code",
   "execution_count": 82,
   "metadata": {
    "collapsed": true
   },
   "outputs": [],
   "source": [
    "textS='It is great my kids love to play it. Thank you for having this game on game store.'\n",
    "textS=textS.lower()"
   ]
  },
  {
   "cell_type": "code",
   "execution_count": 83,
   "metadata": {
    "collapsed": true
   },
   "outputs": [],
   "source": [
    "cleaned=re.sub(r\"(?is)<(script|style).*?>.*?(</\\1>)\", \"\", textS.strip())\n",
    "cleaned =re.sub(r\"(?s)<!--(.*?)-->[\\n]?\", \"\", cleaned)\n",
    "cleaned = re.sub(r\"(?s)<.*?>\", \" \", cleaned)"
   ]
  },
  {
   "cell_type": "code",
   "execution_count": 84,
   "metadata": {},
   "outputs": [
    {
     "data": {
      "text/plain": [
       "'great kids love play . thank game game store .'"
      ]
     },
     "execution_count": 84,
     "metadata": {},
     "output_type": "execute_result"
    }
   ],
   "source": [
    "stop_words = set(stopwords.words('english'))\n",
    "from nltk.tokenize import word_tokenize\n",
    "tokens = word_tokenize(cleaned)\n",
    "result = [i for i in tokens if not i in stop_words]\n",
    "review=' '.join(result)\n",
    "review"
   ]
  },
  {
   "cell_type": "code",
   "execution_count": 87,
   "metadata": {},
   "outputs": [
    {
     "data": {
      "text/plain": [
       "'great kid love play . thank game game store .'"
      ]
     },
     "execution_count": 87,
     "metadata": {},
     "output_type": "execute_result"
    }
   ],
   "source": [
    "from nltk.stem import PorterStemmer\n",
    "from nltk.tokenize import word_tokenize\n",
    "stemmer= PorterStemmer()\n",
    "final=[]\n",
    "input_str=word_tokenize(review)\n",
    "for word in input_str:\n",
    "    final.append(stemmer.stem(word))\n",
    "finals=' '.join(final)\n",
    "finals"
   ]
  },
  {
   "cell_type": "code",
   "execution_count": 90,
   "metadata": {},
   "outputs": [
    {
     "name": "stderr",
     "output_type": "stream",
     "text": [
      "C:\\Users\\Muhammad Umer\\Anaconda3\\lib\\site-packages\\sklearn\\feature_extraction\\text.py:1089: FutureWarning: Conversion of the second argument of issubdtype from `float` to `np.floating` is deprecated. In future, it will be treated as `np.float64 == np.dtype(float).type`.\n",
      "  if hasattr(X, 'dtype') and np.issubdtype(X.dtype, np.float):\n"
     ]
    },
    {
     "data": {
      "text/html": [
       "<div>\n",
       "<style>\n",
       "    .dataframe thead tr:only-child th {\n",
       "        text-align: right;\n",
       "    }\n",
       "\n",
       "    .dataframe thead th {\n",
       "        text-align: left;\n",
       "    }\n",
       "\n",
       "    .dataframe tbody tr th {\n",
       "        vertical-align: top;\n",
       "    }\n",
       "</style>\n",
       "<table border=\"1\" class=\"dataframe\">\n",
       "  <thead>\n",
       "    <tr style=\"text-align: right;\">\n",
       "      <th></th>\n",
       "      <th>game</th>\n",
       "      <th>great</th>\n",
       "      <th>kid</th>\n",
       "      <th>love</th>\n",
       "      <th>play</th>\n",
       "      <th>store</th>\n",
       "      <th>thank</th>\n",
       "    </tr>\n",
       "  </thead>\n",
       "  <tbody>\n",
       "    <tr>\n",
       "      <th>0</th>\n",
       "      <td>0.632456</td>\n",
       "      <td>0.316228</td>\n",
       "      <td>0.316228</td>\n",
       "      <td>0.316228</td>\n",
       "      <td>0.316228</td>\n",
       "      <td>0.316228</td>\n",
       "      <td>0.316228</td>\n",
       "    </tr>\n",
       "  </tbody>\n",
       "</table>\n",
       "</div>"
      ],
      "text/plain": [
       "       game     great       kid      love      play     store     thank\n",
       "0  0.632456  0.316228  0.316228  0.316228  0.316228  0.316228  0.316228"
      ]
     },
     "execution_count": 90,
     "metadata": {},
     "output_type": "execute_result"
    }
   ],
   "source": [
    "from sklearn.feature_extraction.text import TfidfVectorizer\n",
    "cv1 = TfidfVectorizer()\n",
    "x_traincv = cv1.fit_transform([\"great kid love play . thank game game store .\"])\n",
    "x_traincv_df = pd.DataFrame(x_traincv.toarray(),columns=list(cv1.get_feature_names()))\n",
    "x_traincv_df"
   ]
  }
 ],
 "metadata": {
  "anaconda-cloud": {},
  "kernelspec": {
   "display_name": "Python [default]",
   "language": "python",
   "name": "python3"
  },
  "language_info": {
   "codemirror_mode": {
    "name": "ipython",
    "version": 3
   },
   "file_extension": ".py",
   "mimetype": "text/x-python",
   "name": "python",
   "nbconvert_exporter": "python",
   "pygments_lexer": "ipython3",
   "version": "3.5.6"
  }
 },
 "nbformat": 4,
 "nbformat_minor": 2
}
